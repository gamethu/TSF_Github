{
 "cells": [
  {
   "cell_type": "markdown",
   "metadata": {},
   "source": [
    "### <span style = \"color:orange\">1. Introduction<span>"
   ]
  },
  {
   "cell_type": "markdown",
   "metadata": {},
   "source": [
    "#### <span style=\"color:green\">1.1. Project purpose</span>"
   ]
  },
  {
   "cell_type": "markdown",
   "metadata": {},
   "source": [
    "Xây dựng và đánh giá tập hợp các mô hình dự báo chuỗi thời gian để dự đoán nhiệt độ cực đại hàng ngày tại các khu vực đô thị và ven biển Việt Nam. Dự án áp dụng cả thuật toán Machine Learning truyền thống và Deep Learning hiện đại nhằm cải thiện độ chính xác dự báo so với các phương pháp thống kê thông thường.\n",
    "\n",
    "<b>Nguồn dữ liệu</b>: Bộ dữ liệu ERA5 (ECMWF) với các bản ghi nhiệt độ từ 1990 đến 2024, được xử lý và biến đổi để huấn luyện các mô hình như Random Forest, XGBoost, LSTM, Transformer, TFT, và N-BEATS.\n",
    "\n",
    "<b>Kết quả</b>: Đánh giá hiệu năng giữa các mô hình qua nhiều kịch bản thực nghiệm và đề xuất hệ thống cảnh báo nhiệt độ sớm ứng dụng thực tế."
   ]
  },
  {
   "cell_type": "markdown",
   "metadata": {},
   "source": [
    "#### <span style=\"color:green\">1.2. Data source and description</span>"
   ]
  },
  {
   "cell_type": "markdown",
   "metadata": {},
   "source": [
    "<h4>Thông tin dữ liệu trong đề tài:</h4>\n",
    "\n",
    "<ul>\n",
    "<li><b>Thời gian thu thập:</b> từ năm <b>1990 đến 2024</b></li>\n",
    "<li><b>Định dạng ban đầu:</b> .grib, sau đó chuyển đổi sang .csv để xử lý</li>\n",
    "</ul>\n",
    "\n",
    "<h4>Các biến số chính trong tập dữ liệu:</h4>\n",
    "\n",
    "<table>\n",
    "<thead>\n",
    "<tr>\n",
    "<th>Tên cột dữ liệu</th>\n",
    "<th>Ý nghĩa</th>\n",
    "<th>Đơn vị đo</th>\n",
    "</tr>\n",
    "</thead>\n",
    "<tbody>\n",
    "<tr><td><code>NAME</code></td><td>Tên tỉnh/thành phố nơi thu thập dữ liệu</td><td>-</td></tr>\n",
    "<tr><td><code>LATITUDE</code></td><td>Vĩ độ địa lý của điểm đo</td><td>Độ</td></tr>\n",
    "<tr><td><code>LONGITUDE</code></td><td>Kinh độ địa lý của điểm đo</td><td>Độ</td></tr>\n",
    "<tr><td><code>YMD</code></td><td>Ngày/tháng/năm đo đạc</td><td>dd/mm/yyyy</td></tr>\n",
    "<tr><td><code>YEAR</code></td><td>Năm đo đạc</td><td>Năm</td></tr>\n",
    "<tr><td><code>MONTH</code></td><td>Tháng đo đạc</td><td>Tháng</td></tr>\n",
    "<tr><td><code>DAY</code></td><td>Ngày đo đạc</td><td>Ngày</td></tr>\n",
    "<tr><td><code>TEMP_max</code></td><td>Nhiệt độ không khí cực đại trong ngày</td><td>°C</td></tr>\n",
    "<tr><td><code>TEMP_ave</code></td><td>Nhiệt độ trung bình trong ngày</td><td>°C</td></tr>\n",
    "<tr><td><code>DEW_ave</code></td><td>Điểm sương trung bình trong ngày</td><td>°C</td></tr>\n",
    "<tr><td><code>DEW_max</code></td><td>Điểm sương cao nhất trong ngày</td><td>°C</td></tr>\n",
    "<tr><td><code>RH_ave</code></td><td>Độ ẩm tương đối trung bình trong ngày</td><td>%</td></tr>\n",
    "<tr><td><code>RH_max</code></td><td>Độ ẩm tương đối cực đại trong ngày</td><td>%</td></tr>\n",
    "<tr><td><code>AT_ave</code></td><td>Nhiệt độ cảm nhận trung bình trong ngày (Apparent Temp.)</td><td>°C</td></tr>\n",
    "<tr><td><code>AT_max</code></td><td>Nhiệt độ cảm nhận cao nhất trong ngày</td><td>°C</td></tr>\n",
    "</tbody>\n",
    "</table>\n",
    "\n",
    "<p><b>Biến mục tiêu chính:</b></p>\n",
    "<ul>\n",
    "<li><code>TEMP_max</code> — Nhiệt độ không khí cực đại hàng ngày (°C)</li>\n",
    "</ul>\n",
    "\n",
    "<p><b>Lưu ý:</b> Dữ liệu gốc của ERA5 có thể chứa giá trị thiếu, giá trị ngoại lai và một số dị bản khí tượng đặc thù. Do đó, quá trình làm sạch dữ liệu, xử lý giá trị thiếu, phát hiện ngoại lệ và chuẩn hóa dữ liệu là các bước bắt buộc trước khi tiến hành huấn luyện và dự báo.</p>"
   ]
  },
  {
   "cell_type": "code",
   "execution_count": 1,
   "metadata": {},
   "outputs": [],
   "source": [
    "match_type = {\n",
    "    'NAME'       : 'Categorical',        # Tên tỉnh/thành phố (chuỗi)\n",
    "    'LATITUDE'   : 'Numerical',          # Vĩ độ (°)\n",
    "    'LONGITUDE'  : 'Numerical',          # Kinh độ (°)\n",
    "    'YMD'        : 'Datetime',           # Ngày/tháng/năm (dd/mm/yyyy)\n",
    "    'YEAR'       : 'Numerical',          # Năm (năm)\n",
    "    'MONTH'      : 'Numerical',          # Tháng (1-12)\n",
    "    'DAY'        : 'Numerical',          # Ngày (1-31)\n",
    "\n",
    "    'TEMP_max'   : 'Numerical',          # Nhiệt độ cực đại trong ngày (°C)\n",
    "    'TEMP_ave'   : 'Numerical',          # Nhiệt độ trung bình trong ngày (°C)\n",
    "    'DEW_ave'    : 'Numerical',          # Điểm sương trung bình trong ngày (°C)\n",
    "    'DEW_max'    : 'Numerical',          # Điểm sương cực đại trong ngày (°C)\n",
    "    'RH_ave'     : 'Numerical',          # Độ ẩm tương đối trung bình trong ngày (%)\n",
    "    'RH_max'     : 'Numerical',          # Độ ẩm tương đối cực đại trong ngày (%)\n",
    "    'AT_ave'     : 'Numerical',          # Nhiệt độ cảm nhận trung bình trong ngày (°C)\n",
    "    'AT_max'     : 'Numerical'           # Nhiệt độ cảm nhận cực đại trong ngày (°C)\n",
    "}"
   ]
  },
  {
   "cell_type": "markdown",
   "metadata": {},
   "source": [
    "#### <span style=\"color:green\">1.3. Goals</span>"
   ]
  },
  {
   "cell_type": "markdown",
   "metadata": {},
   "source": [
    "![Ảnh chụp màn hình 2025-06-24 210616.png](<attachment:Ảnh chụp màn hình 2025-06-24 210616.png>)"
   ]
  },
  {
   "cell_type": "markdown",
   "metadata": {},
   "source": [
    "### <span style=\"color:orange\">2. Import Libraries</span>"
   ]
  },
  {
   "cell_type": "markdown",
   "metadata": {},
   "source": [
    "#### <span style=\"color:green\">2.1. Configuration and display settings</span>"
   ]
  },
  {
   "cell_type": "code",
   "execution_count": 2,
   "metadata": {},
   "outputs": [],
   "source": [
    "import sys\n",
    "sys.path.append(\"../\")  # đường dẫn đến thư mục chứa src\n",
    "\n",
    "from src import (config, \n",
    "                 dataset, \n",
    "                 features, \n",
    "                 plots)"
   ]
  },
  {
   "cell_type": "markdown",
   "metadata": {},
   "source": [
    "#### <span style=\"color:green\">2.2. Required Python packages</span>"
   ]
  },
  {
   "cell_type": "code",
   "execution_count": 3,
   "metadata": {},
   "outputs": [],
   "source": [
    "import os\n",
    "import numpy as np\n",
    "import pandas as pd\n",
    "import matplotlib.pyplot as plt\n",
    "import seaborn as sns\n",
    "import metpy\n",
    "import metpy.calc\n",
    "\n",
    "from metpy.units import units\n",
    "from copy        import deepcopy"
   ]
  },
  {
   "cell_type": "markdown",
   "metadata": {},
   "source": [
    "### <span style=\"color:orange\">3. Data Loading</span>"
   ]
  },
  {
   "cell_type": "code",
   "execution_count": 4,
   "metadata": {},
   "outputs": [],
   "source": [
    "src = dict({\"CaMau\" :\"../data/processed/datasets/CaMau90.24_cleaned.csv\",\n",
    "            \"NB\"    : \"../data/processed/datasets/NB90.24_cleaned.csv\",\n",
    "            \"QN\"    : \"../data/processed/datasets/QN90.24_cleaned.csv\",\n",
    "            \"TSN\"   : \"../data/processed/datasets/TSN90.24_cleaned.csv\"})"
   ]
  },
  {
   "cell_type": "markdown",
   "metadata": {},
   "source": [
    "#### <span style=\"color:green\">3.1. Loading the dataset</span>"
   ]
  },
  {
   "cell_type": "code",
   "execution_count": 6,
   "metadata": {},
   "outputs": [],
   "source": [
    "df = pd.read_csv(filepath_or_buffer = src[\"CaMau\"],\n",
    "                 parse_dates        = True,\n",
    "                 index_col          = \"time\")"
   ]
  },
  {
   "cell_type": "markdown",
   "metadata": {},
   "source": [
    "#### <span style=\"color:green\">3.2. Displaying first few rows</span>"
   ]
  },
  {
   "cell_type": "code",
   "execution_count": 7,
   "metadata": {},
   "outputs": [
    {
     "data": {
      "application/vnd.microsoft.datawrangler.viewer.v0+json": {
       "columns": [
        {
         "name": "time",
         "rawType": "datetime64[ns, UTC+07:00]",
         "type": "unknown"
        },
        {
         "name": "latitude",
         "rawType": "float64",
         "type": "float"
        },
        {
         "name": "longitude",
         "rawType": "float64",
         "type": "float"
        },
        {
         "name": "number",
         "rawType": "float64",
         "type": "float"
        },
        {
         "name": "step",
         "rawType": "object",
         "type": "string"
        },
        {
         "name": "surface",
         "rawType": "float64",
         "type": "float"
        },
        {
         "name": "sp",
         "rawType": "float64",
         "type": "float"
        },
        {
         "name": "tcc",
         "rawType": "float64",
         "type": "float"
        },
        {
         "name": "tp",
         "rawType": "float64",
         "type": "float"
        },
        {
         "name": "u10",
         "rawType": "float64",
         "type": "float"
        },
        {
         "name": "v10",
         "rawType": "float64",
         "type": "float"
        },
        {
         "name": "wind_speed",
         "rawType": "float64",
         "type": "float"
        },
        {
         "name": "wind_direction_deg",
         "rawType": "float64",
         "type": "float"
        }
       ],
       "ref": "47726638-0233-44b7-8fe0-e9de637e5a54",
       "rows": [
        [
         "1990-01-01 00:00:00+07:00",
         "9.18",
         "105.15",
         "0.0",
         "0 days",
         "0.0",
         "100962.625",
         "0.9091449",
         "0.0046370418372061",
         "-0.37238258",
         "0.39113623",
         "0.5400521607271553",
         "136.40702360861093"
        ],
        [
         "1990-01-01 01:00:00+07:00",
         "9.18",
         "105.15",
         "0.0",
         "0 days",
         "0.0",
         "100962.625",
         "0.9091449",
         "0.0046370418372061",
         "-0.37238258",
         "0.39113623",
         "0.5400521607271553",
         "136.40702360861093"
        ],
        [
         "1990-01-01 02:00:00+07:00",
         "9.18",
         "105.15",
         "0.0",
         "0 days",
         "0.0",
         "100962.625",
         "0.9091449",
         "0.0046370418372061",
         "-0.37238258",
         "0.39113623",
         "0.5400521607271553",
         "136.40702360861093"
        ],
        [
         "1990-01-01 03:00:00+07:00",
         "9.18",
         "105.15",
         "0.0",
         "0 days",
         "0.0",
         "100962.625",
         "0.9091449",
         "0.0046370418372061",
         "-0.37238258",
         "0.39113623",
         "0.5400521607271553",
         "136.40702360861093"
        ],
        [
         "1990-01-01 04:00:00+07:00",
         "9.18",
         "105.15",
         "0.0",
         "0 days",
         "0.0",
         "100962.625",
         "0.9091449",
         "0.0046370418372061",
         "-0.37238258",
         "0.39113623",
         "0.5400521607271553",
         "136.40702360861093"
        ]
       ],
       "shape": {
        "columns": 12,
        "rows": 5
       }
      },
      "text/html": [
       "<div>\n",
       "<style scoped>\n",
       "    .dataframe tbody tr th:only-of-type {\n",
       "        vertical-align: middle;\n",
       "    }\n",
       "\n",
       "    .dataframe tbody tr th {\n",
       "        vertical-align: top;\n",
       "    }\n",
       "\n",
       "    .dataframe thead th {\n",
       "        text-align: right;\n",
       "    }\n",
       "</style>\n",
       "<table border=\"1\" class=\"dataframe\">\n",
       "  <thead>\n",
       "    <tr style=\"text-align: right;\">\n",
       "      <th></th>\n",
       "      <th>latitude</th>\n",
       "      <th>longitude</th>\n",
       "      <th>number</th>\n",
       "      <th>step</th>\n",
       "      <th>surface</th>\n",
       "      <th>sp</th>\n",
       "      <th>tcc</th>\n",
       "      <th>tp</th>\n",
       "      <th>u10</th>\n",
       "      <th>v10</th>\n",
       "      <th>wind_speed</th>\n",
       "      <th>wind_direction_deg</th>\n",
       "    </tr>\n",
       "    <tr>\n",
       "      <th>time</th>\n",
       "      <th></th>\n",
       "      <th></th>\n",
       "      <th></th>\n",
       "      <th></th>\n",
       "      <th></th>\n",
       "      <th></th>\n",
       "      <th></th>\n",
       "      <th></th>\n",
       "      <th></th>\n",
       "      <th></th>\n",
       "      <th></th>\n",
       "      <th></th>\n",
       "    </tr>\n",
       "  </thead>\n",
       "  <tbody>\n",
       "    <tr>\n",
       "      <th>1990-01-01 00:00:00+07:00</th>\n",
       "      <td>9.18</td>\n",
       "      <td>105.15</td>\n",
       "      <td>0.0</td>\n",
       "      <td>0 days</td>\n",
       "      <td>0.0</td>\n",
       "      <td>100962.625</td>\n",
       "      <td>0.909145</td>\n",
       "      <td>0.004637</td>\n",
       "      <td>-0.372383</td>\n",
       "      <td>0.391136</td>\n",
       "      <td>0.540052</td>\n",
       "      <td>136.407024</td>\n",
       "    </tr>\n",
       "    <tr>\n",
       "      <th>1990-01-01 01:00:00+07:00</th>\n",
       "      <td>9.18</td>\n",
       "      <td>105.15</td>\n",
       "      <td>0.0</td>\n",
       "      <td>0 days</td>\n",
       "      <td>0.0</td>\n",
       "      <td>100962.625</td>\n",
       "      <td>0.909145</td>\n",
       "      <td>0.004637</td>\n",
       "      <td>-0.372383</td>\n",
       "      <td>0.391136</td>\n",
       "      <td>0.540052</td>\n",
       "      <td>136.407024</td>\n",
       "    </tr>\n",
       "    <tr>\n",
       "      <th>1990-01-01 02:00:00+07:00</th>\n",
       "      <td>9.18</td>\n",
       "      <td>105.15</td>\n",
       "      <td>0.0</td>\n",
       "      <td>0 days</td>\n",
       "      <td>0.0</td>\n",
       "      <td>100962.625</td>\n",
       "      <td>0.909145</td>\n",
       "      <td>0.004637</td>\n",
       "      <td>-0.372383</td>\n",
       "      <td>0.391136</td>\n",
       "      <td>0.540052</td>\n",
       "      <td>136.407024</td>\n",
       "    </tr>\n",
       "    <tr>\n",
       "      <th>1990-01-01 03:00:00+07:00</th>\n",
       "      <td>9.18</td>\n",
       "      <td>105.15</td>\n",
       "      <td>0.0</td>\n",
       "      <td>0 days</td>\n",
       "      <td>0.0</td>\n",
       "      <td>100962.625</td>\n",
       "      <td>0.909145</td>\n",
       "      <td>0.004637</td>\n",
       "      <td>-0.372383</td>\n",
       "      <td>0.391136</td>\n",
       "      <td>0.540052</td>\n",
       "      <td>136.407024</td>\n",
       "    </tr>\n",
       "    <tr>\n",
       "      <th>1990-01-01 04:00:00+07:00</th>\n",
       "      <td>9.18</td>\n",
       "      <td>105.15</td>\n",
       "      <td>0.0</td>\n",
       "      <td>0 days</td>\n",
       "      <td>0.0</td>\n",
       "      <td>100962.625</td>\n",
       "      <td>0.909145</td>\n",
       "      <td>0.004637</td>\n",
       "      <td>-0.372383</td>\n",
       "      <td>0.391136</td>\n",
       "      <td>0.540052</td>\n",
       "      <td>136.407024</td>\n",
       "    </tr>\n",
       "  </tbody>\n",
       "</table>\n",
       "</div>"
      ],
      "text/plain": [
       "                           latitude  longitude  number    step  surface  \\\n",
       "time                                                                      \n",
       "1990-01-01 00:00:00+07:00      9.18     105.15     0.0  0 days      0.0   \n",
       "1990-01-01 01:00:00+07:00      9.18     105.15     0.0  0 days      0.0   \n",
       "1990-01-01 02:00:00+07:00      9.18     105.15     0.0  0 days      0.0   \n",
       "1990-01-01 03:00:00+07:00      9.18     105.15     0.0  0 days      0.0   \n",
       "1990-01-01 04:00:00+07:00      9.18     105.15     0.0  0 days      0.0   \n",
       "\n",
       "                                   sp       tcc        tp       u10       v10  \\\n",
       "time                                                                            \n",
       "1990-01-01 00:00:00+07:00  100962.625  0.909145  0.004637 -0.372383  0.391136   \n",
       "1990-01-01 01:00:00+07:00  100962.625  0.909145  0.004637 -0.372383  0.391136   \n",
       "1990-01-01 02:00:00+07:00  100962.625  0.909145  0.004637 -0.372383  0.391136   \n",
       "1990-01-01 03:00:00+07:00  100962.625  0.909145  0.004637 -0.372383  0.391136   \n",
       "1990-01-01 04:00:00+07:00  100962.625  0.909145  0.004637 -0.372383  0.391136   \n",
       "\n",
       "                           wind_speed  wind_direction_deg  \n",
       "time                                                       \n",
       "1990-01-01 00:00:00+07:00    0.540052          136.407024  \n",
       "1990-01-01 01:00:00+07:00    0.540052          136.407024  \n",
       "1990-01-01 02:00:00+07:00    0.540052          136.407024  \n",
       "1990-01-01 03:00:00+07:00    0.540052          136.407024  \n",
       "1990-01-01 04:00:00+07:00    0.540052          136.407024  "
      ]
     },
     "execution_count": 7,
     "metadata": {},
     "output_type": "execute_result"
    }
   ],
   "source": [
    "df.head()"
   ]
  },
  {
   "cell_type": "code",
   "execution_count": 8,
   "metadata": {},
   "outputs": [
    {
     "data": {
      "application/vnd.microsoft.datawrangler.viewer.v0+json": {
       "columns": [
        {
         "name": "time",
         "rawType": "datetime64[ns, UTC+07:00]",
         "type": "unknown"
        },
        {
         "name": "latitude",
         "rawType": "float64",
         "type": "float"
        },
        {
         "name": "longitude",
         "rawType": "float64",
         "type": "float"
        },
        {
         "name": "number",
         "rawType": "float64",
         "type": "float"
        },
        {
         "name": "step",
         "rawType": "object",
         "type": "string"
        },
        {
         "name": "surface",
         "rawType": "float64",
         "type": "float"
        },
        {
         "name": "sp",
         "rawType": "float64",
         "type": "float"
        },
        {
         "name": "tcc",
         "rawType": "float64",
         "type": "float"
        },
        {
         "name": "tp",
         "rawType": "float64",
         "type": "float"
        },
        {
         "name": "u10",
         "rawType": "float64",
         "type": "float"
        },
        {
         "name": "v10",
         "rawType": "float64",
         "type": "float"
        },
        {
         "name": "wind_speed",
         "rawType": "float64",
         "type": "float"
        },
        {
         "name": "wind_direction_deg",
         "rawType": "float64",
         "type": "float"
        }
       ],
       "ref": "1844e11b-6f86-4ad3-bcfb-23af6343144f",
       "rows": [
        [
         "2025-01-01 09:00:00+07:00",
         "9.18",
         "105.15",
         "0.0",
         "0 days",
         "0.0",
         "100997.44",
         "0.99999994",
         "0.000516824612417",
         "0.13582498",
         "-2.6282177",
         "2.631725043348049",
         "357.0416145392121"
        ],
        [
         "2025-01-01 10:00:00+07:00",
         "9.18",
         "105.15",
         "0.0",
         "0 days",
         "0.0",
         "100997.44",
         "0.99999994",
         "0.000516824612417",
         "0.13582498",
         "-2.6282177",
         "2.631725043348049",
         "357.0416145392121"
        ],
        [
         "2025-01-01 11:00:00+07:00",
         "9.18",
         "105.15",
         "0.0",
         "0 days",
         "0.0",
         "100997.44",
         "0.99999994",
         "0.000516824612417",
         "0.13582498",
         "-2.6282177",
         "2.631725043348049",
         "357.0416145392121"
        ],
        [
         "2025-01-01 12:00:00+07:00",
         "9.18",
         "105.15",
         "0.0",
         "0 days",
         "0.0",
         "100997.44",
         "0.99999994",
         "0.000516824612417",
         "0.13582498",
         "-2.6282177",
         "2.631725043348049",
         "357.0416145392121"
        ],
        [
         "2025-01-01 13:00:00+07:00",
         "9.18",
         "105.15",
         "0.0",
         "0 days",
         "0.0",
         "100997.44",
         "0.99999994",
         "0.000516824612417",
         "0.13582498",
         "-2.6282177",
         "2.631725043348049",
         "357.0416145392121"
        ]
       ],
       "shape": {
        "columns": 12,
        "rows": 5
       }
      },
      "text/html": [
       "<div>\n",
       "<style scoped>\n",
       "    .dataframe tbody tr th:only-of-type {\n",
       "        vertical-align: middle;\n",
       "    }\n",
       "\n",
       "    .dataframe tbody tr th {\n",
       "        vertical-align: top;\n",
       "    }\n",
       "\n",
       "    .dataframe thead th {\n",
       "        text-align: right;\n",
       "    }\n",
       "</style>\n",
       "<table border=\"1\" class=\"dataframe\">\n",
       "  <thead>\n",
       "    <tr style=\"text-align: right;\">\n",
       "      <th></th>\n",
       "      <th>latitude</th>\n",
       "      <th>longitude</th>\n",
       "      <th>number</th>\n",
       "      <th>step</th>\n",
       "      <th>surface</th>\n",
       "      <th>sp</th>\n",
       "      <th>tcc</th>\n",
       "      <th>tp</th>\n",
       "      <th>u10</th>\n",
       "      <th>v10</th>\n",
       "      <th>wind_speed</th>\n",
       "      <th>wind_direction_deg</th>\n",
       "    </tr>\n",
       "    <tr>\n",
       "      <th>time</th>\n",
       "      <th></th>\n",
       "      <th></th>\n",
       "      <th></th>\n",
       "      <th></th>\n",
       "      <th></th>\n",
       "      <th></th>\n",
       "      <th></th>\n",
       "      <th></th>\n",
       "      <th></th>\n",
       "      <th></th>\n",
       "      <th></th>\n",
       "      <th></th>\n",
       "    </tr>\n",
       "  </thead>\n",
       "  <tbody>\n",
       "    <tr>\n",
       "      <th>2025-01-01 09:00:00+07:00</th>\n",
       "      <td>9.18</td>\n",
       "      <td>105.15</td>\n",
       "      <td>0.0</td>\n",
       "      <td>0 days</td>\n",
       "      <td>0.0</td>\n",
       "      <td>100997.44</td>\n",
       "      <td>1.0</td>\n",
       "      <td>0.000517</td>\n",
       "      <td>0.135825</td>\n",
       "      <td>-2.628218</td>\n",
       "      <td>2.631725</td>\n",
       "      <td>357.041615</td>\n",
       "    </tr>\n",
       "    <tr>\n",
       "      <th>2025-01-01 10:00:00+07:00</th>\n",
       "      <td>9.18</td>\n",
       "      <td>105.15</td>\n",
       "      <td>0.0</td>\n",
       "      <td>0 days</td>\n",
       "      <td>0.0</td>\n",
       "      <td>100997.44</td>\n",
       "      <td>1.0</td>\n",
       "      <td>0.000517</td>\n",
       "      <td>0.135825</td>\n",
       "      <td>-2.628218</td>\n",
       "      <td>2.631725</td>\n",
       "      <td>357.041615</td>\n",
       "    </tr>\n",
       "    <tr>\n",
       "      <th>2025-01-01 11:00:00+07:00</th>\n",
       "      <td>9.18</td>\n",
       "      <td>105.15</td>\n",
       "      <td>0.0</td>\n",
       "      <td>0 days</td>\n",
       "      <td>0.0</td>\n",
       "      <td>100997.44</td>\n",
       "      <td>1.0</td>\n",
       "      <td>0.000517</td>\n",
       "      <td>0.135825</td>\n",
       "      <td>-2.628218</td>\n",
       "      <td>2.631725</td>\n",
       "      <td>357.041615</td>\n",
       "    </tr>\n",
       "    <tr>\n",
       "      <th>2025-01-01 12:00:00+07:00</th>\n",
       "      <td>9.18</td>\n",
       "      <td>105.15</td>\n",
       "      <td>0.0</td>\n",
       "      <td>0 days</td>\n",
       "      <td>0.0</td>\n",
       "      <td>100997.44</td>\n",
       "      <td>1.0</td>\n",
       "      <td>0.000517</td>\n",
       "      <td>0.135825</td>\n",
       "      <td>-2.628218</td>\n",
       "      <td>2.631725</td>\n",
       "      <td>357.041615</td>\n",
       "    </tr>\n",
       "    <tr>\n",
       "      <th>2025-01-01 13:00:00+07:00</th>\n",
       "      <td>9.18</td>\n",
       "      <td>105.15</td>\n",
       "      <td>0.0</td>\n",
       "      <td>0 days</td>\n",
       "      <td>0.0</td>\n",
       "      <td>100997.44</td>\n",
       "      <td>1.0</td>\n",
       "      <td>0.000517</td>\n",
       "      <td>0.135825</td>\n",
       "      <td>-2.628218</td>\n",
       "      <td>2.631725</td>\n",
       "      <td>357.041615</td>\n",
       "    </tr>\n",
       "  </tbody>\n",
       "</table>\n",
       "</div>"
      ],
      "text/plain": [
       "                           latitude  longitude  number    step  surface  \\\n",
       "time                                                                      \n",
       "2025-01-01 09:00:00+07:00      9.18     105.15     0.0  0 days      0.0   \n",
       "2025-01-01 10:00:00+07:00      9.18     105.15     0.0  0 days      0.0   \n",
       "2025-01-01 11:00:00+07:00      9.18     105.15     0.0  0 days      0.0   \n",
       "2025-01-01 12:00:00+07:00      9.18     105.15     0.0  0 days      0.0   \n",
       "2025-01-01 13:00:00+07:00      9.18     105.15     0.0  0 days      0.0   \n",
       "\n",
       "                                  sp  tcc        tp       u10       v10  \\\n",
       "time                                                                      \n",
       "2025-01-01 09:00:00+07:00  100997.44  1.0  0.000517  0.135825 -2.628218   \n",
       "2025-01-01 10:00:00+07:00  100997.44  1.0  0.000517  0.135825 -2.628218   \n",
       "2025-01-01 11:00:00+07:00  100997.44  1.0  0.000517  0.135825 -2.628218   \n",
       "2025-01-01 12:00:00+07:00  100997.44  1.0  0.000517  0.135825 -2.628218   \n",
       "2025-01-01 13:00:00+07:00  100997.44  1.0  0.000517  0.135825 -2.628218   \n",
       "\n",
       "                           wind_speed  wind_direction_deg  \n",
       "time                                                       \n",
       "2025-01-01 09:00:00+07:00    2.631725          357.041615  \n",
       "2025-01-01 10:00:00+07:00    2.631725          357.041615  \n",
       "2025-01-01 11:00:00+07:00    2.631725          357.041615  \n",
       "2025-01-01 12:00:00+07:00    2.631725          357.041615  \n",
       "2025-01-01 13:00:00+07:00    2.631725          357.041615  "
      ]
     },
     "execution_count": 8,
     "metadata": {},
     "output_type": "execute_result"
    }
   ],
   "source": [
    "df.tail()"
   ]
  },
  {
   "cell_type": "markdown",
   "metadata": {},
   "source": [
    "#### <span style=\"color:green\">3.3. Data summary</span>"
   ]
  },
  {
   "cell_type": "code",
   "execution_count": 9,
   "metadata": {},
   "outputs": [
    {
     "data": {
      "text/plain": [
       "(306830, 12)"
      ]
     },
     "execution_count": 9,
     "metadata": {},
     "output_type": "execute_result"
    }
   ],
   "source": [
    "df.shape"
   ]
  },
  {
   "cell_type": "code",
   "execution_count": 14,
   "metadata": {},
   "outputs": [
    {
     "name": "stdout",
     "output_type": "stream",
     "text": [
      "<class 'pandas.core.frame.DataFrame'>\n",
      "DatetimeIndex: 306830 entries, 1990-01-01 00:00:00+07:00 to 2025-01-01 13:00:00+07:00\n",
      "Data columns (total 12 columns):\n",
      " #   Column              Non-Null Count   Dtype  \n",
      "---  ------              --------------   -----  \n",
      " 0   latitude            306830 non-null  float64\n",
      " 1   longitude           306830 non-null  float64\n",
      " 2   number              306830 non-null  float64\n",
      " 3   step                306830 non-null  object \n",
      " 4   surface             306830 non-null  float64\n",
      " 5   sp                  306830 non-null  float64\n",
      " 6   tcc                 306830 non-null  float64\n",
      " 7   tp                  306830 non-null  float64\n",
      " 8   u10                 306830 non-null  float64\n",
      " 9   v10                 306830 non-null  float64\n",
      " 10  wind_speed          306830 non-null  float64\n",
      " 11  wind_direction_deg  306830 non-null  float64\n",
      "dtypes: float64(11), object(1)\n",
      "memory usage: 30.4+ MB\n"
     ]
    }
   ],
   "source": [
    "df.info()"
   ]
  },
  {
   "cell_type": "code",
   "execution_count": 13,
   "metadata": {},
   "outputs": [
    {
     "data": {
      "application/vnd.microsoft.datawrangler.viewer.v0+json": {
       "columns": [
        {
         "name": "index",
         "rawType": "object",
         "type": "string"
        },
        {
         "name": "latitude",
         "rawType": "float64",
         "type": "float"
        },
        {
         "name": "longitude",
         "rawType": "float64",
         "type": "float"
        },
        {
         "name": "number",
         "rawType": "float64",
         "type": "float"
        },
        {
         "name": "surface",
         "rawType": "float64",
         "type": "float"
        },
        {
         "name": "sp",
         "rawType": "float64",
         "type": "float"
        },
        {
         "name": "tcc",
         "rawType": "float64",
         "type": "float"
        },
        {
         "name": "tp",
         "rawType": "float64",
         "type": "float"
        },
        {
         "name": "u10",
         "rawType": "float64",
         "type": "float"
        },
        {
         "name": "v10",
         "rawType": "float64",
         "type": "float"
        },
        {
         "name": "wind_speed",
         "rawType": "float64",
         "type": "float"
        },
        {
         "name": "wind_direction_deg",
         "rawType": "float64",
         "type": "float"
        }
       ],
       "ref": "bb915b07-38ca-47be-8ea8-6f99d5c3e0c3",
       "rows": [
        [
         "count",
         "306830.0",
         "306830.0",
         "306830.0",
         "306830.0",
         "306830.0",
         "306830.0",
         "306830.0",
         "306830.0",
         "306830.0",
         "306830.0",
         "306830.0"
        ],
        [
         "mean",
         "9.180000000000005",
         "105.15000000000008",
         "0.0",
         "0.0",
         "100974.94889696428",
         "0.7508566984124373",
         "0.009728658013938378",
         "-0.2749556505746985",
         "0.2917439973848559",
         "2.834268891087753",
         "163.71647725712933"
        ],
        [
         "std",
         "5.329079202298695e-15",
         "7.10543893639826e-14",
         "0.0",
         "0.0",
         "213.50578218420955",
         "0.30144484666518356",
         "0.013060765906421693",
         "2.893074098655445",
         "1.2300886593087283",
         "1.4179581149323235",
         "87.37403648139905"
        ],
        [
         "min",
         "9.18",
         "105.15",
         "0.0",
         "0.0",
         "100511.7674",
         "0.0",
         "0.0",
         "-9.2119761125",
         "-2.9335945750000003",
         "0.0042484848570854",
         "0.0061323688309755"
        ],
        [
         "25%",
         "9.18",
         "105.15",
         "0.0",
         "0.0",
         "100824.5",
         "0.548593275",
         "0.0005694964442382",
         "-2.492012225",
         "-0.48351872500000004",
         "1.7218987325720114",
         "86.26109363452416"
        ],
        [
         "50%",
         "9.18",
         "105.15",
         "0.0",
         "0.0",
         "100962.625",
         "0.9091449",
         "0.0046370418372061",
         "-0.37238258",
         "0.39113623",
         "2.64891858443924",
         "147.89167398279085"
        ],
        [
         "75%",
         "9.18",
         "105.15",
         "0.0",
         "0.0",
         "101113.94",
         "0.9909412",
         "0.013273683361501601",
         "1.9879637",
         "1.149865175",
         "3.780096225648032",
         "246.6922802812047"
        ],
        [
         "max",
         "9.18",
         "105.15",
         "0.0",
         "0.0",
         "101521.60615",
         "0.99999994",
         "0.0625302644849228",
         "8.654032",
         "3.599941025",
         "9.33947827171276",
         "359.9960700495192"
        ]
       ],
       "shape": {
        "columns": 11,
        "rows": 8
       }
      },
      "text/html": [
       "<div>\n",
       "<style scoped>\n",
       "    .dataframe tbody tr th:only-of-type {\n",
       "        vertical-align: middle;\n",
       "    }\n",
       "\n",
       "    .dataframe tbody tr th {\n",
       "        vertical-align: top;\n",
       "    }\n",
       "\n",
       "    .dataframe thead th {\n",
       "        text-align: right;\n",
       "    }\n",
       "</style>\n",
       "<table border=\"1\" class=\"dataframe\">\n",
       "  <thead>\n",
       "    <tr style=\"text-align: right;\">\n",
       "      <th></th>\n",
       "      <th>latitude</th>\n",
       "      <th>longitude</th>\n",
       "      <th>number</th>\n",
       "      <th>surface</th>\n",
       "      <th>sp</th>\n",
       "      <th>tcc</th>\n",
       "      <th>tp</th>\n",
       "      <th>u10</th>\n",
       "      <th>v10</th>\n",
       "      <th>wind_speed</th>\n",
       "      <th>wind_direction_deg</th>\n",
       "    </tr>\n",
       "  </thead>\n",
       "  <tbody>\n",
       "    <tr>\n",
       "      <th>count</th>\n",
       "      <td>3.068300e+05</td>\n",
       "      <td>3.068300e+05</td>\n",
       "      <td>306830.0</td>\n",
       "      <td>306830.0</td>\n",
       "      <td>306830.000000</td>\n",
       "      <td>306830.000000</td>\n",
       "      <td>306830.000000</td>\n",
       "      <td>306830.000000</td>\n",
       "      <td>306830.000000</td>\n",
       "      <td>306830.000000</td>\n",
       "      <td>306830.000000</td>\n",
       "    </tr>\n",
       "    <tr>\n",
       "      <th>mean</th>\n",
       "      <td>9.180000e+00</td>\n",
       "      <td>1.051500e+02</td>\n",
       "      <td>0.0</td>\n",
       "      <td>0.0</td>\n",
       "      <td>100974.948897</td>\n",
       "      <td>0.750857</td>\n",
       "      <td>0.009729</td>\n",
       "      <td>-0.274956</td>\n",
       "      <td>0.291744</td>\n",
       "      <td>2.834269</td>\n",
       "      <td>163.716477</td>\n",
       "    </tr>\n",
       "    <tr>\n",
       "      <th>std</th>\n",
       "      <td>5.329079e-15</td>\n",
       "      <td>7.105439e-14</td>\n",
       "      <td>0.0</td>\n",
       "      <td>0.0</td>\n",
       "      <td>213.505782</td>\n",
       "      <td>0.301445</td>\n",
       "      <td>0.013061</td>\n",
       "      <td>2.893074</td>\n",
       "      <td>1.230089</td>\n",
       "      <td>1.417958</td>\n",
       "      <td>87.374036</td>\n",
       "    </tr>\n",
       "    <tr>\n",
       "      <th>min</th>\n",
       "      <td>9.180000e+00</td>\n",
       "      <td>1.051500e+02</td>\n",
       "      <td>0.0</td>\n",
       "      <td>0.0</td>\n",
       "      <td>100511.767400</td>\n",
       "      <td>0.000000</td>\n",
       "      <td>0.000000</td>\n",
       "      <td>-9.211976</td>\n",
       "      <td>-2.933595</td>\n",
       "      <td>0.004248</td>\n",
       "      <td>0.006132</td>\n",
       "    </tr>\n",
       "    <tr>\n",
       "      <th>25%</th>\n",
       "      <td>9.180000e+00</td>\n",
       "      <td>1.051500e+02</td>\n",
       "      <td>0.0</td>\n",
       "      <td>0.0</td>\n",
       "      <td>100824.500000</td>\n",
       "      <td>0.548593</td>\n",
       "      <td>0.000569</td>\n",
       "      <td>-2.492012</td>\n",
       "      <td>-0.483519</td>\n",
       "      <td>1.721899</td>\n",
       "      <td>86.261094</td>\n",
       "    </tr>\n",
       "    <tr>\n",
       "      <th>50%</th>\n",
       "      <td>9.180000e+00</td>\n",
       "      <td>1.051500e+02</td>\n",
       "      <td>0.0</td>\n",
       "      <td>0.0</td>\n",
       "      <td>100962.625000</td>\n",
       "      <td>0.909145</td>\n",
       "      <td>0.004637</td>\n",
       "      <td>-0.372383</td>\n",
       "      <td>0.391136</td>\n",
       "      <td>2.648919</td>\n",
       "      <td>147.891674</td>\n",
       "    </tr>\n",
       "    <tr>\n",
       "      <th>75%</th>\n",
       "      <td>9.180000e+00</td>\n",
       "      <td>1.051500e+02</td>\n",
       "      <td>0.0</td>\n",
       "      <td>0.0</td>\n",
       "      <td>101113.940000</td>\n",
       "      <td>0.990941</td>\n",
       "      <td>0.013274</td>\n",
       "      <td>1.987964</td>\n",
       "      <td>1.149865</td>\n",
       "      <td>3.780096</td>\n",
       "      <td>246.692280</td>\n",
       "    </tr>\n",
       "    <tr>\n",
       "      <th>max</th>\n",
       "      <td>9.180000e+00</td>\n",
       "      <td>1.051500e+02</td>\n",
       "      <td>0.0</td>\n",
       "      <td>0.0</td>\n",
       "      <td>101521.606150</td>\n",
       "      <td>1.000000</td>\n",
       "      <td>0.062530</td>\n",
       "      <td>8.654032</td>\n",
       "      <td>3.599941</td>\n",
       "      <td>9.339478</td>\n",
       "      <td>359.996070</td>\n",
       "    </tr>\n",
       "  </tbody>\n",
       "</table>\n",
       "</div>"
      ],
      "text/plain": [
       "           latitude     longitude    number   surface             sp  \\\n",
       "count  3.068300e+05  3.068300e+05  306830.0  306830.0  306830.000000   \n",
       "mean   9.180000e+00  1.051500e+02       0.0       0.0  100974.948897   \n",
       "std    5.329079e-15  7.105439e-14       0.0       0.0     213.505782   \n",
       "min    9.180000e+00  1.051500e+02       0.0       0.0  100511.767400   \n",
       "25%    9.180000e+00  1.051500e+02       0.0       0.0  100824.500000   \n",
       "50%    9.180000e+00  1.051500e+02       0.0       0.0  100962.625000   \n",
       "75%    9.180000e+00  1.051500e+02       0.0       0.0  101113.940000   \n",
       "max    9.180000e+00  1.051500e+02       0.0       0.0  101521.606150   \n",
       "\n",
       "                 tcc             tp            u10            v10  \\\n",
       "count  306830.000000  306830.000000  306830.000000  306830.000000   \n",
       "mean        0.750857       0.009729      -0.274956       0.291744   \n",
       "std         0.301445       0.013061       2.893074       1.230089   \n",
       "min         0.000000       0.000000      -9.211976      -2.933595   \n",
       "25%         0.548593       0.000569      -2.492012      -0.483519   \n",
       "50%         0.909145       0.004637      -0.372383       0.391136   \n",
       "75%         0.990941       0.013274       1.987964       1.149865   \n",
       "max         1.000000       0.062530       8.654032       3.599941   \n",
       "\n",
       "          wind_speed  wind_direction_deg  \n",
       "count  306830.000000       306830.000000  \n",
       "mean        2.834269          163.716477  \n",
       "std         1.417958           87.374036  \n",
       "min         0.004248            0.006132  \n",
       "25%         1.721899           86.261094  \n",
       "50%         2.648919          147.891674  \n",
       "75%         3.780096          246.692280  \n",
       "max         9.339478          359.996070  "
      ]
     },
     "execution_count": 13,
     "metadata": {},
     "output_type": "execute_result"
    }
   ],
   "source": [
    "df.describe()"
   ]
  },
  {
   "cell_type": "markdown",
   "metadata": {},
   "source": [
    "### <span style=\"color:orange\">4. Exploratory Data Analysis (EDA)</span>"
   ]
  },
  {
   "cell_type": "markdown",
   "metadata": {},
   "source": [
    "#### <span style=\"color:green\">4.1. Explore Categorical Variables</span>"
   ]
  },
  {
   "cell_type": "markdown",
   "metadata": {},
   "source": [
    "##### <span style=\"color:tomato\">Summary Statistics</span>"
   ]
  },
  {
   "cell_type": "code",
   "execution_count": 15,
   "metadata": {},
   "outputs": [
    {
     "name": "stdout",
     "output_type": "stream",
     "text": [
      "There are 1 categorical variables\n",
      "\n",
      "The categorical variables are :\n",
      "\n",
      " Index(['step'], dtype='object')\n"
     ]
    }
   ],
   "source": [
    "categorical = df.select_dtypes(include='object').columns\n",
    "print(f'There are {len(categorical)} categorical variables\\n')\n",
    "print('The categorical variables are :\\n\\n', categorical)"
   ]
  },
  {
   "cell_type": "markdown",
   "metadata": {},
   "source": [
    "Frequency counts"
   ]
  },
  {
   "cell_type": "code",
   "execution_count": 16,
   "metadata": {},
   "outputs": [
    {
     "name": "stdout",
     "output_type": "stream",
     "text": [
      "step\n",
      "0 days    306830/306830\n",
      "Name: count, dtype: object\n",
      "\n"
     ]
    }
   ],
   "source": [
    "dataset.frequency_counts(df, categorical)"
   ]
  },
  {
   "cell_type": "markdown",
   "metadata": {},
   "source": [
    "Frequency distributions"
   ]
  },
  {
   "cell_type": "code",
   "execution_count": 17,
   "metadata": {},
   "outputs": [
    {
     "name": "stdout",
     "output_type": "stream",
     "text": [
      "step\n",
      "0 days    100.000000%\n",
      "Name: count, dtype: object\n",
      "\n"
     ]
    }
   ],
   "source": [
    "dataset.frequency_distributions(df, categorical)"
   ]
  },
  {
   "cell_type": "markdown",
   "metadata": {},
   "source": [
    "#### <span style=\"color:green\">4.2. Explore Numerical Variables</span>"
   ]
  },
  {
   "cell_type": "markdown",
   "metadata": {},
   "source": [
    "##### <span style=\"color:tomato\">Summary Statistics</span>"
   ]
  },
  {
   "cell_type": "code",
   "execution_count": 18,
   "metadata": {},
   "outputs": [
    {
     "name": "stdout",
     "output_type": "stream",
     "text": [
      "There are 11 numerical variables\n",
      "The numerical variables are :\n",
      "\n",
      " Index(['latitude', 'longitude', 'number', 'surface', 'sp', 'tcc', 'tp', 'u10',\n",
      "       'v10', 'wind_speed', 'wind_direction_deg'],\n",
      "      dtype='object')\n"
     ]
    }
   ],
   "source": [
    "numerical = df.select_dtypes(include='number').columns\n",
    "print(f'There are {len(numerical)} numerical variables')\n",
    "print('The numerical variables are :\\n\\n', numerical)"
   ]
  },
  {
   "cell_type": "markdown",
   "metadata": {},
   "source": [
    "Frequency counts"
   ]
  },
  {
   "cell_type": "code",
   "execution_count": 19,
   "metadata": {},
   "outputs": [
    {
     "name": "stdout",
     "output_type": "stream",
     "text": [
      "latitude\n",
      "9.18    306830/306830\n",
      "Name: count, dtype: object\n",
      "\n",
      "longitude\n",
      "105.15    306830/306830\n",
      "Name: count, dtype: object\n",
      "\n",
      "number\n",
      "0.0    306830/306830\n",
      "Name: count, dtype: object\n",
      "\n",
      "surface\n",
      "0.0    306830/306830\n",
      "Name: count, dtype: object\n",
      "\n",
      "sp\n",
      "101521.60615    3069/306830\n",
      "100511.76740    3069/306830\n",
      "100918.62500      55/306830\n",
      "100909.81000      54/306830\n",
      "100891.69000      54/306830\n",
      "                   ...     \n",
      "101117.30000       1/306830\n",
      "101114.15000       1/306830\n",
      "101107.85000       1/306830\n",
      "101092.10000       1/306830\n",
      "100846.35000       1/306830\n",
      "Name: count, Length: 25581, dtype: object\n",
      "\n",
      "tcc\n",
      "1.000000    38672/306830\n",
      "0.999376     2464/306830\n",
      "0.998340     1475/306830\n",
      "0.999287     1469/306830\n",
      "0.999290     1169/306830\n",
      "                ...     \n",
      "0.983983        1/306830\n",
      "0.976112        1/306830\n",
      "0.923986        1/306830\n",
      "0.938151        1/306830\n",
      "0.675623        1/306830\n",
      "Name: count, Length: 222143, dtype: object\n",
      "\n",
      "tp\n",
      "0.000000    65746/306830\n",
      "0.000517     3526/306830\n",
      "0.000365     3170/306830\n",
      "0.062530     3069/306830\n",
      "0.000731     2349/306830\n",
      "                ...     \n",
      "0.004275        1/306830\n",
      "0.007496        1/306830\n",
      "0.007735        1/306830\n",
      "0.009868        1/306830\n",
      "0.003787        1/306830\n",
      "Name: count, Length: 174989, dtype: object\n",
      "\n",
      "u10\n",
      " 0.135825    8/306830\n",
      "-0.372383    8/306830\n",
      " 2.105067    3/306830\n",
      " 1.914905    3/306830\n",
      "-2.638267    3/306830\n",
      "               ...   \n",
      " 1.017245    1/306830\n",
      " 0.800543    1/306830\n",
      " 0.520854    1/306830\n",
      " 0.197162    1/306830\n",
      "-2.546030    1/306830\n",
      "Name: count, Length: 303618, dtype: object\n",
      "\n",
      "v10\n",
      "-2.933595    5260/306830\n",
      " 3.599941     705/306830\n",
      "-2.628218       8/306830\n",
      " 0.391136       8/306830\n",
      " 1.016421       4/306830\n",
      "                ...     \n",
      "-1.615114       1/306830\n",
      "-1.988596       1/306830\n",
      "-2.281485       1/306830\n",
      "-2.563956       1/306830\n",
      " 0.684773       1/306830\n",
      "Name: count, Length: 297250, dtype: object\n",
      "\n",
      "wind_speed\n",
      "2.631725    8/306830\n",
      "0.540052    7/306830\n",
      "3.461384    2/306830\n",
      "3.292845    2/306830\n",
      "3.802029    2/306830\n",
      "              ...   \n",
      "1.908764    1/306830\n",
      "2.143685    1/306830\n",
      "2.340184    1/306830\n",
      "2.571526    1/306830\n",
      "2.030430    1/306830\n",
      "Name: count, Length: 306813, dtype: object\n",
      "\n",
      "wind_direction_deg\n",
      "357.041615    8/306830\n",
      "136.407024    7/306830\n",
      "32.056968     2/306830\n",
      "27.013490     2/306830\n",
      "39.503431     2/306830\n",
      "                ...   \n",
      "327.796098    1/306830\n",
      "338.071902    1/306830\n",
      "347.139997    1/306830\n",
      "355.602746    1/306830\n",
      "58.437455     1/306830\n",
      "Name: count, Length: 306813, dtype: object\n",
      "\n"
     ]
    }
   ],
   "source": [
    "dataset.frequency_counts(df, numerical)"
   ]
  },
  {
   "cell_type": "markdown",
   "metadata": {},
   "source": [
    "Frequency distributions"
   ]
  },
  {
   "cell_type": "code",
   "execution_count": 20,
   "metadata": {},
   "outputs": [
    {
     "name": "stdout",
     "output_type": "stream",
     "text": [
      "latitude\n",
      "9.18    100.000000%\n",
      "Name: count, dtype: object\n",
      "\n",
      "longitude\n",
      "105.15    100.000000%\n",
      "Name: count, dtype: object\n",
      "\n",
      "number\n",
      "0.0    100.000000%\n",
      "Name: count, dtype: object\n",
      "\n",
      "surface\n",
      "0.0    100.000000%\n",
      "Name: count, dtype: object\n",
      "\n",
      "sp\n",
      "101521.60615    1.000228%\n",
      "100511.76740    1.000228%\n",
      "100918.62500    0.017925%\n",
      "100909.81000    0.017599%\n",
      "100891.69000    0.017599%\n",
      "                  ...    \n",
      "101117.30000    0.000326%\n",
      "101114.15000    0.000326%\n",
      "101107.85000    0.000326%\n",
      "101092.10000    0.000326%\n",
      "100846.35000    0.000326%\n",
      "Name: count, Length: 25581, dtype: object\n",
      "\n",
      "tcc\n",
      "1.000000    12.603722%\n",
      "0.999376     0.803051%\n",
      "0.998340     0.480722%\n",
      "0.999287     0.478767%\n",
      "0.999290     0.380993%\n",
      "               ...    \n",
      "0.983983     0.000326%\n",
      "0.976112     0.000326%\n",
      "0.923986     0.000326%\n",
      "0.938151     0.000326%\n",
      "0.675623     0.000326%\n",
      "Name: count, Length: 222143, dtype: object\n",
      "\n",
      "tp\n",
      "0.000000    21.427501%\n",
      "0.000517     1.149171%\n",
      "0.000365     1.033145%\n",
      "0.062530     1.000228%\n",
      "0.000731     0.765571%\n",
      "               ...    \n",
      "0.004275     0.000326%\n",
      "0.007496     0.000326%\n",
      "0.007735     0.000326%\n",
      "0.009868     0.000326%\n",
      "0.003787     0.000326%\n",
      "Name: count, Length: 174989, dtype: object\n",
      "\n",
      "u10\n",
      " 0.135825    0.002607%\n",
      "-0.372383    0.002607%\n",
      " 2.105067    0.000978%\n",
      " 1.914905    0.000978%\n",
      "-2.638267    0.000978%\n",
      "               ...    \n",
      " 1.017245    0.000326%\n",
      " 0.800543    0.000326%\n",
      " 0.520854    0.000326%\n",
      " 0.197162    0.000326%\n",
      "-2.546030    0.000326%\n",
      "Name: count, Length: 303618, dtype: object\n",
      "\n",
      "v10\n",
      "-2.933595    1.714304%\n",
      " 3.599941    0.229769%\n",
      "-2.628218    0.002607%\n",
      " 0.391136    0.002607%\n",
      " 1.016421    0.001304%\n",
      "               ...    \n",
      "-1.615114    0.000326%\n",
      "-1.988596    0.000326%\n",
      "-2.281485    0.000326%\n",
      "-2.563956    0.000326%\n",
      " 0.684773    0.000326%\n",
      "Name: count, Length: 297250, dtype: object\n",
      "\n",
      "wind_speed\n",
      "2.631725    0.002607%\n",
      "0.540052    0.002281%\n",
      "3.461384    0.000652%\n",
      "3.292845    0.000652%\n",
      "3.802029    0.000652%\n",
      "              ...    \n",
      "1.908764    0.000326%\n",
      "2.143685    0.000326%\n",
      "2.340184    0.000326%\n",
      "2.571526    0.000326%\n",
      "2.030430    0.000326%\n",
      "Name: count, Length: 306813, dtype: object\n",
      "\n",
      "wind_direction_deg\n",
      "357.041615    0.002607%\n",
      "136.407024    0.002281%\n",
      "32.056968     0.000652%\n",
      "27.013490     0.000652%\n",
      "39.503431     0.000652%\n",
      "                ...    \n",
      "327.796098    0.000326%\n",
      "338.071902    0.000326%\n",
      "347.139997    0.000326%\n",
      "355.602746    0.000326%\n",
      "58.437455     0.000326%\n",
      "Name: count, Length: 306813, dtype: object\n",
      "\n"
     ]
    }
   ],
   "source": [
    "dataset.frequency_distributions(df, numerical)"
   ]
  },
  {
   "cell_type": "markdown",
   "metadata": {},
   "source": [
    "### <span style=\"color:orange\">5. Data Visualization</span>"
   ]
  },
  {
   "cell_type": "markdown",
   "metadata": {},
   "source": [
    "#### <span style=\"color:green\">5.1. Distribution Plots</span>"
   ]
  },
  {
   "cell_type": "markdown",
   "metadata": {},
   "source": [
    "##### <span style=\"color:tomato\">Histograms</span>"
   ]
  },
  {
   "cell_type": "code",
   "execution_count": null,
   "metadata": {},
   "outputs": [],
   "source": [
    "# # cols_not_included = [\"class\"]\n",
    "# num_cols = len(numerical) + len(categorical)\n",
    "\n",
    "# # Xác định số hàng và số cột hợp lý\n",
    "# ncols = 3  # Số biểu đồ trên mỗi hàng\n",
    "# nrows = int(np.ceil(num_cols / ncols))  # Tính số hàng cần thiết\n",
    "\n",
    "# fig, axes = plt.subplots(\n",
    "#     ncols   = ncols, \n",
    "#     nrows   = nrows, \n",
    "#     figsize = (5*ncols, 4*nrows)\n",
    "# )\n",
    "# axes = axes.flatten()  # chuyển mảng 2 chiều thành 1 chiều để dễ duyệt\n",
    "\n",
    "# for i,column in enumerate(numerical.append(categorical)):\n",
    "#     sns.histplot(\n",
    "#         data = train_df, \n",
    "#         x    = column,\n",
    "#         kde  = True,\n",
    "#         ax   = axes[i]\n",
    "#     )\n",
    "#     axes[i].set_title(f'Histogram of {column}')\n",
    "#     axes[i].set_xlabel(column)\n",
    "#     axes[i].set_ylabel('Frequency')\n",
    "#     axes[i].grid(True)\n",
    "\n",
    "# # Ẩn các subplot dư nếu có\n",
    "# for j in range(i+1, len(axes)):\n",
    "#     axes[j].axis('off')\n",
    "\n",
    "# plt.tight_layout()\n",
    "# plt.show()"
   ]
  },
  {
   "cell_type": "markdown",
   "metadata": {},
   "source": [
    "##### <span style=\"color:tomato\">Box Plots</span>"
   ]
  },
  {
   "cell_type": "code",
   "execution_count": null,
   "metadata": {},
   "outputs": [],
   "source": [
    "# script.plot_Outlier(train_df, numerical.append(categorical.drop(\"class\")), target=\"class\")"
   ]
  },
  {
   "cell_type": "markdown",
   "metadata": {},
   "source": [
    "#### <span style=\"color:green\">5.2. Relationship Plots</span>"
   ]
  },
  {
   "cell_type": "markdown",
   "metadata": {},
   "source": [
    "##### <span style=\"color:tomato\">Scatter</span>"
   ]
  },
  {
   "cell_type": "code",
   "execution_count": null,
   "metadata": {},
   "outputs": [],
   "source": [
    "# sns.pairplot(\n",
    "#     data = train_df,\n",
    "#     hue  = \"class\"\n",
    "# )"
   ]
  },
  {
   "cell_type": "markdown",
   "metadata": {},
   "source": [
    "##### <span style=\"color:tomato\">Bar Charts</span>"
   ]
  },
  {
   "cell_type": "code",
   "execution_count": null,
   "metadata": {},
   "outputs": [],
   "source": [
    "# # cols_not_included = [\"class\"]\n",
    "# num_cols = len(categorical) + len(numerical)\n",
    "\n",
    "# # Xác định số hàng và số cột hợp lý\n",
    "# ncols = 3  # Số biểu đồ trên mỗi hàng\n",
    "# nrows = int(np.ceil(num_cols / ncols))  # Tính số hàng cần thiết\n",
    "\n",
    "# fig, axes = plt.subplots(\n",
    "#     ncols   = ncols, \n",
    "#     nrows   = nrows, \n",
    "#     figsize = (5*ncols, 4*nrows)\n",
    "# )\n",
    "# axes = axes.flatten()  # chuyển mảng 2 chiều thành 1 chiều để dễ duyệt\n",
    "\n",
    "# for i,column in enumerate(categorical.append(numerical)):\n",
    "#     sns.barplot(\n",
    "#         data = train_df, \n",
    "#         x    = column,\n",
    "#         y    = \"class\", \n",
    "#         ax   = axes[i]\n",
    "#     )\n",
    "#     axes[i].set_title(f'Histogram of {column}')\n",
    "#     axes[i].set_xlabel(column)\n",
    "#     axes[i].set_ylabel('class')\n",
    "#     axes[i].grid(True)\n",
    "\n",
    "# # Ẩn các subplot dư nếu có\n",
    "# for j in range(i+1, len(axes)):\n",
    "#     axes[j].axis('off')\n",
    "\n",
    "# plt.tight_layout()\n",
    "# plt.show()"
   ]
  },
  {
   "cell_type": "markdown",
   "metadata": {},
   "source": [
    "#### <span style=\"color:green\">5.3. Annotated Visualizations</span>"
   ]
  },
  {
   "cell_type": "markdown",
   "metadata": {},
   "source": [
    "##### <span style=\"color:tomato\">Trend</span>"
   ]
  },
  {
   "cell_type": "markdown",
   "metadata": {},
   "source": [
    "##### <span style=\"color:tomato\">Seasonal</span>"
   ]
  },
  {
   "cell_type": "markdown",
   "metadata": {},
   "source": [
    "##### <span style=\"color:tomato\">Cyclical</span>"
   ]
  },
  {
   "cell_type": "markdown",
   "metadata": {},
   "source": [
    "##### <span style=\"color:tomato\">Irregular</span>"
   ]
  }
 ],
 "metadata": {
  "kernelspec": {
   "display_name": ".venv",
   "language": "python",
   "name": "python3"
  },
  "language_info": {
   "codemirror_mode": {
    "name": "ipython",
    "version": 3
   },
   "file_extension": ".py",
   "mimetype": "text/x-python",
   "name": "python",
   "nbconvert_exporter": "python",
   "pygments_lexer": "ipython3",
   "version": "3.11.9"
  }
 },
 "nbformat": 4,
 "nbformat_minor": 2
}
