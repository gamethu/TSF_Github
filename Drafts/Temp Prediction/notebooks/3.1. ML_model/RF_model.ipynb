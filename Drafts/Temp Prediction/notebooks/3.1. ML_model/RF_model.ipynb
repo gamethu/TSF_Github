{
 "cells": [
  {
   "cell_type": "markdown",
   "metadata": {},
   "source": [
    "### <span style = \"color:orange\">1. Introduction<span>"
   ]
  },
  {
   "cell_type": "markdown",
   "metadata": {},
   "source": [
    "#### <span style=\"color:green\">1.1. Project purpose</span>"
   ]
  },
  {
   "cell_type": "markdown",
   "metadata": {},
   "source": [
    "Xây dựng và đánh giá tập hợp các mô hình dự báo chuỗi thời gian để dự đoán nhiệt độ cực đại hàng ngày tại các khu vực đô thị và ven biển Việt Nam. Dự án áp dụng cả thuật toán Machine Learning truyền thống và Deep Learning hiện đại nhằm cải thiện độ chính xác dự báo so với các phương pháp thống kê thông thường.\n",
    "\n",
    "<b>Nguồn dữ liệu</b>: Bộ dữ liệu ERA5 (ECMWF) với các bản ghi nhiệt độ từ 1990 đến 2024, được xử lý và biến đổi để huấn luyện các mô hình như Random Forest, XGBoost, LSTM, Transformer, TFT, và N-BEATS.\n",
    "\n",
    "<b>Kết quả</b>: Đánh giá hiệu năng giữa các mô hình qua nhiều kịch bản thực nghiệm và đề xuất hệ thống cảnh báo nhiệt độ sớm ứng dụng thực tế."
   ]
  },
  {
   "cell_type": "markdown",
   "metadata": {},
   "source": [
    "#### <span style=\"color:green\">1.2. Data source and description</span>"
   ]
  },
  {
   "cell_type": "markdown",
   "metadata": {},
   "source": [
    "<h4>Thông tin dữ liệu trong đề tài:</h4>\n",
    "\n",
    "<ul>\n",
    "<li><b>Thời gian thu thập:</b> từ năm <b>1990 đến 2024</b></li>\n",
    "<li><b>Định dạng ban đầu:</b> .grib, sau đó chuyển đổi sang .csv để xử lý</li>\n",
    "</ul>\n",
    "\n",
    "<h4>Các biến số chính trong tập dữ liệu:</h4>\n",
    "\n",
    "<table>\n",
    "<thead>\n",
    "<tr>\n",
    "<th>Tên cột dữ liệu</th>\n",
    "<th>Ý nghĩa</th>\n",
    "<th>Đơn vị đo</th>\n",
    "</tr>\n",
    "</thead>\n",
    "<tbody>\n",
    "<tr><td><code>NAME</code></td><td>Tên tỉnh/thành phố nơi thu thập dữ liệu</td><td>-</td></tr>\n",
    "<tr><td><code>LATITUDE</code></td><td>Vĩ độ địa lý của điểm đo</td><td>Độ</td></tr>\n",
    "<tr><td><code>LONGITUDE</code></td><td>Kinh độ địa lý của điểm đo</td><td>Độ</td></tr>\n",
    "<tr><td><code>YMD</code></td><td>Ngày/tháng/năm đo đạc</td><td>dd/mm/yyyy</td></tr>\n",
    "<tr><td><code>YEAR</code></td><td>Năm đo đạc</td><td>Năm</td></tr>\n",
    "<tr><td><code>MONTH</code></td><td>Tháng đo đạc</td><td>Tháng</td></tr>\n",
    "<tr><td><code>DAY</code></td><td>Ngày đo đạc</td><td>Ngày</td></tr>\n",
    "<tr><td><code>TEMP_max</code></td><td>Nhiệt độ không khí cực đại trong ngày</td><td>°C</td></tr>\n",
    "<tr><td><code>TEMP_ave</code></td><td>Nhiệt độ trung bình trong ngày</td><td>°C</td></tr>\n",
    "<tr><td><code>DEW_ave</code></td><td>Điểm sương trung bình trong ngày</td><td>°C</td></tr>\n",
    "<tr><td><code>DEW_max</code></td><td>Điểm sương cao nhất trong ngày</td><td>°C</td></tr>\n",
    "<tr><td><code>RH_ave</code></td><td>Độ ẩm tương đối trung bình trong ngày</td><td>%</td></tr>\n",
    "<tr><td><code>RH_max</code></td><td>Độ ẩm tương đối cực đại trong ngày</td><td>%</td></tr>\n",
    "<tr><td><code>AT_ave</code></td><td>Nhiệt độ cảm nhận trung bình trong ngày (Apparent Temp.)</td><td>°C</td></tr>\n",
    "<tr><td><code>AT_max</code></td><td>Nhiệt độ cảm nhận cao nhất trong ngày</td><td>°C</td></tr>\n",
    "</tbody>\n",
    "</table>\n",
    "\n",
    "<p><b>Biến mục tiêu chính:</b></p>\n",
    "<ul>\n",
    "<li><code>TEMP_max</code> — Nhiệt độ không khí cực đại hàng ngày (°C)</li>\n",
    "</ul>\n",
    "\n",
    "<p><b>Lưu ý:</b> Dữ liệu gốc của ERA5 có thể chứa giá trị thiếu, giá trị ngoại lai và một số dị bản khí tượng đặc thù. Do đó, quá trình làm sạch dữ liệu, xử lý giá trị thiếu, phát hiện ngoại lệ và chuẩn hóa dữ liệu là các bước bắt buộc trước khi tiến hành huấn luyện và dự báo.</p>"
   ]
  },
  {
   "cell_type": "code",
   "execution_count": 2,
   "metadata": {},
   "outputs": [],
   "source": [
    "match_type = {\n",
    "    'NAME'       : 'Categorical',        # Tên tỉnh/thành phố (chuỗi)\n",
    "    'LATITUDE'   : 'Numerical',          # Vĩ độ (°)\n",
    "    'LONGITUDE'  : 'Numerical',          # Kinh độ (°)\n",
    "    'YMD'        : 'Datetime',           # Ngày/tháng/năm (dd/mm/yyyy)\n",
    "    'YEAR'       : 'Numerical',          # Năm (năm)\n",
    "    'MONTH'      : 'Numerical',          # Tháng (1-12)\n",
    "    'DAY'        : 'Numerical',          # Ngày (1-31)\n",
    "\n",
    "    'TEMP_max'   : 'Numerical',          # Nhiệt độ cực đại trong ngày (°C)\n",
    "    'TEMP_ave'   : 'Numerical',          # Nhiệt độ trung bình trong ngày (°C)\n",
    "    'DEW_ave'    : 'Numerical',          # Điểm sương trung bình trong ngày (°C)\n",
    "    'DEW_max'    : 'Numerical',          # Điểm sương cực đại trong ngày (°C)\n",
    "    'RH_ave'     : 'Numerical',          # Độ ẩm tương đối trung bình trong ngày (%)\n",
    "    'RH_max'     : 'Numerical',          # Độ ẩm tương đối cực đại trong ngày (%)\n",
    "    'AT_ave'     : 'Numerical',          # Nhiệt độ cảm nhận trung bình trong ngày (°C)\n",
    "    'AT_max'     : 'Numerical'           # Nhiệt độ cảm nhận cực đại trong ngày (°C)\n",
    "}"
   ]
  },
  {
   "cell_type": "markdown",
   "metadata": {},
   "source": [
    "#### <span style=\"color:green\">1.3. Goals</span>"
   ]
  },
  {
   "cell_type": "markdown",
   "metadata": {},
   "source": [
    "<img src=\"../../image/Ảnh chụp màn hình 2025-06-24 210616.png\">"
   ]
  },
  {
   "cell_type": "markdown",
   "metadata": {},
   "source": [
    "### <span style=\"color:orange\">2. Import Libraries</span>"
   ]
  },
  {
   "cell_type": "markdown",
   "metadata": {},
   "source": [
    "#### <span style=\"color:green\">2.1. Configuration and display settings</span>"
   ]
  },
  {
   "cell_type": "code",
   "execution_count": 3,
   "metadata": {},
   "outputs": [],
   "source": [
    "import sys\n",
    "sys.path.append(\"../../\")  # đường dẫn đến thư mục chứa src\n",
    "\n",
    "from src.utilities import(config, \n",
    "                          dataset, \n",
    "                          features, \n",
    "                          plots)\n",
    "\n",
    "from src.models import(anomaly_models,\n",
    "                       forecasting_models,\n",
    "                       model_utils)"
   ]
  },
  {
   "cell_type": "markdown",
   "metadata": {},
   "source": [
    "#### <span style=\"color:green\">2.2. Required Python packages</span>"
   ]
  },
  {
   "cell_type": "code",
   "execution_count": 4,
   "metadata": {},
   "outputs": [],
   "source": [
    "import numpy             as np\n",
    "import pandas            as pd\n",
    "import matplotlib.pyplot as plt\n",
    "import seaborn           as sns\n",
    "import os\n",
    "\n",
    "from copy import deepcopy\n",
    "\n",
    "from sklearn.preprocessing import OneHotEncoder  # Encode feature\n",
    "from sklearn.preprocessing import OrdinalEncoder # Encode feature\n",
    "from sklearn.preprocessing import MinMaxScaler   # Scale feature\n",
    "from sklearn.preprocessing import StandardScaler # Scale feature\n",
    "from sklearn.preprocessing import LabelEncoder   # Encode target\n",
    "# from scipy.stats import boxcox # Normalized feature\n",
    "\n",
    "# from sklearn.feature_selection import mutual_info_classif # PCA\n",
    "from sklearn.model_selection   import train_test_split\n",
    "from sklearn.model_selection   import RepeatedKFold\n",
    "from sklearn.model_selection   import GridSearchCV\n",
    "from sklearn.model_selection   import validation_curve\n",
    "from sklearn.model_selection   import learning_curve\n",
    "\n",
    "\n",
    "from sklearn.ensemble     import RandomForestRegressor\n",
    "from xgboost              import XGBRegressor\n",
    "\n",
    "# %pip install tensorflow\n",
    "from tensorflow                 import keras\n",
    "from tensorflow.keras           import layers\n",
    "from tensorflow.keras.callbacks import EarlyStopping\n",
    "import joblib\n",
    "\n",
    "# Classification\n",
    "# from sklearn.metrics import accuracy_score\n",
    "# from sklearn.metrics import matthews_corrcoef\n",
    "# from sklearn.metrics import confusion_matrix\n",
    "# from sklearn.metrics import roc_auc_score\n",
    "# from sklearn.metrics import roc_curve\n",
    "# from sklearn.metrics import classification_report\n",
    "\n",
    "# Regression\n",
    "from sklearn.metrics import r2_score\n",
    "from sklearn.metrics import mean_absolute_error\n",
    "from sklearn.metrics import mean_squared_error\n",
    "from sklearn.metrics import mean_squared_log_error\n",
    "from sklearn.metrics import mean_absolute_percentage_error\n",
    "# from sklearn.metrics import median_absolute_error\n",
    "# from sklearn.metrics import max_error\n",
    "# from sklearn.metrics import PredictionErrorDisplay\n",
    "\n",
    "from sklearn.inspection import permutation_importance"
   ]
  },
  {
   "cell_type": "markdown",
   "metadata": {},
   "source": [
    "### <span style=\"color:orange\">3. Data Loading</span>"
   ]
  },
  {
   "cell_type": "code",
   "execution_count": 5,
   "metadata": {},
   "outputs": [],
   "source": [
    "src = dict({\"CaMau\" : \"../../data/processed/datasets/CaMau90.24_cleaned.csv\",\n",
    "            \"DH\"    : \"../../data/processed/datasets/DH90.24_cleaned.csv\",\n",
    "            \"NB\"    : \"../../data/processed/datasets/NB90.24_cleaned.csv\",\n",
    "            \"QN\"    : \"../../data/processed/datasets/QN90.24_cleaned.csv\",\n",
    "            \"TH\"    : \"../../data/processed/datasets/TH90.24_cleaned.csv\",\n",
    "            \"TSN\"   : \"../../data/processed/datasets/TSN90.24_cleaned.csv\"})"
   ]
  },
  {
   "cell_type": "markdown",
   "metadata": {},
   "source": [
    "#### <span style=\"color:green\">3.1. Loading the dataset</span>"
   ]
  },
  {
   "cell_type": "code",
   "execution_count": 6,
   "metadata": {},
   "outputs": [],
   "source": [
    "station_name = \"CaMau\""
   ]
  },
  {
   "cell_type": "code",
   "execution_count": 7,
   "metadata": {},
   "outputs": [],
   "source": [
    "df = pd.read_csv(filepath_or_buffer = src[station_name],\n",
    "                 parse_dates        = True,\n",
    "                 index_col          = \"time\")"
   ]
  },
  {
   "cell_type": "markdown",
   "metadata": {},
   "source": [
    "#### <span style=\"color:green\">3.2. Displaying first few rows</span>"
   ]
  },
  {
   "cell_type": "code",
   "execution_count": 8,
   "metadata": {},
   "outputs": [
    {
     "data": {
      "application/vnd.microsoft.datawrangler.viewer.v0+json": {
       "columns": [
        {
         "name": "time",
         "rawType": "datetime64[ns, UTC+07:00]",
         "type": "unknown"
        },
        {
         "name": "latitude",
         "rawType": "float64",
         "type": "float"
        },
        {
         "name": "longitude",
         "rawType": "float64",
         "type": "float"
        },
        {
         "name": "ymd",
         "rawType": "object",
         "type": "string"
        },
        {
         "name": "year",
         "rawType": "int64",
         "type": "integer"
        },
        {
         "name": "month",
         "rawType": "int64",
         "type": "integer"
        },
        {
         "name": "day",
         "rawType": "int64",
         "type": "integer"
        },
        {
         "name": "number",
         "rawType": "float64",
         "type": "float"
        },
        {
         "name": "step",
         "rawType": "object",
         "type": "string"
        },
        {
         "name": "surface",
         "rawType": "float64",
         "type": "float"
        },
        {
         "name": "sp",
         "rawType": "float64",
         "type": "float"
        },
        {
         "name": "tcc",
         "rawType": "float64",
         "type": "float"
        },
        {
         "name": "tp",
         "rawType": "float64",
         "type": "float"
        },
        {
         "name": "u10",
         "rawType": "float64",
         "type": "float"
        },
        {
         "name": "v10",
         "rawType": "float64",
         "type": "float"
        },
        {
         "name": "wind_speed",
         "rawType": "float64",
         "type": "float"
        },
        {
         "name": "wind_direction_deg",
         "rawType": "float64",
         "type": "float"
        }
       ],
       "ref": "d3fb733e-3ddf-4160-96e9-4596d155f0b8",
       "rows": [
        [
         "1990-01-01 00:00:00+07:00",
         "9.18",
         "105.15",
         "1/1/1990",
         "1990",
         "1",
         "1",
         "0.0",
         "0 days",
         "0.0",
         "100962.625",
         "0.9091449",
         "2.1502157e-05",
         "-0.37238258",
         "0.39113623",
         "0.5400521607271553",
         "136.40702360861093"
        ],
        [
         "1990-01-01 01:00:00+07:00",
         "9.18",
         "105.15",
         "1/1/1990",
         "1990",
         "1",
         "1",
         "0.0",
         "0 days",
         "0.0",
         "100962.625",
         "0.9091449",
         "2.1502157e-05",
         "-0.37238258",
         "0.39113623",
         "0.5400521607271553",
         "136.40702360861093"
        ],
        [
         "1990-01-01 02:00:00+07:00",
         "9.18",
         "105.15",
         "1/1/1990",
         "1990",
         "1",
         "1",
         "0.0",
         "0 days",
         "0.0",
         "100962.625",
         "0.9091449",
         "2.1502157e-05",
         "-0.37238258",
         "0.39113623",
         "0.5400521607271553",
         "136.40702360861093"
        ],
        [
         "1990-01-01 03:00:00+07:00",
         "9.18",
         "105.15",
         "1/1/1990",
         "1990",
         "1",
         "1",
         "0.0",
         "0 days",
         "0.0",
         "100962.625",
         "0.9091449",
         "2.1502157e-05",
         "-0.37238258",
         "0.39113623",
         "0.5400521607271553",
         "136.40702360861093"
        ],
        [
         "1990-01-01 04:00:00+07:00",
         "9.18",
         "105.15",
         "1/1/1990",
         "1990",
         "1",
         "1",
         "0.0",
         "0 days",
         "0.0",
         "100962.625",
         "0.9091449",
         "2.1502157e-05",
         "-0.37238258",
         "0.39113623",
         "0.5400521607271553",
         "136.40702360861093"
        ]
       ],
       "shape": {
        "columns": 16,
        "rows": 5
       }
      },
      "text/html": [
       "<div>\n",
       "<style scoped>\n",
       "    .dataframe tbody tr th:only-of-type {\n",
       "        vertical-align: middle;\n",
       "    }\n",
       "\n",
       "    .dataframe tbody tr th {\n",
       "        vertical-align: top;\n",
       "    }\n",
       "\n",
       "    .dataframe thead th {\n",
       "        text-align: right;\n",
       "    }\n",
       "</style>\n",
       "<table border=\"1\" class=\"dataframe\">\n",
       "  <thead>\n",
       "    <tr style=\"text-align: right;\">\n",
       "      <th></th>\n",
       "      <th>latitude</th>\n",
       "      <th>longitude</th>\n",
       "      <th>ymd</th>\n",
       "      <th>year</th>\n",
       "      <th>month</th>\n",
       "      <th>day</th>\n",
       "      <th>number</th>\n",
       "      <th>step</th>\n",
       "      <th>surface</th>\n",
       "      <th>sp</th>\n",
       "      <th>tcc</th>\n",
       "      <th>tp</th>\n",
       "      <th>u10</th>\n",
       "      <th>v10</th>\n",
       "      <th>wind_speed</th>\n",
       "      <th>wind_direction_deg</th>\n",
       "    </tr>\n",
       "    <tr>\n",
       "      <th>time</th>\n",
       "      <th></th>\n",
       "      <th></th>\n",
       "      <th></th>\n",
       "      <th></th>\n",
       "      <th></th>\n",
       "      <th></th>\n",
       "      <th></th>\n",
       "      <th></th>\n",
       "      <th></th>\n",
       "      <th></th>\n",
       "      <th></th>\n",
       "      <th></th>\n",
       "      <th></th>\n",
       "      <th></th>\n",
       "      <th></th>\n",
       "      <th></th>\n",
       "    </tr>\n",
       "  </thead>\n",
       "  <tbody>\n",
       "    <tr>\n",
       "      <th>1990-01-01 00:00:00+07:00</th>\n",
       "      <td>9.18</td>\n",
       "      <td>105.15</td>\n",
       "      <td>1/1/1990</td>\n",
       "      <td>1990</td>\n",
       "      <td>1</td>\n",
       "      <td>1</td>\n",
       "      <td>0.0</td>\n",
       "      <td>0 days</td>\n",
       "      <td>0.0</td>\n",
       "      <td>100962.625</td>\n",
       "      <td>0.909145</td>\n",
       "      <td>0.000022</td>\n",
       "      <td>-0.372383</td>\n",
       "      <td>0.391136</td>\n",
       "      <td>0.540052</td>\n",
       "      <td>136.407024</td>\n",
       "    </tr>\n",
       "    <tr>\n",
       "      <th>1990-01-01 01:00:00+07:00</th>\n",
       "      <td>9.18</td>\n",
       "      <td>105.15</td>\n",
       "      <td>1/1/1990</td>\n",
       "      <td>1990</td>\n",
       "      <td>1</td>\n",
       "      <td>1</td>\n",
       "      <td>0.0</td>\n",
       "      <td>0 days</td>\n",
       "      <td>0.0</td>\n",
       "      <td>100962.625</td>\n",
       "      <td>0.909145</td>\n",
       "      <td>0.000022</td>\n",
       "      <td>-0.372383</td>\n",
       "      <td>0.391136</td>\n",
       "      <td>0.540052</td>\n",
       "      <td>136.407024</td>\n",
       "    </tr>\n",
       "    <tr>\n",
       "      <th>1990-01-01 02:00:00+07:00</th>\n",
       "      <td>9.18</td>\n",
       "      <td>105.15</td>\n",
       "      <td>1/1/1990</td>\n",
       "      <td>1990</td>\n",
       "      <td>1</td>\n",
       "      <td>1</td>\n",
       "      <td>0.0</td>\n",
       "      <td>0 days</td>\n",
       "      <td>0.0</td>\n",
       "      <td>100962.625</td>\n",
       "      <td>0.909145</td>\n",
       "      <td>0.000022</td>\n",
       "      <td>-0.372383</td>\n",
       "      <td>0.391136</td>\n",
       "      <td>0.540052</td>\n",
       "      <td>136.407024</td>\n",
       "    </tr>\n",
       "    <tr>\n",
       "      <th>1990-01-01 03:00:00+07:00</th>\n",
       "      <td>9.18</td>\n",
       "      <td>105.15</td>\n",
       "      <td>1/1/1990</td>\n",
       "      <td>1990</td>\n",
       "      <td>1</td>\n",
       "      <td>1</td>\n",
       "      <td>0.0</td>\n",
       "      <td>0 days</td>\n",
       "      <td>0.0</td>\n",
       "      <td>100962.625</td>\n",
       "      <td>0.909145</td>\n",
       "      <td>0.000022</td>\n",
       "      <td>-0.372383</td>\n",
       "      <td>0.391136</td>\n",
       "      <td>0.540052</td>\n",
       "      <td>136.407024</td>\n",
       "    </tr>\n",
       "    <tr>\n",
       "      <th>1990-01-01 04:00:00+07:00</th>\n",
       "      <td>9.18</td>\n",
       "      <td>105.15</td>\n",
       "      <td>1/1/1990</td>\n",
       "      <td>1990</td>\n",
       "      <td>1</td>\n",
       "      <td>1</td>\n",
       "      <td>0.0</td>\n",
       "      <td>0 days</td>\n",
       "      <td>0.0</td>\n",
       "      <td>100962.625</td>\n",
       "      <td>0.909145</td>\n",
       "      <td>0.000022</td>\n",
       "      <td>-0.372383</td>\n",
       "      <td>0.391136</td>\n",
       "      <td>0.540052</td>\n",
       "      <td>136.407024</td>\n",
       "    </tr>\n",
       "  </tbody>\n",
       "</table>\n",
       "</div>"
      ],
      "text/plain": [
       "                           latitude  longitude       ymd  year  month  day  \\\n",
       "time                                                                         \n",
       "1990-01-01 00:00:00+07:00      9.18     105.15  1/1/1990  1990      1    1   \n",
       "1990-01-01 01:00:00+07:00      9.18     105.15  1/1/1990  1990      1    1   \n",
       "1990-01-01 02:00:00+07:00      9.18     105.15  1/1/1990  1990      1    1   \n",
       "1990-01-01 03:00:00+07:00      9.18     105.15  1/1/1990  1990      1    1   \n",
       "1990-01-01 04:00:00+07:00      9.18     105.15  1/1/1990  1990      1    1   \n",
       "\n",
       "                           number    step  surface          sp       tcc  \\\n",
       "time                                                                       \n",
       "1990-01-01 00:00:00+07:00     0.0  0 days      0.0  100962.625  0.909145   \n",
       "1990-01-01 01:00:00+07:00     0.0  0 days      0.0  100962.625  0.909145   \n",
       "1990-01-01 02:00:00+07:00     0.0  0 days      0.0  100962.625  0.909145   \n",
       "1990-01-01 03:00:00+07:00     0.0  0 days      0.0  100962.625  0.909145   \n",
       "1990-01-01 04:00:00+07:00     0.0  0 days      0.0  100962.625  0.909145   \n",
       "\n",
       "                                 tp       u10       v10  wind_speed  \\\n",
       "time                                                                  \n",
       "1990-01-01 00:00:00+07:00  0.000022 -0.372383  0.391136    0.540052   \n",
       "1990-01-01 01:00:00+07:00  0.000022 -0.372383  0.391136    0.540052   \n",
       "1990-01-01 02:00:00+07:00  0.000022 -0.372383  0.391136    0.540052   \n",
       "1990-01-01 03:00:00+07:00  0.000022 -0.372383  0.391136    0.540052   \n",
       "1990-01-01 04:00:00+07:00  0.000022 -0.372383  0.391136    0.540052   \n",
       "\n",
       "                           wind_direction_deg  \n",
       "time                                           \n",
       "1990-01-01 00:00:00+07:00          136.407024  \n",
       "1990-01-01 01:00:00+07:00          136.407024  \n",
       "1990-01-01 02:00:00+07:00          136.407024  \n",
       "1990-01-01 03:00:00+07:00          136.407024  \n",
       "1990-01-01 04:00:00+07:00          136.407024  "
      ]
     },
     "execution_count": 8,
     "metadata": {},
     "output_type": "execute_result"
    }
   ],
   "source": [
    "df.head()"
   ]
  },
  {
   "cell_type": "code",
   "execution_count": 9,
   "metadata": {},
   "outputs": [
    {
     "data": {
      "application/vnd.microsoft.datawrangler.viewer.v0+json": {
       "columns": [
        {
         "name": "time",
         "rawType": "datetime64[ns, UTC+07:00]",
         "type": "unknown"
        },
        {
         "name": "latitude",
         "rawType": "float64",
         "type": "float"
        },
        {
         "name": "longitude",
         "rawType": "float64",
         "type": "float"
        },
        {
         "name": "ymd",
         "rawType": "object",
         "type": "string"
        },
        {
         "name": "year",
         "rawType": "int64",
         "type": "integer"
        },
        {
         "name": "month",
         "rawType": "int64",
         "type": "integer"
        },
        {
         "name": "day",
         "rawType": "int64",
         "type": "integer"
        },
        {
         "name": "number",
         "rawType": "float64",
         "type": "float"
        },
        {
         "name": "step",
         "rawType": "object",
         "type": "string"
        },
        {
         "name": "surface",
         "rawType": "float64",
         "type": "float"
        },
        {
         "name": "sp",
         "rawType": "float64",
         "type": "float"
        },
        {
         "name": "tcc",
         "rawType": "float64",
         "type": "float"
        },
        {
         "name": "tp",
         "rawType": "float64",
         "type": "float"
        },
        {
         "name": "u10",
         "rawType": "float64",
         "type": "float"
        },
        {
         "name": "v10",
         "rawType": "float64",
         "type": "float"
        },
        {
         "name": "wind_speed",
         "rawType": "float64",
         "type": "float"
        },
        {
         "name": "wind_direction_deg",
         "rawType": "float64",
         "type": "float"
        }
       ],
       "ref": "b6a2246c-7903-4026-b81e-84e9464991e6",
       "rows": [
        [
         "2025-01-01 09:00:00+07:00",
         "9.18",
         "105.15",
         "1/1/2025",
         "2025",
         "1",
         "1",
         "0.0",
         "0 days",
         "0.0",
         "100997.44",
         "0.99999994",
         "2.6710768e-07",
         "0.13582498",
         "-2.6282177",
         "2.631725043348049",
         "357.0416145392121"
        ],
        [
         "2025-01-01 10:00:00+07:00",
         "9.18",
         "105.15",
         "1/1/2025",
         "2025",
         "1",
         "1",
         "0.0",
         "0 days",
         "0.0",
         "100997.44",
         "0.99999994",
         "2.6710768e-07",
         "0.13582498",
         "-2.6282177",
         "2.631725043348049",
         "357.0416145392121"
        ],
        [
         "2025-01-01 11:00:00+07:00",
         "9.18",
         "105.15",
         "1/1/2025",
         "2025",
         "1",
         "1",
         "0.0",
         "0 days",
         "0.0",
         "100997.44",
         "0.99999994",
         "2.6710768e-07",
         "0.13582498",
         "-2.6282177",
         "2.631725043348049",
         "357.0416145392121"
        ],
        [
         "2025-01-01 12:00:00+07:00",
         "9.18",
         "105.15",
         "1/1/2025",
         "2025",
         "1",
         "1",
         "0.0",
         "0 days",
         "0.0",
         "100997.44",
         "0.99999994",
         "2.6710768e-07",
         "0.13582498",
         "-2.6282177",
         "2.631725043348049",
         "357.0416145392121"
        ],
        [
         "2025-01-01 13:00:00+07:00",
         "9.18",
         "105.15",
         "1/1/2025",
         "2025",
         "1",
         "1",
         "0.0",
         "0 days",
         "0.0",
         "100997.44",
         "0.99999994",
         "2.6710768e-07",
         "0.13582498",
         "-2.6282177",
         "2.631725043348049",
         "357.0416145392121"
        ]
       ],
       "shape": {
        "columns": 16,
        "rows": 5
       }
      },
      "text/html": [
       "<div>\n",
       "<style scoped>\n",
       "    .dataframe tbody tr th:only-of-type {\n",
       "        vertical-align: middle;\n",
       "    }\n",
       "\n",
       "    .dataframe tbody tr th {\n",
       "        vertical-align: top;\n",
       "    }\n",
       "\n",
       "    .dataframe thead th {\n",
       "        text-align: right;\n",
       "    }\n",
       "</style>\n",
       "<table border=\"1\" class=\"dataframe\">\n",
       "  <thead>\n",
       "    <tr style=\"text-align: right;\">\n",
       "      <th></th>\n",
       "      <th>latitude</th>\n",
       "      <th>longitude</th>\n",
       "      <th>ymd</th>\n",
       "      <th>year</th>\n",
       "      <th>month</th>\n",
       "      <th>day</th>\n",
       "      <th>number</th>\n",
       "      <th>step</th>\n",
       "      <th>surface</th>\n",
       "      <th>sp</th>\n",
       "      <th>tcc</th>\n",
       "      <th>tp</th>\n",
       "      <th>u10</th>\n",
       "      <th>v10</th>\n",
       "      <th>wind_speed</th>\n",
       "      <th>wind_direction_deg</th>\n",
       "    </tr>\n",
       "    <tr>\n",
       "      <th>time</th>\n",
       "      <th></th>\n",
       "      <th></th>\n",
       "      <th></th>\n",
       "      <th></th>\n",
       "      <th></th>\n",
       "      <th></th>\n",
       "      <th></th>\n",
       "      <th></th>\n",
       "      <th></th>\n",
       "      <th></th>\n",
       "      <th></th>\n",
       "      <th></th>\n",
       "      <th></th>\n",
       "      <th></th>\n",
       "      <th></th>\n",
       "      <th></th>\n",
       "    </tr>\n",
       "  </thead>\n",
       "  <tbody>\n",
       "    <tr>\n",
       "      <th>2025-01-01 09:00:00+07:00</th>\n",
       "      <td>9.18</td>\n",
       "      <td>105.15</td>\n",
       "      <td>1/1/2025</td>\n",
       "      <td>2025</td>\n",
       "      <td>1</td>\n",
       "      <td>1</td>\n",
       "      <td>0.0</td>\n",
       "      <td>0 days</td>\n",
       "      <td>0.0</td>\n",
       "      <td>100997.44</td>\n",
       "      <td>1.0</td>\n",
       "      <td>2.671077e-07</td>\n",
       "      <td>0.135825</td>\n",
       "      <td>-2.628218</td>\n",
       "      <td>2.631725</td>\n",
       "      <td>357.041615</td>\n",
       "    </tr>\n",
       "    <tr>\n",
       "      <th>2025-01-01 10:00:00+07:00</th>\n",
       "      <td>9.18</td>\n",
       "      <td>105.15</td>\n",
       "      <td>1/1/2025</td>\n",
       "      <td>2025</td>\n",
       "      <td>1</td>\n",
       "      <td>1</td>\n",
       "      <td>0.0</td>\n",
       "      <td>0 days</td>\n",
       "      <td>0.0</td>\n",
       "      <td>100997.44</td>\n",
       "      <td>1.0</td>\n",
       "      <td>2.671077e-07</td>\n",
       "      <td>0.135825</td>\n",
       "      <td>-2.628218</td>\n",
       "      <td>2.631725</td>\n",
       "      <td>357.041615</td>\n",
       "    </tr>\n",
       "    <tr>\n",
       "      <th>2025-01-01 11:00:00+07:00</th>\n",
       "      <td>9.18</td>\n",
       "      <td>105.15</td>\n",
       "      <td>1/1/2025</td>\n",
       "      <td>2025</td>\n",
       "      <td>1</td>\n",
       "      <td>1</td>\n",
       "      <td>0.0</td>\n",
       "      <td>0 days</td>\n",
       "      <td>0.0</td>\n",
       "      <td>100997.44</td>\n",
       "      <td>1.0</td>\n",
       "      <td>2.671077e-07</td>\n",
       "      <td>0.135825</td>\n",
       "      <td>-2.628218</td>\n",
       "      <td>2.631725</td>\n",
       "      <td>357.041615</td>\n",
       "    </tr>\n",
       "    <tr>\n",
       "      <th>2025-01-01 12:00:00+07:00</th>\n",
       "      <td>9.18</td>\n",
       "      <td>105.15</td>\n",
       "      <td>1/1/2025</td>\n",
       "      <td>2025</td>\n",
       "      <td>1</td>\n",
       "      <td>1</td>\n",
       "      <td>0.0</td>\n",
       "      <td>0 days</td>\n",
       "      <td>0.0</td>\n",
       "      <td>100997.44</td>\n",
       "      <td>1.0</td>\n",
       "      <td>2.671077e-07</td>\n",
       "      <td>0.135825</td>\n",
       "      <td>-2.628218</td>\n",
       "      <td>2.631725</td>\n",
       "      <td>357.041615</td>\n",
       "    </tr>\n",
       "    <tr>\n",
       "      <th>2025-01-01 13:00:00+07:00</th>\n",
       "      <td>9.18</td>\n",
       "      <td>105.15</td>\n",
       "      <td>1/1/2025</td>\n",
       "      <td>2025</td>\n",
       "      <td>1</td>\n",
       "      <td>1</td>\n",
       "      <td>0.0</td>\n",
       "      <td>0 days</td>\n",
       "      <td>0.0</td>\n",
       "      <td>100997.44</td>\n",
       "      <td>1.0</td>\n",
       "      <td>2.671077e-07</td>\n",
       "      <td>0.135825</td>\n",
       "      <td>-2.628218</td>\n",
       "      <td>2.631725</td>\n",
       "      <td>357.041615</td>\n",
       "    </tr>\n",
       "  </tbody>\n",
       "</table>\n",
       "</div>"
      ],
      "text/plain": [
       "                           latitude  longitude       ymd  year  month  day  \\\n",
       "time                                                                         \n",
       "2025-01-01 09:00:00+07:00      9.18     105.15  1/1/2025  2025      1    1   \n",
       "2025-01-01 10:00:00+07:00      9.18     105.15  1/1/2025  2025      1    1   \n",
       "2025-01-01 11:00:00+07:00      9.18     105.15  1/1/2025  2025      1    1   \n",
       "2025-01-01 12:00:00+07:00      9.18     105.15  1/1/2025  2025      1    1   \n",
       "2025-01-01 13:00:00+07:00      9.18     105.15  1/1/2025  2025      1    1   \n",
       "\n",
       "                           number    step  surface         sp  tcc  \\\n",
       "time                                                                 \n",
       "2025-01-01 09:00:00+07:00     0.0  0 days      0.0  100997.44  1.0   \n",
       "2025-01-01 10:00:00+07:00     0.0  0 days      0.0  100997.44  1.0   \n",
       "2025-01-01 11:00:00+07:00     0.0  0 days      0.0  100997.44  1.0   \n",
       "2025-01-01 12:00:00+07:00     0.0  0 days      0.0  100997.44  1.0   \n",
       "2025-01-01 13:00:00+07:00     0.0  0 days      0.0  100997.44  1.0   \n",
       "\n",
       "                                     tp       u10       v10  wind_speed  \\\n",
       "time                                                                      \n",
       "2025-01-01 09:00:00+07:00  2.671077e-07  0.135825 -2.628218    2.631725   \n",
       "2025-01-01 10:00:00+07:00  2.671077e-07  0.135825 -2.628218    2.631725   \n",
       "2025-01-01 11:00:00+07:00  2.671077e-07  0.135825 -2.628218    2.631725   \n",
       "2025-01-01 12:00:00+07:00  2.671077e-07  0.135825 -2.628218    2.631725   \n",
       "2025-01-01 13:00:00+07:00  2.671077e-07  0.135825 -2.628218    2.631725   \n",
       "\n",
       "                           wind_direction_deg  \n",
       "time                                           \n",
       "2025-01-01 09:00:00+07:00          357.041615  \n",
       "2025-01-01 10:00:00+07:00          357.041615  \n",
       "2025-01-01 11:00:00+07:00          357.041615  \n",
       "2025-01-01 12:00:00+07:00          357.041615  \n",
       "2025-01-01 13:00:00+07:00          357.041615  "
      ]
     },
     "execution_count": 9,
     "metadata": {},
     "output_type": "execute_result"
    }
   ],
   "source": [
    "df.tail()"
   ]
  },
  {
   "cell_type": "markdown",
   "metadata": {},
   "source": [
    "#### <span style=\"color:green\">3.3. Data summary</span>"
   ]
  },
  {
   "cell_type": "code",
   "execution_count": 10,
   "metadata": {},
   "outputs": [
    {
     "data": {
      "text/plain": [
       "(306830, 16)"
      ]
     },
     "execution_count": 10,
     "metadata": {},
     "output_type": "execute_result"
    }
   ],
   "source": [
    "df.shape"
   ]
  },
  {
   "cell_type": "code",
   "execution_count": 11,
   "metadata": {},
   "outputs": [
    {
     "name": "stdout",
     "output_type": "stream",
     "text": [
      "<class 'pandas.core.frame.DataFrame'>\n",
      "DatetimeIndex: 306830 entries, 1990-01-01 00:00:00+07:00 to 2025-01-01 13:00:00+07:00\n",
      "Data columns (total 16 columns):\n",
      " #   Column              Non-Null Count   Dtype  \n",
      "---  ------              --------------   -----  \n",
      " 0   latitude            306830 non-null  float64\n",
      " 1   longitude           306830 non-null  float64\n",
      " 2   ymd                 306830 non-null  object \n",
      " 3   year                306830 non-null  int64  \n",
      " 4   month               306830 non-null  int64  \n",
      " 5   day                 306830 non-null  int64  \n",
      " 6   number              306830 non-null  float64\n",
      " 7   step                306830 non-null  object \n",
      " 8   surface             306830 non-null  float64\n",
      " 9   sp                  306830 non-null  float64\n",
      " 10  tcc                 306830 non-null  float64\n",
      " 11  tp                  306830 non-null  float64\n",
      " 12  u10                 306830 non-null  float64\n",
      " 13  v10                 306830 non-null  float64\n",
      " 14  wind_speed          306830 non-null  float64\n",
      " 15  wind_direction_deg  306830 non-null  float64\n",
      "dtypes: float64(11), int64(3), object(2)\n",
      "memory usage: 39.8+ MB\n"
     ]
    }
   ],
   "source": [
    "df.info()"
   ]
  },
  {
   "cell_type": "code",
   "execution_count": 12,
   "metadata": {},
   "outputs": [
    {
     "data": {
      "application/vnd.microsoft.datawrangler.viewer.v0+json": {
       "columns": [
        {
         "name": "index",
         "rawType": "object",
         "type": "string"
        },
        {
         "name": "latitude",
         "rawType": "float64",
         "type": "float"
        },
        {
         "name": "longitude",
         "rawType": "float64",
         "type": "float"
        },
        {
         "name": "year",
         "rawType": "float64",
         "type": "float"
        },
        {
         "name": "month",
         "rawType": "float64",
         "type": "float"
        },
        {
         "name": "day",
         "rawType": "float64",
         "type": "float"
        },
        {
         "name": "number",
         "rawType": "float64",
         "type": "float"
        },
        {
         "name": "surface",
         "rawType": "float64",
         "type": "float"
        },
        {
         "name": "sp",
         "rawType": "float64",
         "type": "float"
        },
        {
         "name": "tcc",
         "rawType": "float64",
         "type": "float"
        },
        {
         "name": "tp",
         "rawType": "float64",
         "type": "float"
        },
        {
         "name": "u10",
         "rawType": "float64",
         "type": "float"
        },
        {
         "name": "v10",
         "rawType": "float64",
         "type": "float"
        },
        {
         "name": "wind_speed",
         "rawType": "float64",
         "type": "float"
        },
        {
         "name": "wind_direction_deg",
         "rawType": "float64",
         "type": "float"
        }
       ],
       "ref": "673cee1f-f929-45bd-a860-903b86aab7b2",
       "rows": [
        [
         "count",
         "306830.0",
         "306830.0",
         "306830.0",
         "306830.0",
         "306830.0",
         "306830.0",
         "306830.0",
         "306830.0",
         "306830.0",
         "306830.0",
         "306830.0",
         "306830.0",
         "306830.0",
         "306830.0"
        ],
        [
         "mean",
         "9.180000000000005",
         "105.15000000000008",
         "2007.001525274582",
         "6.522589055828961",
         "15.729224652087476",
         "0.0",
         "0.0",
         "100975.04999407649",
         "0.7508566984124373",
         "0.00020893303139682412",
         "-0.2749556878164529",
         "0.28484801832402423",
         "2.841550221211164",
         "163.67900342676066"
        ],
        [
         "std",
         "5.329079202298695e-15",
         "7.10543893639826e-14",
         "10.100220231240119",
         "3.4488561637626733",
         "8.80057767965953",
         "0.0",
         "0.0",
         "216.90946269185613",
         "0.30144484666518356",
         "0.00042826423758655295",
         "2.8930742137731946",
         "1.2534915631786927",
         "1.4224714635714566",
         "87.44062948746736"
        ],
        [
         "min",
         "9.18",
         "105.15",
         "1990.0",
         "1.0",
         "1.0",
         "0.0",
         "0.0",
         "100216.44",
         "0.0",
         "0.0",
         "-9.223403",
         "-3.8042755",
         "0.0042484848570854",
         "0.0061323688309755"
        ],
        [
         "25%",
         "9.18",
         "105.15",
         "1998.0",
         "4.0",
         "8.0",
         "0.0",
         "0.0",
         "100824.5",
         "0.548593275",
         "3.243262e-07",
         "-2.492012225",
         "-0.48351872500000004",
         "1.7218987325720114",
         "86.26109363452416"
        ],
        [
         "50%",
         "9.18",
         "105.15",
         "2007.0",
         "7.0",
         "16.0",
         "0.0",
         "0.0",
         "100962.625",
         "0.9091449",
         "2.1502157e-05",
         "-0.37238258",
         "0.39113623",
         "2.648885622820448",
         "147.8967924143424"
        ],
        [
         "75%",
         "9.18",
         "105.15",
         "2016.0",
         "10.0",
         "23.0",
         "0.0",
         "0.0",
         "101113.94",
         "0.9909412",
         "0.00017594303500000002",
         "1.9879637",
         "1.149865175",
         "3.8048554208364767",
         "246.6922802812047"
        ],
        [
         "max",
         "9.18",
         "105.15",
         "2025.0",
         "12.0",
         "31.0",
         "0.0",
         "0.0",
         "101710.56",
         "0.99999994",
         "0.0025788536",
         "8.654032",
         "4.5657988",
         "9.350749349166255",
         "359.99627203821865"
        ]
       ],
       "shape": {
        "columns": 14,
        "rows": 8
       }
      },
      "text/html": [
       "<div>\n",
       "<style scoped>\n",
       "    .dataframe tbody tr th:only-of-type {\n",
       "        vertical-align: middle;\n",
       "    }\n",
       "\n",
       "    .dataframe tbody tr th {\n",
       "        vertical-align: top;\n",
       "    }\n",
       "\n",
       "    .dataframe thead th {\n",
       "        text-align: right;\n",
       "    }\n",
       "</style>\n",
       "<table border=\"1\" class=\"dataframe\">\n",
       "  <thead>\n",
       "    <tr style=\"text-align: right;\">\n",
       "      <th></th>\n",
       "      <th>latitude</th>\n",
       "      <th>longitude</th>\n",
       "      <th>year</th>\n",
       "      <th>month</th>\n",
       "      <th>day</th>\n",
       "      <th>number</th>\n",
       "      <th>surface</th>\n",
       "      <th>sp</th>\n",
       "      <th>tcc</th>\n",
       "      <th>tp</th>\n",
       "      <th>u10</th>\n",
       "      <th>v10</th>\n",
       "      <th>wind_speed</th>\n",
       "      <th>wind_direction_deg</th>\n",
       "    </tr>\n",
       "  </thead>\n",
       "  <tbody>\n",
       "    <tr>\n",
       "      <th>count</th>\n",
       "      <td>3.068300e+05</td>\n",
       "      <td>3.068300e+05</td>\n",
       "      <td>306830.000000</td>\n",
       "      <td>306830.000000</td>\n",
       "      <td>306830.000000</td>\n",
       "      <td>306830.0</td>\n",
       "      <td>306830.0</td>\n",
       "      <td>306830.000000</td>\n",
       "      <td>306830.000000</td>\n",
       "      <td>3.068300e+05</td>\n",
       "      <td>306830.000000</td>\n",
       "      <td>306830.000000</td>\n",
       "      <td>306830.000000</td>\n",
       "      <td>306830.000000</td>\n",
       "    </tr>\n",
       "    <tr>\n",
       "      <th>mean</th>\n",
       "      <td>9.180000e+00</td>\n",
       "      <td>1.051500e+02</td>\n",
       "      <td>2007.001525</td>\n",
       "      <td>6.522589</td>\n",
       "      <td>15.729225</td>\n",
       "      <td>0.0</td>\n",
       "      <td>0.0</td>\n",
       "      <td>100975.049994</td>\n",
       "      <td>0.750857</td>\n",
       "      <td>2.089330e-04</td>\n",
       "      <td>-0.274956</td>\n",
       "      <td>0.284848</td>\n",
       "      <td>2.841550</td>\n",
       "      <td>163.679003</td>\n",
       "    </tr>\n",
       "    <tr>\n",
       "      <th>std</th>\n",
       "      <td>5.329079e-15</td>\n",
       "      <td>7.105439e-14</td>\n",
       "      <td>10.100220</td>\n",
       "      <td>3.448856</td>\n",
       "      <td>8.800578</td>\n",
       "      <td>0.0</td>\n",
       "      <td>0.0</td>\n",
       "      <td>216.909463</td>\n",
       "      <td>0.301445</td>\n",
       "      <td>4.282642e-04</td>\n",
       "      <td>2.893074</td>\n",
       "      <td>1.253492</td>\n",
       "      <td>1.422471</td>\n",
       "      <td>87.440629</td>\n",
       "    </tr>\n",
       "    <tr>\n",
       "      <th>min</th>\n",
       "      <td>9.180000e+00</td>\n",
       "      <td>1.051500e+02</td>\n",
       "      <td>1990.000000</td>\n",
       "      <td>1.000000</td>\n",
       "      <td>1.000000</td>\n",
       "      <td>0.0</td>\n",
       "      <td>0.0</td>\n",
       "      <td>100216.440000</td>\n",
       "      <td>0.000000</td>\n",
       "      <td>0.000000e+00</td>\n",
       "      <td>-9.223403</td>\n",
       "      <td>-3.804276</td>\n",
       "      <td>0.004248</td>\n",
       "      <td>0.006132</td>\n",
       "    </tr>\n",
       "    <tr>\n",
       "      <th>25%</th>\n",
       "      <td>9.180000e+00</td>\n",
       "      <td>1.051500e+02</td>\n",
       "      <td>1998.000000</td>\n",
       "      <td>4.000000</td>\n",
       "      <td>8.000000</td>\n",
       "      <td>0.0</td>\n",
       "      <td>0.0</td>\n",
       "      <td>100824.500000</td>\n",
       "      <td>0.548593</td>\n",
       "      <td>3.243262e-07</td>\n",
       "      <td>-2.492012</td>\n",
       "      <td>-0.483519</td>\n",
       "      <td>1.721899</td>\n",
       "      <td>86.261094</td>\n",
       "    </tr>\n",
       "    <tr>\n",
       "      <th>50%</th>\n",
       "      <td>9.180000e+00</td>\n",
       "      <td>1.051500e+02</td>\n",
       "      <td>2007.000000</td>\n",
       "      <td>7.000000</td>\n",
       "      <td>16.000000</td>\n",
       "      <td>0.0</td>\n",
       "      <td>0.0</td>\n",
       "      <td>100962.625000</td>\n",
       "      <td>0.909145</td>\n",
       "      <td>2.150216e-05</td>\n",
       "      <td>-0.372383</td>\n",
       "      <td>0.391136</td>\n",
       "      <td>2.648886</td>\n",
       "      <td>147.896792</td>\n",
       "    </tr>\n",
       "    <tr>\n",
       "      <th>75%</th>\n",
       "      <td>9.180000e+00</td>\n",
       "      <td>1.051500e+02</td>\n",
       "      <td>2016.000000</td>\n",
       "      <td>10.000000</td>\n",
       "      <td>23.000000</td>\n",
       "      <td>0.0</td>\n",
       "      <td>0.0</td>\n",
       "      <td>101113.940000</td>\n",
       "      <td>0.990941</td>\n",
       "      <td>1.759430e-04</td>\n",
       "      <td>1.987964</td>\n",
       "      <td>1.149865</td>\n",
       "      <td>3.804855</td>\n",
       "      <td>246.692280</td>\n",
       "    </tr>\n",
       "    <tr>\n",
       "      <th>max</th>\n",
       "      <td>9.180000e+00</td>\n",
       "      <td>1.051500e+02</td>\n",
       "      <td>2025.000000</td>\n",
       "      <td>12.000000</td>\n",
       "      <td>31.000000</td>\n",
       "      <td>0.0</td>\n",
       "      <td>0.0</td>\n",
       "      <td>101710.560000</td>\n",
       "      <td>1.000000</td>\n",
       "      <td>2.578854e-03</td>\n",
       "      <td>8.654032</td>\n",
       "      <td>4.565799</td>\n",
       "      <td>9.350749</td>\n",
       "      <td>359.996272</td>\n",
       "    </tr>\n",
       "  </tbody>\n",
       "</table>\n",
       "</div>"
      ],
      "text/plain": [
       "           latitude     longitude           year          month  \\\n",
       "count  3.068300e+05  3.068300e+05  306830.000000  306830.000000   \n",
       "mean   9.180000e+00  1.051500e+02    2007.001525       6.522589   \n",
       "std    5.329079e-15  7.105439e-14      10.100220       3.448856   \n",
       "min    9.180000e+00  1.051500e+02    1990.000000       1.000000   \n",
       "25%    9.180000e+00  1.051500e+02    1998.000000       4.000000   \n",
       "50%    9.180000e+00  1.051500e+02    2007.000000       7.000000   \n",
       "75%    9.180000e+00  1.051500e+02    2016.000000      10.000000   \n",
       "max    9.180000e+00  1.051500e+02    2025.000000      12.000000   \n",
       "\n",
       "                 day    number   surface             sp            tcc  \\\n",
       "count  306830.000000  306830.0  306830.0  306830.000000  306830.000000   \n",
       "mean       15.729225       0.0       0.0  100975.049994       0.750857   \n",
       "std         8.800578       0.0       0.0     216.909463       0.301445   \n",
       "min         1.000000       0.0       0.0  100216.440000       0.000000   \n",
       "25%         8.000000       0.0       0.0  100824.500000       0.548593   \n",
       "50%        16.000000       0.0       0.0  100962.625000       0.909145   \n",
       "75%        23.000000       0.0       0.0  101113.940000       0.990941   \n",
       "max        31.000000       0.0       0.0  101710.560000       1.000000   \n",
       "\n",
       "                 tp            u10            v10     wind_speed  \\\n",
       "count  3.068300e+05  306830.000000  306830.000000  306830.000000   \n",
       "mean   2.089330e-04      -0.274956       0.284848       2.841550   \n",
       "std    4.282642e-04       2.893074       1.253492       1.422471   \n",
       "min    0.000000e+00      -9.223403      -3.804276       0.004248   \n",
       "25%    3.243262e-07      -2.492012      -0.483519       1.721899   \n",
       "50%    2.150216e-05      -0.372383       0.391136       2.648886   \n",
       "75%    1.759430e-04       1.987964       1.149865       3.804855   \n",
       "max    2.578854e-03       8.654032       4.565799       9.350749   \n",
       "\n",
       "       wind_direction_deg  \n",
       "count       306830.000000  \n",
       "mean           163.679003  \n",
       "std             87.440629  \n",
       "min              0.006132  \n",
       "25%             86.261094  \n",
       "50%            147.896792  \n",
       "75%            246.692280  \n",
       "max            359.996272  "
      ]
     },
     "execution_count": 12,
     "metadata": {},
     "output_type": "execute_result"
    }
   ],
   "source": [
    "df.describe()"
   ]
  },
  {
   "cell_type": "markdown",
   "metadata": {},
   "source": [
    "### <span style=\"color:orange\">4. Data Preparation</span>"
   ]
  },
  {
   "cell_type": "code",
   "execution_count": 13,
   "metadata": {},
   "outputs": [
    {
     "data": {
      "text/plain": [
       "Index(['latitude', 'longitude', 'ymd', 'year', 'month', 'day', 'number',\n",
       "       'step', 'surface', 'sp', 'tcc', 'tp', 'u10', 'v10', 'wind_speed',\n",
       "       'wind_direction_deg'],\n",
       "      dtype='object')"
      ]
     },
     "execution_count": 13,
     "metadata": {},
     "output_type": "execute_result"
    }
   ],
   "source": [
    "df.columns"
   ]
  },
  {
   "cell_type": "markdown",
   "metadata": {},
   "source": [
    "#### <span style=\"color:green\">4.1. Feature Selection</span>"
   ]
  },
  {
   "cell_type": "markdown",
   "metadata": {},
   "source": [
    "##### <span style=\"color:tomato\">Train/Validation/Test</span>"
   ]
  },
  {
   "cell_type": "markdown",
   "metadata": {},
   "source": [
    "Theo thứ tự thời gian (không shuffle)"
   ]
  },
  {
   "cell_type": "code",
   "execution_count": 14,
   "metadata": {},
   "outputs": [],
   "source": [
    "features = df[['sp', 'tcc', 'tp', 'u10', 'v10', 'wind_speed']]\n",
    "targets  = df['wind_direction_deg']"
   ]
  },
  {
   "cell_type": "code",
   "execution_count": 15,
   "metadata": {},
   "outputs": [],
   "source": [
    "# Aproach1\n",
    "# le = LabelEncoder()\n",
    "# targets_encoded = le.fit_transform(targets)\n",
    "\n",
    "\n",
    "# # Aproach2\n",
    "# targets_encoded = targets_encoded.replace({'e': 0, 'p': 1})\n",
    "\n",
    "# # Aproach3\n",
    "targets_encoded = targets.replace({'e': 0, 'p': 1})"
   ]
  },
  {
   "cell_type": "code",
   "execution_count": 16,
   "metadata": {},
   "outputs": [
    {
     "data": {
      "application/vnd.microsoft.datawrangler.viewer.v0+json": {
       "columns": [
        {
         "name": "time",
         "rawType": "datetime64[ns, UTC+07:00]",
         "type": "unknown"
        },
        {
         "name": "wind_direction_deg",
         "rawType": "float64",
         "type": "float"
        }
       ],
       "ref": "aaa5c871-2e3e-42d8-ac8a-d70dbd56165d",
       "rows": [
        [
         "1990-01-01 00:00:00+07:00",
         "136.40702360861093"
        ],
        [
         "1990-01-01 01:00:00+07:00",
         "136.40702360861093"
        ],
        [
         "1990-01-01 02:00:00+07:00",
         "136.40702360861093"
        ],
        [
         "1990-01-01 03:00:00+07:00",
         "136.40702360861093"
        ],
        [
         "1990-01-01 04:00:00+07:00",
         "136.40702360861093"
        ],
        [
         "1990-01-01 05:00:00+07:00",
         "136.40702360861093"
        ],
        [
         "1990-01-01 06:00:00+07:00",
         "136.40702360861093"
        ],
        [
         "1990-01-01 07:00:00+07:00",
         "58.43745545858819"
        ],
        [
         "1990-01-01 08:00:00+07:00",
         "80.70173677009932"
        ],
        [
         "1990-01-01 09:00:00+07:00",
         "83.3048549554705"
        ],
        [
         "1990-01-01 10:00:00+07:00",
         "81.59415826478448"
        ],
        [
         "1990-01-01 11:00:00+07:00",
         "79.71746064253946"
        ],
        [
         "1990-01-01 12:00:00+07:00",
         "81.85787824534525"
        ],
        [
         "1990-01-01 13:00:00+07:00",
         "85.13863587398035"
        ],
        [
         "1990-01-01 14:00:00+07:00",
         "89.7294545909328"
        ],
        [
         "1990-01-01 15:00:00+07:00",
         "90.89828425660514"
        ],
        [
         "1990-01-01 16:00:00+07:00",
         "98.40593210336588"
        ],
        [
         "1990-01-01 17:00:00+07:00",
         "101.93565218618777"
        ],
        [
         "1990-01-01 18:00:00+07:00",
         "103.26436701433268"
        ],
        [
         "1990-01-01 19:00:00+07:00",
         "103.39616029968651"
        ],
        [
         "1990-01-01 20:00:00+07:00",
         "102.375914376492"
        ],
        [
         "1990-01-01 21:00:00+07:00",
         "102.34719203818356"
        ],
        [
         "1990-01-01 22:00:00+07:00",
         "101.4434332483926"
        ],
        [
         "1990-01-01 23:00:00+07:00",
         "105.05386062394048"
        ],
        [
         "1990-01-02 00:00:00+07:00",
         "109.83148308723445"
        ],
        [
         "1990-01-02 01:00:00+07:00",
         "110.01894415798944"
        ],
        [
         "1990-01-02 02:00:00+07:00",
         "105.75582120164106"
        ],
        [
         "1990-01-02 03:00:00+07:00",
         "100.74706540060662"
        ],
        [
         "1990-01-02 04:00:00+07:00",
         "96.21897756137808"
        ],
        [
         "1990-01-02 05:00:00+07:00",
         "96.6718248000856"
        ],
        [
         "1990-01-02 06:00:00+07:00",
         "89.23594527622183"
        ],
        [
         "1990-01-02 07:00:00+07:00",
         "84.94110830390427"
        ],
        [
         "1990-01-02 08:00:00+07:00",
         "86.89154428124642"
        ],
        [
         "1990-01-02 09:00:00+07:00",
         "89.95855986487673"
        ],
        [
         "1990-01-02 10:00:00+07:00",
         "90.85583315566188"
        ],
        [
         "1990-01-02 11:00:00+07:00",
         "88.56137577709032"
        ],
        [
         "1990-01-02 12:00:00+07:00",
         "90.18176076290614"
        ],
        [
         "1990-01-02 13:00:00+07:00",
         "93.00652806833128"
        ],
        [
         "1990-01-02 14:00:00+07:00",
         "98.5396027700598"
        ],
        [
         "1990-01-02 15:00:00+07:00",
         "96.19841569537628"
        ],
        [
         "1990-01-02 16:00:00+07:00",
         "94.42742761995144"
        ],
        [
         "1990-01-02 17:00:00+07:00",
         "98.11664443180771"
        ],
        [
         "1990-01-02 18:00:00+07:00",
         "99.8147654098809"
        ],
        [
         "1990-01-02 19:00:00+07:00",
         "98.2571372889763"
        ],
        [
         "1990-01-02 20:00:00+07:00",
         "95.94920862520324"
        ],
        [
         "1990-01-02 21:00:00+07:00",
         "94.41179171058594"
        ],
        [
         "1990-01-02 22:00:00+07:00",
         "95.18824839448745"
        ],
        [
         "1990-01-02 23:00:00+07:00",
         "97.52441297765516"
        ],
        [
         "1990-01-03 00:00:00+07:00",
         "99.22192636308692"
        ],
        [
         "1990-01-03 01:00:00+07:00",
         "98.46805484215172"
        ]
       ],
       "shape": {
        "columns": 1,
        "rows": 306830
       }
      },
      "text/plain": [
       "time\n",
       "1990-01-01 00:00:00+07:00    136.407024\n",
       "1990-01-01 01:00:00+07:00    136.407024\n",
       "1990-01-01 02:00:00+07:00    136.407024\n",
       "1990-01-01 03:00:00+07:00    136.407024\n",
       "1990-01-01 04:00:00+07:00    136.407024\n",
       "                                ...    \n",
       "2025-01-01 09:00:00+07:00    357.041615\n",
       "2025-01-01 10:00:00+07:00    357.041615\n",
       "2025-01-01 11:00:00+07:00    357.041615\n",
       "2025-01-01 12:00:00+07:00    357.041615\n",
       "2025-01-01 13:00:00+07:00    357.041615\n",
       "Name: wind_direction_deg, Length: 306830, dtype: float64"
      ]
     },
     "execution_count": 16,
     "metadata": {},
     "output_type": "execute_result"
    }
   ],
   "source": [
    "# # y_train\n",
    "targets"
   ]
  },
  {
   "cell_type": "code",
   "execution_count": 17,
   "metadata": {},
   "outputs": [
    {
     "data": {
      "application/vnd.microsoft.datawrangler.viewer.v0+json": {
       "columns": [
        {
         "name": "time",
         "rawType": "datetime64[ns, UTC+07:00]",
         "type": "unknown"
        },
        {
         "name": "wind_direction_deg",
         "rawType": "float64",
         "type": "float"
        }
       ],
       "ref": "71e805b8-5584-48b9-a9d9-bdacfed826da",
       "rows": [
        [
         "1990-01-01 00:00:00+07:00",
         "136.40702360861093"
        ],
        [
         "1990-01-01 01:00:00+07:00",
         "136.40702360861093"
        ],
        [
         "1990-01-01 02:00:00+07:00",
         "136.40702360861093"
        ],
        [
         "1990-01-01 03:00:00+07:00",
         "136.40702360861093"
        ],
        [
         "1990-01-01 04:00:00+07:00",
         "136.40702360861093"
        ],
        [
         "1990-01-01 05:00:00+07:00",
         "136.40702360861093"
        ],
        [
         "1990-01-01 06:00:00+07:00",
         "136.40702360861093"
        ],
        [
         "1990-01-01 07:00:00+07:00",
         "58.43745545858819"
        ],
        [
         "1990-01-01 08:00:00+07:00",
         "80.70173677009932"
        ],
        [
         "1990-01-01 09:00:00+07:00",
         "83.3048549554705"
        ],
        [
         "1990-01-01 10:00:00+07:00",
         "81.59415826478448"
        ],
        [
         "1990-01-01 11:00:00+07:00",
         "79.71746064253946"
        ],
        [
         "1990-01-01 12:00:00+07:00",
         "81.85787824534525"
        ],
        [
         "1990-01-01 13:00:00+07:00",
         "85.13863587398035"
        ],
        [
         "1990-01-01 14:00:00+07:00",
         "89.7294545909328"
        ],
        [
         "1990-01-01 15:00:00+07:00",
         "90.89828425660514"
        ],
        [
         "1990-01-01 16:00:00+07:00",
         "98.40593210336588"
        ],
        [
         "1990-01-01 17:00:00+07:00",
         "101.93565218618777"
        ],
        [
         "1990-01-01 18:00:00+07:00",
         "103.26436701433268"
        ],
        [
         "1990-01-01 19:00:00+07:00",
         "103.39616029968651"
        ],
        [
         "1990-01-01 20:00:00+07:00",
         "102.375914376492"
        ],
        [
         "1990-01-01 21:00:00+07:00",
         "102.34719203818356"
        ],
        [
         "1990-01-01 22:00:00+07:00",
         "101.4434332483926"
        ],
        [
         "1990-01-01 23:00:00+07:00",
         "105.05386062394048"
        ],
        [
         "1990-01-02 00:00:00+07:00",
         "109.83148308723445"
        ],
        [
         "1990-01-02 01:00:00+07:00",
         "110.01894415798944"
        ],
        [
         "1990-01-02 02:00:00+07:00",
         "105.75582120164106"
        ],
        [
         "1990-01-02 03:00:00+07:00",
         "100.74706540060662"
        ],
        [
         "1990-01-02 04:00:00+07:00",
         "96.21897756137808"
        ],
        [
         "1990-01-02 05:00:00+07:00",
         "96.6718248000856"
        ],
        [
         "1990-01-02 06:00:00+07:00",
         "89.23594527622183"
        ],
        [
         "1990-01-02 07:00:00+07:00",
         "84.94110830390427"
        ],
        [
         "1990-01-02 08:00:00+07:00",
         "86.89154428124642"
        ],
        [
         "1990-01-02 09:00:00+07:00",
         "89.95855986487673"
        ],
        [
         "1990-01-02 10:00:00+07:00",
         "90.85583315566188"
        ],
        [
         "1990-01-02 11:00:00+07:00",
         "88.56137577709032"
        ],
        [
         "1990-01-02 12:00:00+07:00",
         "90.18176076290614"
        ],
        [
         "1990-01-02 13:00:00+07:00",
         "93.00652806833128"
        ],
        [
         "1990-01-02 14:00:00+07:00",
         "98.5396027700598"
        ],
        [
         "1990-01-02 15:00:00+07:00",
         "96.19841569537628"
        ],
        [
         "1990-01-02 16:00:00+07:00",
         "94.42742761995144"
        ],
        [
         "1990-01-02 17:00:00+07:00",
         "98.11664443180771"
        ],
        [
         "1990-01-02 18:00:00+07:00",
         "99.8147654098809"
        ],
        [
         "1990-01-02 19:00:00+07:00",
         "98.2571372889763"
        ],
        [
         "1990-01-02 20:00:00+07:00",
         "95.94920862520324"
        ],
        [
         "1990-01-02 21:00:00+07:00",
         "94.41179171058594"
        ],
        [
         "1990-01-02 22:00:00+07:00",
         "95.18824839448745"
        ],
        [
         "1990-01-02 23:00:00+07:00",
         "97.52441297765516"
        ],
        [
         "1990-01-03 00:00:00+07:00",
         "99.22192636308692"
        ],
        [
         "1990-01-03 01:00:00+07:00",
         "98.46805484215172"
        ]
       ],
       "shape": {
        "columns": 1,
        "rows": 306830
       }
      },
      "text/plain": [
       "time\n",
       "1990-01-01 00:00:00+07:00    136.407024\n",
       "1990-01-01 01:00:00+07:00    136.407024\n",
       "1990-01-01 02:00:00+07:00    136.407024\n",
       "1990-01-01 03:00:00+07:00    136.407024\n",
       "1990-01-01 04:00:00+07:00    136.407024\n",
       "                                ...    \n",
       "2025-01-01 09:00:00+07:00    357.041615\n",
       "2025-01-01 10:00:00+07:00    357.041615\n",
       "2025-01-01 11:00:00+07:00    357.041615\n",
       "2025-01-01 12:00:00+07:00    357.041615\n",
       "2025-01-01 13:00:00+07:00    357.041615\n",
       "Name: wind_direction_deg, Length: 306830, dtype: float64"
      ]
     },
     "execution_count": 17,
     "metadata": {},
     "output_type": "execute_result"
    }
   ],
   "source": [
    "targets_encoded"
   ]
  },
  {
   "cell_type": "markdown",
   "metadata": {},
   "source": [
    "#### <span style=\"color:green\">4.2. Dimensionality Reducing</span>"
   ]
  },
  {
   "cell_type": "markdown",
   "metadata": {},
   "source": [
    "##### <span style=\"color:tomato\">PCA</span>"
   ]
  },
  {
   "cell_type": "code",
   "execution_count": 18,
   "metadata": {},
   "outputs": [
    {
     "name": "stdout",
     "output_type": "stream",
     "text": [
      "v10           1.318882\n",
      "u10           1.194451\n",
      "wind_speed    0.156810\n",
      "sp            0.148118\n",
      "tp            0.092708\n",
      "tcc           0.083556\n",
      "Name: MI Scores, dtype: float64\n"
     ]
    }
   ],
   "source": [
    "mi_scores = plots.make_mi_scores_regression(\n",
    "    X_data = features, \n",
    "    y_data = targets\n",
    ")\n",
    "\n",
    "print(mi_scores.head(20))\n",
    "# print(mi_scores.head(20))\n",
    "# print(mi_scores.tail(20))  # uncomment to see bottom 20"
   ]
  },
  {
   "cell_type": "code",
   "execution_count": 19,
   "metadata": {},
   "outputs": [
    {
     "data": {
      "image/png": "[encoded data removed]",
      "text/plain": [
       "<Figure size 640x480 with 1 Axes>"
      ]
     },
     "metadata": {},
     "output_type": "display_data"
    }
   ],
   "source": [
    "plots.plot_mi_scores(mi_scores)\n",
    "# script.plot_mi_scores(mi_scores.head(62))\n",
    "# script.plot_mi_scores(mi_scores.tail(38))  # uncomment to see bottom 20"
   ]
  },
  {
   "cell_type": "code",
   "execution_count": 20,
   "metadata": {},
   "outputs": [],
   "source": [
    "# # # Lấy số lượng cột cần giữ lại (17 số cột có điểm MI cao nhất)\n",
    "# num_columns_to_keep = 17\n",
    "\n",
    "# # Lấy danh sách các cột cần giữ lại\n",
    "# columns_to_keep = mi_scores.nlargest(num_columns_to_keep).index\n",
    "\n",
    "# # Cập nhật X_train_encoded và X_test_encoded chỉ với các cột được giữ lại\n",
    "# features = features[columns_to_keep]\n",
    "\n",
    "# # Hiển thị các cột còn lại\n",
    "# print(f\"Các cột được giữ lại:\\n{features.columns}\")"
   ]
  },
  {
   "cell_type": "markdown",
   "metadata": {},
   "source": [
    "#### <span style=\"color:green\">4.3. Feature Engineering</span>"
   ]
  },
  {
   "cell_type": "code",
   "execution_count": 21,
   "metadata": {},
   "outputs": [
    {
     "data": {
      "application/vnd.microsoft.datawrangler.viewer.v0+json": {
       "columns": [
        {
         "name": "index",
         "rawType": "object",
         "type": "string"
        },
        {
         "name": "0",
         "rawType": "object",
         "type": "unknown"
        }
       ],
       "ref": "4a180958-c0a4-44cc-83d7-2ac2e18f6927",
       "rows": [
        [
         "sp",
         "float64"
        ],
        [
         "tcc",
         "float64"
        ],
        [
         "tp",
         "float64"
        ],
        [
         "u10",
         "float64"
        ],
        [
         "v10",
         "float64"
        ],
        [
         "wind_speed",
         "float64"
        ]
       ],
       "shape": {
        "columns": 1,
        "rows": 6
       }
      },
      "text/plain": [
       "sp            float64\n",
       "tcc           float64\n",
       "tp            float64\n",
       "u10           float64\n",
       "v10           float64\n",
       "wind_speed    float64\n",
       "dtype: object"
      ]
     },
     "execution_count": 21,
     "metadata": {},
     "output_type": "execute_result"
    }
   ],
   "source": [
    "features.dtypes"
   ]
  },
  {
   "cell_type": "code",
   "execution_count": 22,
   "metadata": {},
   "outputs": [
    {
     "data": {
      "text/plain": [
       "Index([], dtype='object')"
      ]
     },
     "execution_count": 22,
     "metadata": {},
     "output_type": "execute_result"
    }
   ],
   "source": [
    "categorical_features = features.select_dtypes(exclude='number').columns\n",
    "categorical_features"
   ]
  },
  {
   "cell_type": "code",
   "execution_count": 23,
   "metadata": {},
   "outputs": [
    {
     "data": {
      "text/plain": [
       "Index(['sp', 'tcc', 'tp', 'u10', 'v10', 'wind_speed'], dtype='object')"
      ]
     },
     "execution_count": 23,
     "metadata": {},
     "output_type": "execute_result"
    }
   ],
   "source": [
    "numerical_features = features.select_dtypes(include='number').columns\n",
    "numerical_features"
   ]
  },
  {
   "cell_type": "markdown",
   "metadata": {},
   "source": [
    "##### <span style=\"color:tomato\">Encode categorical feature</span>"
   ]
  },
  {
   "cell_type": "code",
   "execution_count": 24,
   "metadata": {},
   "outputs": [
    {
     "data": {
      "text/plain": [
       "Index([], dtype='object')"
      ]
     },
     "execution_count": 24,
     "metadata": {},
     "output_type": "execute_result"
    }
   ],
   "source": [
    "categorical_features"
   ]
  },
  {
   "cell_type": "code",
   "execution_count": 25,
   "metadata": {},
   "outputs": [
    {
     "data": {
      "application/vnd.microsoft.datawrangler.viewer.v0+json": {
       "columns": [
        {
         "name": "time",
         "rawType": "datetime64[ns, UTC+07:00]",
         "type": "unknown"
        }
       ],
       "ref": "10aed567-a6f8-4b00-8618-db9ab00575d2",
       "rows": [
        [
         "1990-01-01 00:00:00+07:00"
        ],
        [
         "1990-01-01 01:00:00+07:00"
        ],
        [
         "1990-01-01 02:00:00+07:00"
        ],
        [
         "1990-01-01 03:00:00+07:00"
        ],
        [
         "1990-01-01 04:00:00+07:00"
        ],
        [
         "1990-01-01 05:00:00+07:00"
        ],
        [
         "1990-01-01 06:00:00+07:00"
        ],
        [
         "1990-01-01 07:00:00+07:00"
        ],
        [
         "1990-01-01 08:00:00+07:00"
        ],
        [
         "1990-01-01 09:00:00+07:00"
        ],
        [
         "1990-01-01 10:00:00+07:00"
        ],
        [
         "1990-01-01 11:00:00+07:00"
        ],
        [
         "1990-01-01 12:00:00+07:00"
        ],
        [
         "1990-01-01 13:00:00+07:00"
        ],
        [
         "1990-01-01 14:00:00+07:00"
        ],
        [
         "1990-01-01 15:00:00+07:00"
        ],
        [
         "1990-01-01 16:00:00+07:00"
        ],
        [
         "1990-01-01 17:00:00+07:00"
        ],
        [
         "1990-01-01 18:00:00+07:00"
        ],
        [
         "1990-01-01 19:00:00+07:00"
        ],
        [
         "1990-01-01 20:00:00+07:00"
        ],
        [
         "1990-01-01 21:00:00+07:00"
        ],
        [
         "1990-01-01 22:00:00+07:00"
        ],
        [
         "1990-01-01 23:00:00+07:00"
        ],
        [
         "1990-01-02 00:00:00+07:00"
        ],
        [
         "1990-01-02 01:00:00+07:00"
        ],
        [
         "1990-01-02 02:00:00+07:00"
        ],
        [
         "1990-01-02 03:00:00+07:00"
        ],
        [
         "1990-01-02 04:00:00+07:00"
        ],
        [
         "1990-01-02 05:00:00+07:00"
        ],
        [
         "1990-01-02 06:00:00+07:00"
        ],
        [
         "1990-01-02 07:00:00+07:00"
        ],
        [
         "1990-01-02 08:00:00+07:00"
        ],
        [
         "1990-01-02 09:00:00+07:00"
        ],
        [
         "1990-01-02 10:00:00+07:00"
        ],
        [
         "1990-01-02 11:00:00+07:00"
        ],
        [
         "1990-01-02 12:00:00+07:00"
        ],
        [
         "1990-01-02 13:00:00+07:00"
        ],
        [
         "1990-01-02 14:00:00+07:00"
        ],
        [
         "1990-01-02 15:00:00+07:00"
        ],
        [
         "1990-01-02 16:00:00+07:00"
        ],
        [
         "1990-01-02 17:00:00+07:00"
        ],
        [
         "1990-01-02 18:00:00+07:00"
        ],
        [
         "1990-01-02 19:00:00+07:00"
        ],
        [
         "1990-01-02 20:00:00+07:00"
        ],
        [
         "1990-01-02 21:00:00+07:00"
        ],
        [
         "1990-01-02 22:00:00+07:00"
        ],
        [
         "1990-01-02 23:00:00+07:00"
        ],
        [
         "1990-01-03 00:00:00+07:00"
        ],
        [
         "1990-01-03 01:00:00+07:00"
        ]
       ],
       "shape": {
        "columns": 0,
        "rows": 306830
       }
      },
      "text/html": [
       "<div>\n",
       "<style scoped>\n",
       "    .dataframe tbody tr th:only-of-type {\n",
       "        vertical-align: middle;\n",
       "    }\n",
       "\n",
       "    .dataframe tbody tr th {\n",
       "        vertical-align: top;\n",
       "    }\n",
       "\n",
       "    .dataframe thead th {\n",
       "        text-align: right;\n",
       "    }\n",
       "</style>\n",
       "<table border=\"1\" class=\"dataframe\">\n",
       "  <thead>\n",
       "    <tr style=\"text-align: right;\">\n",
       "      <th></th>\n",
       "    </tr>\n",
       "    <tr>\n",
       "      <th>time</th>\n",
       "    </tr>\n",
       "  </thead>\n",
       "  <tbody>\n",
       "    <tr>\n",
       "      <th>1990-01-01 00:00:00+07:00</th>\n",
       "    </tr>\n",
       "    <tr>\n",
       "      <th>1990-01-01 01:00:00+07:00</th>\n",
       "    </tr>\n",
       "    <tr>\n",
       "      <th>1990-01-01 02:00:00+07:00</th>\n",
       "    </tr>\n",
       "    <tr>\n",
       "      <th>1990-01-01 03:00:00+07:00</th>\n",
       "    </tr>\n",
       "    <tr>\n",
       "      <th>1990-01-01 04:00:00+07:00</th>\n",
       "    </tr>\n",
       "    <tr>\n",
       "      <th>...</th>\n",
       "    </tr>\n",
       "    <tr>\n",
       "      <th>2025-01-01 09:00:00+07:00</th>\n",
       "    </tr>\n",
       "    <tr>\n",
       "      <th>2025-01-01 10:00:00+07:00</th>\n",
       "    </tr>\n",
       "    <tr>\n",
       "      <th>2025-01-01 11:00:00+07:00</th>\n",
       "    </tr>\n",
       "    <tr>\n",
       "      <th>2025-01-01 12:00:00+07:00</th>\n",
       "    </tr>\n",
       "    <tr>\n",
       "      <th>2025-01-01 13:00:00+07:00</th>\n",
       "    </tr>\n",
       "  </tbody>\n",
       "</table>\n",
       "<p>306830 rows × 0 columns</p>\n",
       "</div>"
      ],
      "text/plain": [
       "Empty DataFrame\n",
       "Columns: []\n",
       "Index: [1990-01-01 00:00:00+07:00, 1990-01-01 01:00:00+07:00, 1990-01-01 02:00:00+07:00, 1990-01-01 03:00:00+07:00, 1990-01-01 04:00:00+07:00, 1990-01-01 05:00:00+07:00, 1990-01-01 06:00:00+07:00, 1990-01-01 07:00:00+07:00, 1990-01-01 08:00:00+07:00, 1990-01-01 09:00:00+07:00, 1990-01-01 10:00:00+07:00, 1990-01-01 11:00:00+07:00, 1990-01-01 12:00:00+07:00, 1990-01-01 13:00:00+07:00, 1990-01-01 14:00:00+07:00, 1990-01-01 15:00:00+07:00, 1990-01-01 16:00:00+07:00, 1990-01-01 17:00:00+07:00, 1990-01-01 18:00:00+07:00, 1990-01-01 19:00:00+07:00, 1990-01-01 20:00:00+07:00, 1990-01-01 21:00:00+07:00, 1990-01-01 22:00:00+07:00, 1990-01-01 23:00:00+07:00, 1990-01-02 00:00:00+07:00, 1990-01-02 01:00:00+07:00, 1990-01-02 02:00:00+07:00, 1990-01-02 03:00:00+07:00, 1990-01-02 04:00:00+07:00, 1990-01-02 05:00:00+07:00, 1990-01-02 06:00:00+07:00, 1990-01-02 07:00:00+07:00, 1990-01-02 08:00:00+07:00, 1990-01-02 09:00:00+07:00, 1990-01-02 10:00:00+07:00, 1990-01-02 11:00:00+07:00, 1990-01-02 12:00:00+07:00, 1990-01-02 13:00:00+07:00, 1990-01-02 14:00:00+07:00, 1990-01-02 15:00:00+07:00, 1990-01-02 16:00:00+07:00, 1990-01-02 17:00:00+07:00, 1990-01-02 18:00:00+07:00, 1990-01-02 19:00:00+07:00, 1990-01-02 20:00:00+07:00, 1990-01-02 21:00:00+07:00, 1990-01-02 22:00:00+07:00, 1990-01-02 23:00:00+07:00, 1990-01-03 00:00:00+07:00, 1990-01-03 01:00:00+07:00, 1990-01-03 02:00:00+07:00, 1990-01-03 03:00:00+07:00, 1990-01-03 04:00:00+07:00, 1990-01-03 05:00:00+07:00, 1990-01-03 06:00:00+07:00, 1990-01-03 07:00:00+07:00, 1990-01-03 08:00:00+07:00, 1990-01-03 09:00:00+07:00, 1990-01-03 10:00:00+07:00, 1990-01-03 11:00:00+07:00, 1990-01-03 12:00:00+07:00, 1990-01-03 13:00:00+07:00, 1990-01-03 14:00:00+07:00, 1990-01-03 15:00:00+07:00, 1990-01-03 16:00:00+07:00, 1990-01-03 17:00:00+07:00, 1990-01-03 18:00:00+07:00, 1990-01-03 19:00:00+07:00, 1990-01-03 20:00:00+07:00, 1990-01-03 21:00:00+07:00, 1990-01-03 22:00:00+07:00, 1990-01-03 23:00:00+07:00, 1990-01-04 00:00:00+07:00, 1990-01-04 01:00:00+07:00, 1990-01-04 02:00:00+07:00, 1990-01-04 03:00:00+07:00, 1990-01-04 04:00:00+07:00, 1990-01-04 05:00:00+07:00, 1990-01-04 06:00:00+07:00, 1990-01-04 07:00:00+07:00, 1990-01-04 08:00:00+07:00, 1990-01-04 09:00:00+07:00, 1990-01-04 10:00:00+07:00, 1990-01-04 11:00:00+07:00, 1990-01-04 12:00:00+07:00, 1990-01-04 13:00:00+07:00, 1990-01-04 14:00:00+07:00, 1990-01-04 15:00:00+07:00, 1990-01-04 16:00:00+07:00, 1990-01-04 17:00:00+07:00, 1990-01-04 18:00:00+07:00, 1990-01-04 19:00:00+07:00, 1990-01-04 20:00:00+07:00, 1990-01-04 21:00:00+07:00, 1990-01-04 22:00:00+07:00, 1990-01-04 23:00:00+07:00, 1990-01-05 00:00:00+07:00, 1990-01-05 01:00:00+07:00, 1990-01-05 02:00:00+07:00, 1990-01-05 03:00:00+07:00, ...]\n",
       "\n",
       "[306830 rows x 0 columns]"
      ]
     },
     "execution_count": 25,
     "metadata": {},
     "output_type": "execute_result"
    }
   ],
   "source": [
    "features[categorical_features]"
   ]
  },
  {
   "cell_type": "code",
   "execution_count": 26,
   "metadata": {},
   "outputs": [],
   "source": [
    "categories = [match_type[col] for col in categorical_features]\n",
    "# encoder = OrdinalEncoder(\n",
    "#     categories = categories,\n",
    "#     handle_unknown = 'use_encoded_value', \n",
    "#     unknown_value  = -1\n",
    "# )\n",
    "encoder = OneHotEncoder(categories     = categories,\n",
    "                        sparse_output  = False,\n",
    "                        handle_unknown = \"ignore\")\n",
    "\n",
    "features_encoded  = deepcopy(features)\n",
    "\n",
    "# # Encode\n",
    "# features_cat_encoded  = encoder.fit_transform(features[categorical_features])\n",
    "\n",
    "# Kiểm tra số cột\n",
    "# print(\"Số cột của dữ liệu đã mã hóa: \", features_cat_encoded.shape[1])\n",
    "\n",
    "# Loại bỏ các cột trong `categorical` khỏi features_encoded\n",
    "features_encoded  = features_encoded.drop(columns=categorical_features)\n",
    "\n",
    "# Thêm các cột đã mã hóa vào features_encoded\n",
    "# encoded_columns = encoder.get_feature_names_out(categorical_features)\n",
    "\n",
    "# Tạo DataFrame từ các cột đã mã hóa và gán lại tên cột\n",
    "# features_encoded  = pd.DataFrame(features_cat_encoded, columns=encoded_columns, index=features.index)\n",
    "\n",
    "# Kết hợp lại với các cột còn lại trong features_encoded\n",
    "# features_encoded  = pd.concat([features_encoded, features.drop(columns=categorical_features)], axis=1)\n",
    "features_encoded  = features"
   ]
  },
  {
   "cell_type": "code",
   "execution_count": 27,
   "metadata": {},
   "outputs": [
    {
     "data": {
      "application/vnd.microsoft.datawrangler.viewer.v0+json": {
       "columns": [
        {
         "name": "time",
         "rawType": "datetime64[ns, UTC+07:00]",
         "type": "unknown"
        },
        {
         "name": "sp",
         "rawType": "float64",
         "type": "float"
        },
        {
         "name": "tcc",
         "rawType": "float64",
         "type": "float"
        },
        {
         "name": "tp",
         "rawType": "float64",
         "type": "float"
        },
        {
         "name": "u10",
         "rawType": "float64",
         "type": "float"
        },
        {
         "name": "v10",
         "rawType": "float64",
         "type": "float"
        },
        {
         "name": "wind_speed",
         "rawType": "float64",
         "type": "float"
        }
       ],
       "ref": "ac063bc9-a672-4e84-bd8b-45106f37ae22",
       "rows": [
        [
         "1990-01-01 00:00:00+07:00",
         "100962.625",
         "0.9091449",
         "2.1502157e-05",
         "-0.37238258",
         "0.39113623",
         "0.5400521607271553"
        ],
        [
         "1990-01-01 01:00:00+07:00",
         "100962.625",
         "0.9091449",
         "2.1502157e-05",
         "-0.37238258",
         "0.39113623",
         "0.5400521607271553"
        ],
        [
         "1990-01-01 02:00:00+07:00",
         "100962.625",
         "0.9091449",
         "2.1502157e-05",
         "-0.37238258",
         "0.39113623",
         "0.5400521607271553"
        ],
        [
         "1990-01-01 03:00:00+07:00",
         "100962.625",
         "0.9091449",
         "2.1502157e-05",
         "-0.37238258",
         "0.39113623",
         "0.5400521607271553"
        ],
        [
         "1990-01-01 04:00:00+07:00",
         "100962.625",
         "0.9091449",
         "2.1502157e-05",
         "-0.37238258",
         "0.39113623",
         "0.5400521607271553"
        ],
        [
         "1990-01-01 05:00:00+07:00",
         "100962.625",
         "0.9091449",
         "2.1502157e-05",
         "-0.37238258",
         "0.39113623",
         "0.5400521607271553"
        ],
        [
         "1990-01-01 06:00:00+07:00",
         "100962.625",
         "0.9091449",
         "2.1502157e-05",
         "-0.37238258",
         "0.39113623",
         "0.5400521607271553"
        ],
        [
         "1990-01-01 07:00:00+07:00",
         "101113.875",
         "0.9539568",
         "0.0",
         "-1.7300673",
         "-1.0627861",
         "2.030430288604487"
        ],
        [
         "1990-01-01 08:00:00+07:00",
         "101226.625",
         "0.90793204",
         "4.1961857e-07",
         "-3.4188204",
         "-0.5597469",
         "3.464339694590554"
        ],
        [
         "1990-01-01 09:00:00+07:00",
         "101284.06",
         "0.9903168",
         "1.4343639e-05",
         "-3.6076584",
         "-0.42349255",
         "3.632429637445998"
        ],
        [
         "1990-01-01 10:00:00+07:00",
         "101299.81",
         "0.99999994",
         "4.8369926e-05",
         "-3.620037",
         "-0.5349377",
         "3.659347786730621"
        ],
        [
         "1990-01-01 11:00:00+07:00",
         "101257.56",
         "0.9808919",
         "8.368978e-05",
         "-3.5896215",
         "-0.6512148",
         "3.648213703855805"
        ],
        [
         "1990-01-01 12:00:00+07:00",
         "101166.625",
         "0.9488925",
         "0.00010141262",
         "-3.70784",
         "-0.53048515",
         "3.745596342369333"
        ],
        [
         "1990-01-01 13:00:00+07:00",
         "101077.56",
         "0.98002535",
         "0.00016492182",
         "-3.8433933",
         "-0.32688445",
         "3.857269176779953"
        ],
        [
         "1990-01-01 14:00:00+07:00",
         "100961.5",
         "0.87031794",
         "0.0001497003",
         "-3.7801619",
         "-0.01784971",
         "3.780204042423992"
        ],
        [
         "1990-01-01 15:00:00+07:00",
         "100873.125",
         "0.90322673",
         "8.559934e-05",
         "-3.7342358",
         "0.058550213",
         "3.7346947850452232"
        ],
        [
         "1990-01-01 16:00:00+07:00",
         "100842.125",
         "0.97195935",
         "1.977761e-05",
         "-3.819172",
         "0.5643703",
         "3.860646137773584"
        ],
        [
         "1990-01-01 17:00:00+07:00",
         "100866.25",
         "0.9926608",
         "7.6308953e-07",
         "-3.8577938",
         "0.8154721",
         "3.943040419422156"
        ],
        [
         "1990-01-01 18:00:00+07:00",
         "100902.69",
         "0.996679",
         "1.3355384e-07",
         "-3.4563465",
         "0.81477636",
         "3.5510831650184005"
        ],
        [
         "1990-01-01 19:00:00+07:00",
         "100973.0",
         "0.9972562",
         "0.0",
         "-3.3375063",
         "0.7948698",
         "3.430855039416811"
        ],
        [
         "1990-01-01 20:00:00+07:00",
         "101008.875",
         "0.98970187",
         "0.0",
         "-3.3314695",
         "0.73100305",
         "3.410726387228907"
        ],
        [
         "1990-01-01 21:00:00+07:00",
         "101071.81",
         "0.9762073",
         "0.0",
         "-3.2366066",
         "0.70848745",
         "3.313242633730748"
        ],
        [
         "1990-01-01 22:00:00+07:00",
         "101118.19",
         "0.993903",
         "0.0",
         "-2.9431067",
         "0.5957565",
         "3.002799169920816"
        ],
        [
         "1990-01-01 23:00:00+07:00",
         "101103.0",
         "0.9882822",
         "0.0",
         "-2.54603",
         "0.68477255",
         "2.636509473932059"
        ],
        [
         "1990-01-02 00:00:00+07:00",
         "101108.94",
         "0.9655587",
         "0.0",
         "-2.315526",
         "0.8350782",
         "2.461506907727712"
        ],
        [
         "1990-01-02 01:00:00+07:00",
         "101085.56",
         "0.9959927",
         "0.0",
         "-2.3683128",
         "0.86288226",
         "2.5206093138895103"
        ],
        [
         "1990-01-02 02:00:00+07:00",
         "101040.19",
         "0.97991645",
         "0.0",
         "-2.509697",
         "0.70808303",
         "2.607673409225737"
        ],
        [
         "1990-01-02 03:00:00+07:00",
         "100995.5",
         "0.9992874",
         "0.0",
         "-2.5244255",
         "0.4791432",
         "2.569494563363871"
        ],
        [
         "1990-01-02 04:00:00+07:00",
         "100999.25",
         "0.99999994",
         "0.0",
         "-2.524479",
         "0.27509224",
         "2.5394231553542266"
        ],
        [
         "1990-01-02 05:00:00+07:00",
         "101069.44",
         "0.999376",
         "0.0",
         "-2.4908495",
         "0.29136586",
         "2.5078327886890284"
        ],
        [
         "1990-01-02 06:00:00+07:00",
         "101096.06",
         "0.998578",
         "0.0",
         "-2.5611734",
         "-0.034155965",
         "2.5614011428928194"
        ],
        [
         "1990-01-02 07:00:00+07:00",
         "101170.44",
         "0.97578895",
         "0.0",
         "-3.1594782",
         "-0.27969116",
         "3.1718337978616384"
        ],
        [
         "1990-01-02 08:00:00+07:00",
         "101234.69",
         "0.9830777",
         "0.0",
         "-4.3189554",
         "-0.23454553",
         "4.325319335359199"
        ],
        [
         "1990-01-02 09:00:00+07:00",
         "101320.75",
         "0.9839833",
         "0.0",
         "-5.003149",
         "-0.0036186122",
         "5.00315030861109"
        ],
        [
         "1990-01-02 10:00:00+07:00",
         "101292.125",
         "0.9761124",
         "0.0",
         "-5.2079487",
         "0.07779747",
         "5.208529745347539"
        ],
        [
         "1990-01-02 11:00:00+07:00",
         "101257.94",
         "0.9239862",
         "0.0",
         "-5.2885427",
         "-0.1328165",
         "5.290210214386148"
        ],
        [
         "1990-01-02 12:00:00+07:00",
         "101181.875",
         "0.93815064",
         "2.2123704e-06",
         "-5.181902",
         "0.016438726",
         "5.181928074502434"
        ],
        [
         "1990-01-02 13:00:00+07:00",
         "101117.81",
         "0.8592339",
         "1.1463264e-05",
         "-5.197196",
         "0.27296728",
         "5.204359460910305"
        ],
        [
         "1990-01-02 14:00:00+07:00",
         "101056.625",
         "0.8007994",
         "9.150654e-07",
         "-5.0373297",
         "0.7563939",
         "5.093802336021619"
        ],
        [
         "1990-01-02 15:00:00+07:00",
         "100996.5",
         "0.8609738",
         "2.2127451e-06",
         "-4.929023",
         "0.53532535",
         "4.958007761680252"
        ],
        [
         "1990-01-02 16:00:00+07:00",
         "100986.375",
         "0.75557107",
         "7.6308953e-07",
         "-4.9103146",
         "0.3801927",
         "4.925011264972544"
        ],
        [
         "1990-01-02 17:00:00+07:00",
         "101003.625",
         "0.7095342",
         "0.0",
         "-4.124399",
         "0.58821136",
         "4.166132464916839"
        ],
        [
         "1990-01-02 18:00:00+07:00",
         "101008.81",
         "0.37547332",
         "0.0",
         "-3.32275",
         "0.57482046",
         "3.372104109266885"
        ],
        [
         "1990-01-02 19:00:00+07:00",
         "101087.0",
         "0.07777965",
         "0.0",
         "-3.2337904",
         "0.4692886",
         "3.267664631081672"
        ],
        [
         "1990-01-02 20:00:00+07:00",
         "101186.31",
         "0.0075755827",
         "0.0",
         "-3.1983967",
         "0.33329868",
         "3.2157160105737934"
        ],
        [
         "1990-01-02 21:00:00+07:00",
         "101226.125",
         "0.03208072",
         "0.0",
         "-3.251319",
         "0.25084847",
         "3.2609814772031966"
        ],
        [
         "1990-01-02 22:00:00+07:00",
         "101263.06",
         "0.0061233006",
         "0.0",
         "-3.2393293",
         "0.29413217",
         "3.252655537751792"
        ],
        [
         "1990-01-02 23:00:00+07:00",
         "101255.69",
         "0.018837653",
         "0.0",
         "-3.3357773",
         "0.44060946",
         "3.364750643277564"
        ],
        [
         "1990-01-03 00:00:00+07:00",
         "101257.625",
         "0.03920823",
         "0.0",
         "-3.430869",
         "0.557027",
         "3.4757936034652577"
        ],
        [
         "1990-01-03 01:00:00+07:00",
         "101255.19",
         "0.026823584",
         "0.0",
         "-3.3921947",
         "0.5050335",
         "3.4295836072080736"
        ]
       ],
       "shape": {
        "columns": 6,
        "rows": 306830
       }
      },
      "text/html": [
       "<div>\n",
       "<style scoped>\n",
       "    .dataframe tbody tr th:only-of-type {\n",
       "        vertical-align: middle;\n",
       "    }\n",
       "\n",
       "    .dataframe tbody tr th {\n",
       "        vertical-align: top;\n",
       "    }\n",
       "\n",
       "    .dataframe thead th {\n",
       "        text-align: right;\n",
       "    }\n",
       "</style>\n",
       "<table border=\"1\" class=\"dataframe\">\n",
       "  <thead>\n",
       "    <tr style=\"text-align: right;\">\n",
       "      <th></th>\n",
       "      <th>sp</th>\n",
       "      <th>tcc</th>\n",
       "      <th>tp</th>\n",
       "      <th>u10</th>\n",
       "      <th>v10</th>\n",
       "      <th>wind_speed</th>\n",
       "    </tr>\n",
       "    <tr>\n",
       "      <th>time</th>\n",
       "      <th></th>\n",
       "      <th></th>\n",
       "      <th></th>\n",
       "      <th></th>\n",
       "      <th></th>\n",
       "      <th></th>\n",
       "    </tr>\n",
       "  </thead>\n",
       "  <tbody>\n",
       "    <tr>\n",
       "      <th>1990-01-01 00:00:00+07:00</th>\n",
       "      <td>100962.625</td>\n",
       "      <td>0.909145</td>\n",
       "      <td>2.150216e-05</td>\n",
       "      <td>-0.372383</td>\n",
       "      <td>0.391136</td>\n",
       "      <td>0.540052</td>\n",
       "    </tr>\n",
       "    <tr>\n",
       "      <th>1990-01-01 01:00:00+07:00</th>\n",
       "      <td>100962.625</td>\n",
       "      <td>0.909145</td>\n",
       "      <td>2.150216e-05</td>\n",
       "      <td>-0.372383</td>\n",
       "      <td>0.391136</td>\n",
       "      <td>0.540052</td>\n",
       "    </tr>\n",
       "    <tr>\n",
       "      <th>1990-01-01 02:00:00+07:00</th>\n",
       "      <td>100962.625</td>\n",
       "      <td>0.909145</td>\n",
       "      <td>2.150216e-05</td>\n",
       "      <td>-0.372383</td>\n",
       "      <td>0.391136</td>\n",
       "      <td>0.540052</td>\n",
       "    </tr>\n",
       "    <tr>\n",
       "      <th>1990-01-01 03:00:00+07:00</th>\n",
       "      <td>100962.625</td>\n",
       "      <td>0.909145</td>\n",
       "      <td>2.150216e-05</td>\n",
       "      <td>-0.372383</td>\n",
       "      <td>0.391136</td>\n",
       "      <td>0.540052</td>\n",
       "    </tr>\n",
       "    <tr>\n",
       "      <th>1990-01-01 04:00:00+07:00</th>\n",
       "      <td>100962.625</td>\n",
       "      <td>0.909145</td>\n",
       "      <td>2.150216e-05</td>\n",
       "      <td>-0.372383</td>\n",
       "      <td>0.391136</td>\n",
       "      <td>0.540052</td>\n",
       "    </tr>\n",
       "    <tr>\n",
       "      <th>...</th>\n",
       "      <td>...</td>\n",
       "      <td>...</td>\n",
       "      <td>...</td>\n",
       "      <td>...</td>\n",
       "      <td>...</td>\n",
       "      <td>...</td>\n",
       "    </tr>\n",
       "    <tr>\n",
       "      <th>2025-01-01 09:00:00+07:00</th>\n",
       "      <td>100997.440</td>\n",
       "      <td>1.000000</td>\n",
       "      <td>2.671077e-07</td>\n",
       "      <td>0.135825</td>\n",
       "      <td>-2.628218</td>\n",
       "      <td>2.631725</td>\n",
       "    </tr>\n",
       "    <tr>\n",
       "      <th>2025-01-01 10:00:00+07:00</th>\n",
       "      <td>100997.440</td>\n",
       "      <td>1.000000</td>\n",
       "      <td>2.671077e-07</td>\n",
       "      <td>0.135825</td>\n",
       "      <td>-2.628218</td>\n",
       "      <td>2.631725</td>\n",
       "    </tr>\n",
       "    <tr>\n",
       "      <th>2025-01-01 11:00:00+07:00</th>\n",
       "      <td>100997.440</td>\n",
       "      <td>1.000000</td>\n",
       "      <td>2.671077e-07</td>\n",
       "      <td>0.135825</td>\n",
       "      <td>-2.628218</td>\n",
       "      <td>2.631725</td>\n",
       "    </tr>\n",
       "    <tr>\n",
       "      <th>2025-01-01 12:00:00+07:00</th>\n",
       "      <td>100997.440</td>\n",
       "      <td>1.000000</td>\n",
       "      <td>2.671077e-07</td>\n",
       "      <td>0.135825</td>\n",
       "      <td>-2.628218</td>\n",
       "      <td>2.631725</td>\n",
       "    </tr>\n",
       "    <tr>\n",
       "      <th>2025-01-01 13:00:00+07:00</th>\n",
       "      <td>100997.440</td>\n",
       "      <td>1.000000</td>\n",
       "      <td>2.671077e-07</td>\n",
       "      <td>0.135825</td>\n",
       "      <td>-2.628218</td>\n",
       "      <td>2.631725</td>\n",
       "    </tr>\n",
       "  </tbody>\n",
       "</table>\n",
       "<p>306830 rows × 6 columns</p>\n",
       "</div>"
      ],
      "text/plain": [
       "                                   sp       tcc            tp       u10  \\\n",
       "time                                                                      \n",
       "1990-01-01 00:00:00+07:00  100962.625  0.909145  2.150216e-05 -0.372383   \n",
       "1990-01-01 01:00:00+07:00  100962.625  0.909145  2.150216e-05 -0.372383   \n",
       "1990-01-01 02:00:00+07:00  100962.625  0.909145  2.150216e-05 -0.372383   \n",
       "1990-01-01 03:00:00+07:00  100962.625  0.909145  2.150216e-05 -0.372383   \n",
       "1990-01-01 04:00:00+07:00  100962.625  0.909145  2.150216e-05 -0.372383   \n",
       "...                               ...       ...           ...       ...   \n",
       "2025-01-01 09:00:00+07:00  100997.440  1.000000  2.671077e-07  0.135825   \n",
       "2025-01-01 10:00:00+07:00  100997.440  1.000000  2.671077e-07  0.135825   \n",
       "2025-01-01 11:00:00+07:00  100997.440  1.000000  2.671077e-07  0.135825   \n",
       "2025-01-01 12:00:00+07:00  100997.440  1.000000  2.671077e-07  0.135825   \n",
       "2025-01-01 13:00:00+07:00  100997.440  1.000000  2.671077e-07  0.135825   \n",
       "\n",
       "                                v10  wind_speed  \n",
       "time                                             \n",
       "1990-01-01 00:00:00+07:00  0.391136    0.540052  \n",
       "1990-01-01 01:00:00+07:00  0.391136    0.540052  \n",
       "1990-01-01 02:00:00+07:00  0.391136    0.540052  \n",
       "1990-01-01 03:00:00+07:00  0.391136    0.540052  \n",
       "1990-01-01 04:00:00+07:00  0.391136    0.540052  \n",
       "...                             ...         ...  \n",
       "2025-01-01 09:00:00+07:00 -2.628218    2.631725  \n",
       "2025-01-01 10:00:00+07:00 -2.628218    2.631725  \n",
       "2025-01-01 11:00:00+07:00 -2.628218    2.631725  \n",
       "2025-01-01 12:00:00+07:00 -2.628218    2.631725  \n",
       "2025-01-01 13:00:00+07:00 -2.628218    2.631725  \n",
       "\n",
       "[306830 rows x 6 columns]"
      ]
     },
     "execution_count": 27,
     "metadata": {},
     "output_type": "execute_result"
    }
   ],
   "source": [
    "features_encoded"
   ]
  },
  {
   "cell_type": "markdown",
   "metadata": {},
   "source": [
    "#### <span style=\"color:green\">4.4. Feature Scaling</span>"
   ]
  },
  {
   "cell_type": "code",
   "execution_count": 28,
   "metadata": {},
   "outputs": [
    {
     "data": {
      "application/vnd.microsoft.datawrangler.viewer.v0+json": {
       "columns": [
        {
         "name": "time",
         "rawType": "datetime64[ns, UTC+07:00]",
         "type": "unknown"
        },
        {
         "name": "sp",
         "rawType": "float64",
         "type": "float"
        },
        {
         "name": "tcc",
         "rawType": "float64",
         "type": "float"
        },
        {
         "name": "tp",
         "rawType": "float64",
         "type": "float"
        },
        {
         "name": "u10",
         "rawType": "float64",
         "type": "float"
        },
        {
         "name": "v10",
         "rawType": "float64",
         "type": "float"
        },
        {
         "name": "wind_speed",
         "rawType": "float64",
         "type": "float"
        }
       ],
       "ref": "2c8d95cc-6843-47ff-9ca1-3fb597bbdeb7",
       "rows": [
        [
         "1990-01-01 00:00:00+07:00",
         "100962.625",
         "0.9091449",
         "2.1502157e-05",
         "-0.37238258",
         "0.39113623",
         "0.5400521607271553"
        ],
        [
         "1990-01-01 01:00:00+07:00",
         "100962.625",
         "0.9091449",
         "2.1502157e-05",
         "-0.37238258",
         "0.39113623",
         "0.5400521607271553"
        ],
        [
         "1990-01-01 02:00:00+07:00",
         "100962.625",
         "0.9091449",
         "2.1502157e-05",
         "-0.37238258",
         "0.39113623",
         "0.5400521607271553"
        ],
        [
         "1990-01-01 03:00:00+07:00",
         "100962.625",
         "0.9091449",
         "2.1502157e-05",
         "-0.37238258",
         "0.39113623",
         "0.5400521607271553"
        ],
        [
         "1990-01-01 04:00:00+07:00",
         "100962.625",
         "0.9091449",
         "2.1502157e-05",
         "-0.37238258",
         "0.39113623",
         "0.5400521607271553"
        ],
        [
         "1990-01-01 05:00:00+07:00",
         "100962.625",
         "0.9091449",
         "2.1502157e-05",
         "-0.37238258",
         "0.39113623",
         "0.5400521607271553"
        ],
        [
         "1990-01-01 06:00:00+07:00",
         "100962.625",
         "0.9091449",
         "2.1502157e-05",
         "-0.37238258",
         "0.39113623",
         "0.5400521607271553"
        ],
        [
         "1990-01-01 07:00:00+07:00",
         "101113.875",
         "0.9539568",
         "0.0",
         "-1.7300673",
         "-1.0627861",
         "2.030430288604487"
        ],
        [
         "1990-01-01 08:00:00+07:00",
         "101226.625",
         "0.90793204",
         "4.1961857e-07",
         "-3.4188204",
         "-0.5597469",
         "3.464339694590554"
        ],
        [
         "1990-01-01 09:00:00+07:00",
         "101284.06",
         "0.9903168",
         "1.4343639e-05",
         "-3.6076584",
         "-0.42349255",
         "3.632429637445998"
        ],
        [
         "1990-01-01 10:00:00+07:00",
         "101299.81",
         "0.99999994",
         "4.8369926e-05",
         "-3.620037",
         "-0.5349377",
         "3.659347786730621"
        ],
        [
         "1990-01-01 11:00:00+07:00",
         "101257.56",
         "0.9808919",
         "8.368978e-05",
         "-3.5896215",
         "-0.6512148",
         "3.648213703855805"
        ],
        [
         "1990-01-01 12:00:00+07:00",
         "101166.625",
         "0.9488925",
         "0.00010141262",
         "-3.70784",
         "-0.53048515",
         "3.745596342369333"
        ],
        [
         "1990-01-01 13:00:00+07:00",
         "101077.56",
         "0.98002535",
         "0.00016492182",
         "-3.8433933",
         "-0.32688445",
         "3.857269176779953"
        ],
        [
         "1990-01-01 14:00:00+07:00",
         "100961.5",
         "0.87031794",
         "0.0001497003",
         "-3.7801619",
         "-0.01784971",
         "3.780204042423992"
        ],
        [
         "1990-01-01 15:00:00+07:00",
         "100873.125",
         "0.90322673",
         "8.559934e-05",
         "-3.7342358",
         "0.058550213",
         "3.7346947850452232"
        ],
        [
         "1990-01-01 16:00:00+07:00",
         "100842.125",
         "0.97195935",
         "1.977761e-05",
         "-3.819172",
         "0.5643703",
         "3.860646137773584"
        ],
        [
         "1990-01-01 17:00:00+07:00",
         "100866.25",
         "0.9926608",
         "7.6308953e-07",
         "-3.8577938",
         "0.8154721",
         "3.943040419422156"
        ],
        [
         "1990-01-01 18:00:00+07:00",
         "100902.69",
         "0.996679",
         "1.3355384e-07",
         "-3.4563465",
         "0.81477636",
         "3.5510831650184005"
        ],
        [
         "1990-01-01 19:00:00+07:00",
         "100973.0",
         "0.9972562",
         "0.0",
         "-3.3375063",
         "0.7948698",
         "3.430855039416811"
        ],
        [
         "1990-01-01 20:00:00+07:00",
         "101008.875",
         "0.98970187",
         "0.0",
         "-3.3314695",
         "0.73100305",
         "3.410726387228907"
        ],
        [
         "1990-01-01 21:00:00+07:00",
         "101071.81",
         "0.9762073",
         "0.0",
         "-3.2366066",
         "0.70848745",
         "3.313242633730748"
        ],
        [
         "1990-01-01 22:00:00+07:00",
         "101118.19",
         "0.993903",
         "0.0",
         "-2.9431067",
         "0.5957565",
         "3.002799169920816"
        ],
        [
         "1990-01-01 23:00:00+07:00",
         "101103.0",
         "0.9882822",
         "0.0",
         "-2.54603",
         "0.68477255",
         "2.636509473932059"
        ],
        [
         "1990-01-02 00:00:00+07:00",
         "101108.94",
         "0.9655587",
         "0.0",
         "-2.315526",
         "0.8350782",
         "2.461506907727712"
        ],
        [
         "1990-01-02 01:00:00+07:00",
         "101085.56",
         "0.9959927",
         "0.0",
         "-2.3683128",
         "0.86288226",
         "2.5206093138895103"
        ],
        [
         "1990-01-02 02:00:00+07:00",
         "101040.19",
         "0.97991645",
         "0.0",
         "-2.509697",
         "0.70808303",
         "2.607673409225737"
        ],
        [
         "1990-01-02 03:00:00+07:00",
         "100995.5",
         "0.9992874",
         "0.0",
         "-2.5244255",
         "0.4791432",
         "2.569494563363871"
        ],
        [
         "1990-01-02 04:00:00+07:00",
         "100999.25",
         "0.99999994",
         "0.0",
         "-2.524479",
         "0.27509224",
         "2.5394231553542266"
        ],
        [
         "1990-01-02 05:00:00+07:00",
         "101069.44",
         "0.999376",
         "0.0",
         "-2.4908495",
         "0.29136586",
         "2.5078327886890284"
        ],
        [
         "1990-01-02 06:00:00+07:00",
         "101096.06",
         "0.998578",
         "0.0",
         "-2.5611734",
         "-0.034155965",
         "2.5614011428928194"
        ],
        [
         "1990-01-02 07:00:00+07:00",
         "101170.44",
         "0.97578895",
         "0.0",
         "-3.1594782",
         "-0.27969116",
         "3.1718337978616384"
        ],
        [
         "1990-01-02 08:00:00+07:00",
         "101234.69",
         "0.9830777",
         "0.0",
         "-4.3189554",
         "-0.23454553",
         "4.325319335359199"
        ],
        [
         "1990-01-02 09:00:00+07:00",
         "101320.75",
         "0.9839833",
         "0.0",
         "-5.003149",
         "-0.0036186122",
         "5.00315030861109"
        ],
        [
         "1990-01-02 10:00:00+07:00",
         "101292.125",
         "0.9761124",
         "0.0",
         "-5.2079487",
         "0.07779747",
         "5.208529745347539"
        ],
        [
         "1990-01-02 11:00:00+07:00",
         "101257.94",
         "0.9239862",
         "0.0",
         "-5.2885427",
         "-0.1328165",
         "5.290210214386148"
        ],
        [
         "1990-01-02 12:00:00+07:00",
         "101181.875",
         "0.93815064",
         "2.2123704e-06",
         "-5.181902",
         "0.016438726",
         "5.181928074502434"
        ],
        [
         "1990-01-02 13:00:00+07:00",
         "101117.81",
         "0.8592339",
         "1.1463264e-05",
         "-5.197196",
         "0.27296728",
         "5.204359460910305"
        ],
        [
         "1990-01-02 14:00:00+07:00",
         "101056.625",
         "0.8007994",
         "9.150654e-07",
         "-5.0373297",
         "0.7563939",
         "5.093802336021619"
        ],
        [
         "1990-01-02 15:00:00+07:00",
         "100996.5",
         "0.8609738",
         "2.2127451e-06",
         "-4.929023",
         "0.53532535",
         "4.958007761680252"
        ],
        [
         "1990-01-02 16:00:00+07:00",
         "100986.375",
         "0.75557107",
         "7.6308953e-07",
         "-4.9103146",
         "0.3801927",
         "4.925011264972544"
        ],
        [
         "1990-01-02 17:00:00+07:00",
         "101003.625",
         "0.7095342",
         "0.0",
         "-4.124399",
         "0.58821136",
         "4.166132464916839"
        ],
        [
         "1990-01-02 18:00:00+07:00",
         "101008.81",
         "0.37547332",
         "0.0",
         "-3.32275",
         "0.57482046",
         "3.372104109266885"
        ],
        [
         "1990-01-02 19:00:00+07:00",
         "101087.0",
         "0.07777965",
         "0.0",
         "-3.2337904",
         "0.4692886",
         "3.267664631081672"
        ],
        [
         "1990-01-02 20:00:00+07:00",
         "101186.31",
         "0.0075755827",
         "0.0",
         "-3.1983967",
         "0.33329868",
         "3.2157160105737934"
        ],
        [
         "1990-01-02 21:00:00+07:00",
         "101226.125",
         "0.03208072",
         "0.0",
         "-3.251319",
         "0.25084847",
         "3.2609814772031966"
        ],
        [
         "1990-01-02 22:00:00+07:00",
         "101263.06",
         "0.0061233006",
         "0.0",
         "-3.2393293",
         "0.29413217",
         "3.252655537751792"
        ],
        [
         "1990-01-02 23:00:00+07:00",
         "101255.69",
         "0.018837653",
         "0.0",
         "-3.3357773",
         "0.44060946",
         "3.364750643277564"
        ],
        [
         "1990-01-03 00:00:00+07:00",
         "101257.625",
         "0.03920823",
         "0.0",
         "-3.430869",
         "0.557027",
         "3.4757936034652577"
        ],
        [
         "1990-01-03 01:00:00+07:00",
         "101255.19",
         "0.026823584",
         "0.0",
         "-3.3921947",
         "0.5050335",
         "3.4295836072080736"
        ]
       ],
       "shape": {
        "columns": 6,
        "rows": 306830
       }
      },
      "text/html": [
       "<div>\n",
       "<style scoped>\n",
       "    .dataframe tbody tr th:only-of-type {\n",
       "        vertical-align: middle;\n",
       "    }\n",
       "\n",
       "    .dataframe tbody tr th {\n",
       "        vertical-align: top;\n",
       "    }\n",
       "\n",
       "    .dataframe thead th {\n",
       "        text-align: right;\n",
       "    }\n",
       "</style>\n",
       "<table border=\"1\" class=\"dataframe\">\n",
       "  <thead>\n",
       "    <tr style=\"text-align: right;\">\n",
       "      <th></th>\n",
       "      <th>sp</th>\n",
       "      <th>tcc</th>\n",
       "      <th>tp</th>\n",
       "      <th>u10</th>\n",
       "      <th>v10</th>\n",
       "      <th>wind_speed</th>\n",
       "    </tr>\n",
       "    <tr>\n",
       "      <th>time</th>\n",
       "      <th></th>\n",
       "      <th></th>\n",
       "      <th></th>\n",
       "      <th></th>\n",
       "      <th></th>\n",
       "      <th></th>\n",
       "    </tr>\n",
       "  </thead>\n",
       "  <tbody>\n",
       "    <tr>\n",
       "      <th>1990-01-01 00:00:00+07:00</th>\n",
       "      <td>100962.625</td>\n",
       "      <td>0.909145</td>\n",
       "      <td>2.150216e-05</td>\n",
       "      <td>-0.372383</td>\n",
       "      <td>0.391136</td>\n",
       "      <td>0.540052</td>\n",
       "    </tr>\n",
       "    <tr>\n",
       "      <th>1990-01-01 01:00:00+07:00</th>\n",
       "      <td>100962.625</td>\n",
       "      <td>0.909145</td>\n",
       "      <td>2.150216e-05</td>\n",
       "      <td>-0.372383</td>\n",
       "      <td>0.391136</td>\n",
       "      <td>0.540052</td>\n",
       "    </tr>\n",
       "    <tr>\n",
       "      <th>1990-01-01 02:00:00+07:00</th>\n",
       "      <td>100962.625</td>\n",
       "      <td>0.909145</td>\n",
       "      <td>2.150216e-05</td>\n",
       "      <td>-0.372383</td>\n",
       "      <td>0.391136</td>\n",
       "      <td>0.540052</td>\n",
       "    </tr>\n",
       "    <tr>\n",
       "      <th>1990-01-01 03:00:00+07:00</th>\n",
       "      <td>100962.625</td>\n",
       "      <td>0.909145</td>\n",
       "      <td>2.150216e-05</td>\n",
       "      <td>-0.372383</td>\n",
       "      <td>0.391136</td>\n",
       "      <td>0.540052</td>\n",
       "    </tr>\n",
       "    <tr>\n",
       "      <th>1990-01-01 04:00:00+07:00</th>\n",
       "      <td>100962.625</td>\n",
       "      <td>0.909145</td>\n",
       "      <td>2.150216e-05</td>\n",
       "      <td>-0.372383</td>\n",
       "      <td>0.391136</td>\n",
       "      <td>0.540052</td>\n",
       "    </tr>\n",
       "    <tr>\n",
       "      <th>...</th>\n",
       "      <td>...</td>\n",
       "      <td>...</td>\n",
       "      <td>...</td>\n",
       "      <td>...</td>\n",
       "      <td>...</td>\n",
       "      <td>...</td>\n",
       "    </tr>\n",
       "    <tr>\n",
       "      <th>2025-01-01 09:00:00+07:00</th>\n",
       "      <td>100997.440</td>\n",
       "      <td>1.000000</td>\n",
       "      <td>2.671077e-07</td>\n",
       "      <td>0.135825</td>\n",
       "      <td>-2.628218</td>\n",
       "      <td>2.631725</td>\n",
       "    </tr>\n",
       "    <tr>\n",
       "      <th>2025-01-01 10:00:00+07:00</th>\n",
       "      <td>100997.440</td>\n",
       "      <td>1.000000</td>\n",
       "      <td>2.671077e-07</td>\n",
       "      <td>0.135825</td>\n",
       "      <td>-2.628218</td>\n",
       "      <td>2.631725</td>\n",
       "    </tr>\n",
       "    <tr>\n",
       "      <th>2025-01-01 11:00:00+07:00</th>\n",
       "      <td>100997.440</td>\n",
       "      <td>1.000000</td>\n",
       "      <td>2.671077e-07</td>\n",
       "      <td>0.135825</td>\n",
       "      <td>-2.628218</td>\n",
       "      <td>2.631725</td>\n",
       "    </tr>\n",
       "    <tr>\n",
       "      <th>2025-01-01 12:00:00+07:00</th>\n",
       "      <td>100997.440</td>\n",
       "      <td>1.000000</td>\n",
       "      <td>2.671077e-07</td>\n",
       "      <td>0.135825</td>\n",
       "      <td>-2.628218</td>\n",
       "      <td>2.631725</td>\n",
       "    </tr>\n",
       "    <tr>\n",
       "      <th>2025-01-01 13:00:00+07:00</th>\n",
       "      <td>100997.440</td>\n",
       "      <td>1.000000</td>\n",
       "      <td>2.671077e-07</td>\n",
       "      <td>0.135825</td>\n",
       "      <td>-2.628218</td>\n",
       "      <td>2.631725</td>\n",
       "    </tr>\n",
       "  </tbody>\n",
       "</table>\n",
       "<p>306830 rows × 6 columns</p>\n",
       "</div>"
      ],
      "text/plain": [
       "                                   sp       tcc            tp       u10  \\\n",
       "time                                                                      \n",
       "1990-01-01 00:00:00+07:00  100962.625  0.909145  2.150216e-05 -0.372383   \n",
       "1990-01-01 01:00:00+07:00  100962.625  0.909145  2.150216e-05 -0.372383   \n",
       "1990-01-01 02:00:00+07:00  100962.625  0.909145  2.150216e-05 -0.372383   \n",
       "1990-01-01 03:00:00+07:00  100962.625  0.909145  2.150216e-05 -0.372383   \n",
       "1990-01-01 04:00:00+07:00  100962.625  0.909145  2.150216e-05 -0.372383   \n",
       "...                               ...       ...           ...       ...   \n",
       "2025-01-01 09:00:00+07:00  100997.440  1.000000  2.671077e-07  0.135825   \n",
       "2025-01-01 10:00:00+07:00  100997.440  1.000000  2.671077e-07  0.135825   \n",
       "2025-01-01 11:00:00+07:00  100997.440  1.000000  2.671077e-07  0.135825   \n",
       "2025-01-01 12:00:00+07:00  100997.440  1.000000  2.671077e-07  0.135825   \n",
       "2025-01-01 13:00:00+07:00  100997.440  1.000000  2.671077e-07  0.135825   \n",
       "\n",
       "                                v10  wind_speed  \n",
       "time                                             \n",
       "1990-01-01 00:00:00+07:00  0.391136    0.540052  \n",
       "1990-01-01 01:00:00+07:00  0.391136    0.540052  \n",
       "1990-01-01 02:00:00+07:00  0.391136    0.540052  \n",
       "1990-01-01 03:00:00+07:00  0.391136    0.540052  \n",
       "1990-01-01 04:00:00+07:00  0.391136    0.540052  \n",
       "...                             ...         ...  \n",
       "2025-01-01 09:00:00+07:00 -2.628218    2.631725  \n",
       "2025-01-01 10:00:00+07:00 -2.628218    2.631725  \n",
       "2025-01-01 11:00:00+07:00 -2.628218    2.631725  \n",
       "2025-01-01 12:00:00+07:00 -2.628218    2.631725  \n",
       "2025-01-01 13:00:00+07:00 -2.628218    2.631725  \n",
       "\n",
       "[306830 rows x 6 columns]"
      ]
     },
     "execution_count": 28,
     "metadata": {},
     "output_type": "execute_result"
    }
   ],
   "source": [
    "features_encoded[numerical_features]"
   ]
  },
  {
   "cell_type": "code",
   "execution_count": 29,
   "metadata": {},
   "outputs": [
    {
     "data": {
      "image/png": "[encoded data removed]",
      "text/plain": [
       "<Figure size 1200x2400 with 12 Axes>"
      ]
     },
     "metadata": {},
     "output_type": "display_data"
    }
   ],
   "source": [
    "# Classification\n",
    "# sns.histplot(\n",
    "#     data = features_encoded[numerical_features],\n",
    "#     kde  = True,\n",
    "# )\n",
    "\n",
    "# Regression\n",
    "# for col in numerical_features:\n",
    "#     plt.figure(figsize=(8, 4))\n",
    "#     sns.histplot(\n",
    "#         data = features_encoded[col],\n",
    "#         kde  = True,\n",
    "#         # bins = 50\n",
    "#     )\n",
    "#     plt.title(f'Distribution of {col}')\n",
    "#     plt.grid(True)\n",
    "#     plt.show()\n",
    "\n",
    "plots.plot_Outlier(data      = features_encoded,\n",
    "                   data_cols = numerical_features)"
   ]
  },
  {
   "cell_type": "code",
   "execution_count": 30,
   "metadata": {},
   "outputs": [],
   "source": [
    "# Scale\n",
    "# scaler = StandardScaler()\n",
    "# scaler = MinMaxScaler()\n",
    "\n",
    "# features_scale = scaler.fit_transform(features_encoded[s])\n",
    "\n",
    "# features_encoded[numerical_features] = features_scale"
   ]
  },
  {
   "cell_type": "code",
   "execution_count": 31,
   "metadata": {},
   "outputs": [
    {
     "data": {
      "application/vnd.microsoft.datawrangler.viewer.v0+json": {
       "columns": [
        {
         "name": "time",
         "rawType": "datetime64[ns, UTC+07:00]",
         "type": "unknown"
        },
        {
         "name": "sp",
         "rawType": "float64",
         "type": "float"
        },
        {
         "name": "tcc",
         "rawType": "float64",
         "type": "float"
        },
        {
         "name": "tp",
         "rawType": "float64",
         "type": "float"
        },
        {
         "name": "u10",
         "rawType": "float64",
         "type": "float"
        },
        {
         "name": "v10",
         "rawType": "float64",
         "type": "float"
        },
        {
         "name": "wind_speed",
         "rawType": "float64",
         "type": "float"
        }
       ],
       "ref": "7bfbf97a-0310-4988-a9e1-792a28a4c2c3",
       "rows": [
        [
         "1990-01-01 00:00:00+07:00",
         "100962.625",
         "0.9091449",
         "2.1502157e-05",
         "-0.37238258",
         "0.39113623",
         "0.5400521607271553"
        ],
        [
         "1990-01-01 01:00:00+07:00",
         "100962.625",
         "0.9091449",
         "2.1502157e-05",
         "-0.37238258",
         "0.39113623",
         "0.5400521607271553"
        ],
        [
         "1990-01-01 02:00:00+07:00",
         "100962.625",
         "0.9091449",
         "2.1502157e-05",
         "-0.37238258",
         "0.39113623",
         "0.5400521607271553"
        ],
        [
         "1990-01-01 03:00:00+07:00",
         "100962.625",
         "0.9091449",
         "2.1502157e-05",
         "-0.37238258",
         "0.39113623",
         "0.5400521607271553"
        ],
        [
         "1990-01-01 04:00:00+07:00",
         "100962.625",
         "0.9091449",
         "2.1502157e-05",
         "-0.37238258",
         "0.39113623",
         "0.5400521607271553"
        ],
        [
         "1990-01-01 05:00:00+07:00",
         "100962.625",
         "0.9091449",
         "2.1502157e-05",
         "-0.37238258",
         "0.39113623",
         "0.5400521607271553"
        ],
        [
         "1990-01-01 06:00:00+07:00",
         "100962.625",
         "0.9091449",
         "2.1502157e-05",
         "-0.37238258",
         "0.39113623",
         "0.5400521607271553"
        ],
        [
         "1990-01-01 07:00:00+07:00",
         "101113.875",
         "0.9539568",
         "0.0",
         "-1.7300673",
         "-1.0627861",
         "2.030430288604487"
        ],
        [
         "1990-01-01 08:00:00+07:00",
         "101226.625",
         "0.90793204",
         "4.1961857e-07",
         "-3.4188204",
         "-0.5597469",
         "3.464339694590554"
        ],
        [
         "1990-01-01 09:00:00+07:00",
         "101284.06",
         "0.9903168",
         "1.4343639e-05",
         "-3.6076584",
         "-0.42349255",
         "3.632429637445998"
        ],
        [
         "1990-01-01 10:00:00+07:00",
         "101299.81",
         "0.99999994",
         "4.8369926e-05",
         "-3.620037",
         "-0.5349377",
         "3.659347786730621"
        ],
        [
         "1990-01-01 11:00:00+07:00",
         "101257.56",
         "0.9808919",
         "8.368978e-05",
         "-3.5896215",
         "-0.6512148",
         "3.648213703855805"
        ],
        [
         "1990-01-01 12:00:00+07:00",
         "101166.625",
         "0.9488925",
         "0.00010141262",
         "-3.70784",
         "-0.53048515",
         "3.745596342369333"
        ],
        [
         "1990-01-01 13:00:00+07:00",
         "101077.56",
         "0.98002535",
         "0.00016492182",
         "-3.8433933",
         "-0.32688445",
         "3.857269176779953"
        ],
        [
         "1990-01-01 14:00:00+07:00",
         "100961.5",
         "0.87031794",
         "0.0001497003",
         "-3.7801619",
         "-0.01784971",
         "3.780204042423992"
        ],
        [
         "1990-01-01 15:00:00+07:00",
         "100873.125",
         "0.90322673",
         "8.559934e-05",
         "-3.7342358",
         "0.058550213",
         "3.7346947850452232"
        ],
        [
         "1990-01-01 16:00:00+07:00",
         "100842.125",
         "0.97195935",
         "1.977761e-05",
         "-3.819172",
         "0.5643703",
         "3.860646137773584"
        ],
        [
         "1990-01-01 17:00:00+07:00",
         "100866.25",
         "0.9926608",
         "7.6308953e-07",
         "-3.8577938",
         "0.8154721",
         "3.943040419422156"
        ],
        [
         "1990-01-01 18:00:00+07:00",
         "100902.69",
         "0.996679",
         "1.3355384e-07",
         "-3.4563465",
         "0.81477636",
         "3.5510831650184005"
        ],
        [
         "1990-01-01 19:00:00+07:00",
         "100973.0",
         "0.9972562",
         "0.0",
         "-3.3375063",
         "0.7948698",
         "3.430855039416811"
        ],
        [
         "1990-01-01 20:00:00+07:00",
         "101008.875",
         "0.98970187",
         "0.0",
         "-3.3314695",
         "0.73100305",
         "3.410726387228907"
        ],
        [
         "1990-01-01 21:00:00+07:00",
         "101071.81",
         "0.9762073",
         "0.0",
         "-3.2366066",
         "0.70848745",
         "3.313242633730748"
        ],
        [
         "1990-01-01 22:00:00+07:00",
         "101118.19",
         "0.993903",
         "0.0",
         "-2.9431067",
         "0.5957565",
         "3.002799169920816"
        ],
        [
         "1990-01-01 23:00:00+07:00",
         "101103.0",
         "0.9882822",
         "0.0",
         "-2.54603",
         "0.68477255",
         "2.636509473932059"
        ],
        [
         "1990-01-02 00:00:00+07:00",
         "101108.94",
         "0.9655587",
         "0.0",
         "-2.315526",
         "0.8350782",
         "2.461506907727712"
        ],
        [
         "1990-01-02 01:00:00+07:00",
         "101085.56",
         "0.9959927",
         "0.0",
         "-2.3683128",
         "0.86288226",
         "2.5206093138895103"
        ],
        [
         "1990-01-02 02:00:00+07:00",
         "101040.19",
         "0.97991645",
         "0.0",
         "-2.509697",
         "0.70808303",
         "2.607673409225737"
        ],
        [
         "1990-01-02 03:00:00+07:00",
         "100995.5",
         "0.9992874",
         "0.0",
         "-2.5244255",
         "0.4791432",
         "2.569494563363871"
        ],
        [
         "1990-01-02 04:00:00+07:00",
         "100999.25",
         "0.99999994",
         "0.0",
         "-2.524479",
         "0.27509224",
         "2.5394231553542266"
        ],
        [
         "1990-01-02 05:00:00+07:00",
         "101069.44",
         "0.999376",
         "0.0",
         "-2.4908495",
         "0.29136586",
         "2.5078327886890284"
        ],
        [
         "1990-01-02 06:00:00+07:00",
         "101096.06",
         "0.998578",
         "0.0",
         "-2.5611734",
         "-0.034155965",
         "2.5614011428928194"
        ],
        [
         "1990-01-02 07:00:00+07:00",
         "101170.44",
         "0.97578895",
         "0.0",
         "-3.1594782",
         "-0.27969116",
         "3.1718337978616384"
        ],
        [
         "1990-01-02 08:00:00+07:00",
         "101234.69",
         "0.9830777",
         "0.0",
         "-4.3189554",
         "-0.23454553",
         "4.325319335359199"
        ],
        [
         "1990-01-02 09:00:00+07:00",
         "101320.75",
         "0.9839833",
         "0.0",
         "-5.003149",
         "-0.0036186122",
         "5.00315030861109"
        ],
        [
         "1990-01-02 10:00:00+07:00",
         "101292.125",
         "0.9761124",
         "0.0",
         "-5.2079487",
         "0.07779747",
         "5.208529745347539"
        ],
        [
         "1990-01-02 11:00:00+07:00",
         "101257.94",
         "0.9239862",
         "0.0",
         "-5.2885427",
         "-0.1328165",
         "5.290210214386148"
        ],
        [
         "1990-01-02 12:00:00+07:00",
         "101181.875",
         "0.93815064",
         "2.2123704e-06",
         "-5.181902",
         "0.016438726",
         "5.181928074502434"
        ],
        [
         "1990-01-02 13:00:00+07:00",
         "101117.81",
         "0.8592339",
         "1.1463264e-05",
         "-5.197196",
         "0.27296728",
         "5.204359460910305"
        ],
        [
         "1990-01-02 14:00:00+07:00",
         "101056.625",
         "0.8007994",
         "9.150654e-07",
         "-5.0373297",
         "0.7563939",
         "5.093802336021619"
        ],
        [
         "1990-01-02 15:00:00+07:00",
         "100996.5",
         "0.8609738",
         "2.2127451e-06",
         "-4.929023",
         "0.53532535",
         "4.958007761680252"
        ],
        [
         "1990-01-02 16:00:00+07:00",
         "100986.375",
         "0.75557107",
         "7.6308953e-07",
         "-4.9103146",
         "0.3801927",
         "4.925011264972544"
        ],
        [
         "1990-01-02 17:00:00+07:00",
         "101003.625",
         "0.7095342",
         "0.0",
         "-4.124399",
         "0.58821136",
         "4.166132464916839"
        ],
        [
         "1990-01-02 18:00:00+07:00",
         "101008.81",
         "0.37547332",
         "0.0",
         "-3.32275",
         "0.57482046",
         "3.372104109266885"
        ],
        [
         "1990-01-02 19:00:00+07:00",
         "101087.0",
         "0.07777965",
         "0.0",
         "-3.2337904",
         "0.4692886",
         "3.267664631081672"
        ],
        [
         "1990-01-02 20:00:00+07:00",
         "101186.31",
         "0.0075755827",
         "0.0",
         "-3.1983967",
         "0.33329868",
         "3.2157160105737934"
        ],
        [
         "1990-01-02 21:00:00+07:00",
         "101226.125",
         "0.03208072",
         "0.0",
         "-3.251319",
         "0.25084847",
         "3.2609814772031966"
        ],
        [
         "1990-01-02 22:00:00+07:00",
         "101263.06",
         "0.0061233006",
         "0.0",
         "-3.2393293",
         "0.29413217",
         "3.252655537751792"
        ],
        [
         "1990-01-02 23:00:00+07:00",
         "101255.69",
         "0.018837653",
         "0.0",
         "-3.3357773",
         "0.44060946",
         "3.364750643277564"
        ],
        [
         "1990-01-03 00:00:00+07:00",
         "101257.625",
         "0.03920823",
         "0.0",
         "-3.430869",
         "0.557027",
         "3.4757936034652577"
        ],
        [
         "1990-01-03 01:00:00+07:00",
         "101255.19",
         "0.026823584",
         "0.0",
         "-3.3921947",
         "0.5050335",
         "3.4295836072080736"
        ]
       ],
       "shape": {
        "columns": 6,
        "rows": 306830
       }
      },
      "text/html": [
       "<div>\n",
       "<style scoped>\n",
       "    .dataframe tbody tr th:only-of-type {\n",
       "        vertical-align: middle;\n",
       "    }\n",
       "\n",
       "    .dataframe tbody tr th {\n",
       "        vertical-align: top;\n",
       "    }\n",
       "\n",
       "    .dataframe thead th {\n",
       "        text-align: right;\n",
       "    }\n",
       "</style>\n",
       "<table border=\"1\" class=\"dataframe\">\n",
       "  <thead>\n",
       "    <tr style=\"text-align: right;\">\n",
       "      <th></th>\n",
       "      <th>sp</th>\n",
       "      <th>tcc</th>\n",
       "      <th>tp</th>\n",
       "      <th>u10</th>\n",
       "      <th>v10</th>\n",
       "      <th>wind_speed</th>\n",
       "    </tr>\n",
       "    <tr>\n",
       "      <th>time</th>\n",
       "      <th></th>\n",
       "      <th></th>\n",
       "      <th></th>\n",
       "      <th></th>\n",
       "      <th></th>\n",
       "      <th></th>\n",
       "    </tr>\n",
       "  </thead>\n",
       "  <tbody>\n",
       "    <tr>\n",
       "      <th>1990-01-01 00:00:00+07:00</th>\n",
       "      <td>100962.625</td>\n",
       "      <td>0.909145</td>\n",
       "      <td>2.150216e-05</td>\n",
       "      <td>-0.372383</td>\n",
       "      <td>0.391136</td>\n",
       "      <td>0.540052</td>\n",
       "    </tr>\n",
       "    <tr>\n",
       "      <th>1990-01-01 01:00:00+07:00</th>\n",
       "      <td>100962.625</td>\n",
       "      <td>0.909145</td>\n",
       "      <td>2.150216e-05</td>\n",
       "      <td>-0.372383</td>\n",
       "      <td>0.391136</td>\n",
       "      <td>0.540052</td>\n",
       "    </tr>\n",
       "    <tr>\n",
       "      <th>1990-01-01 02:00:00+07:00</th>\n",
       "      <td>100962.625</td>\n",
       "      <td>0.909145</td>\n",
       "      <td>2.150216e-05</td>\n",
       "      <td>-0.372383</td>\n",
       "      <td>0.391136</td>\n",
       "      <td>0.540052</td>\n",
       "    </tr>\n",
       "    <tr>\n",
       "      <th>1990-01-01 03:00:00+07:00</th>\n",
       "      <td>100962.625</td>\n",
       "      <td>0.909145</td>\n",
       "      <td>2.150216e-05</td>\n",
       "      <td>-0.372383</td>\n",
       "      <td>0.391136</td>\n",
       "      <td>0.540052</td>\n",
       "    </tr>\n",
       "    <tr>\n",
       "      <th>1990-01-01 04:00:00+07:00</th>\n",
       "      <td>100962.625</td>\n",
       "      <td>0.909145</td>\n",
       "      <td>2.150216e-05</td>\n",
       "      <td>-0.372383</td>\n",
       "      <td>0.391136</td>\n",
       "      <td>0.540052</td>\n",
       "    </tr>\n",
       "    <tr>\n",
       "      <th>...</th>\n",
       "      <td>...</td>\n",
       "      <td>...</td>\n",
       "      <td>...</td>\n",
       "      <td>...</td>\n",
       "      <td>...</td>\n",
       "      <td>...</td>\n",
       "    </tr>\n",
       "    <tr>\n",
       "      <th>2025-01-01 09:00:00+07:00</th>\n",
       "      <td>100997.440</td>\n",
       "      <td>1.000000</td>\n",
       "      <td>2.671077e-07</td>\n",
       "      <td>0.135825</td>\n",
       "      <td>-2.628218</td>\n",
       "      <td>2.631725</td>\n",
       "    </tr>\n",
       "    <tr>\n",
       "      <th>2025-01-01 10:00:00+07:00</th>\n",
       "      <td>100997.440</td>\n",
       "      <td>1.000000</td>\n",
       "      <td>2.671077e-07</td>\n",
       "      <td>0.135825</td>\n",
       "      <td>-2.628218</td>\n",
       "      <td>2.631725</td>\n",
       "    </tr>\n",
       "    <tr>\n",
       "      <th>2025-01-01 11:00:00+07:00</th>\n",
       "      <td>100997.440</td>\n",
       "      <td>1.000000</td>\n",
       "      <td>2.671077e-07</td>\n",
       "      <td>0.135825</td>\n",
       "      <td>-2.628218</td>\n",
       "      <td>2.631725</td>\n",
       "    </tr>\n",
       "    <tr>\n",
       "      <th>2025-01-01 12:00:00+07:00</th>\n",
       "      <td>100997.440</td>\n",
       "      <td>1.000000</td>\n",
       "      <td>2.671077e-07</td>\n",
       "      <td>0.135825</td>\n",
       "      <td>-2.628218</td>\n",
       "      <td>2.631725</td>\n",
       "    </tr>\n",
       "    <tr>\n",
       "      <th>2025-01-01 13:00:00+07:00</th>\n",
       "      <td>100997.440</td>\n",
       "      <td>1.000000</td>\n",
       "      <td>2.671077e-07</td>\n",
       "      <td>0.135825</td>\n",
       "      <td>-2.628218</td>\n",
       "      <td>2.631725</td>\n",
       "    </tr>\n",
       "  </tbody>\n",
       "</table>\n",
       "<p>306830 rows × 6 columns</p>\n",
       "</div>"
      ],
      "text/plain": [
       "                                   sp       tcc            tp       u10  \\\n",
       "time                                                                      \n",
       "1990-01-01 00:00:00+07:00  100962.625  0.909145  2.150216e-05 -0.372383   \n",
       "1990-01-01 01:00:00+07:00  100962.625  0.909145  2.150216e-05 -0.372383   \n",
       "1990-01-01 02:00:00+07:00  100962.625  0.909145  2.150216e-05 -0.372383   \n",
       "1990-01-01 03:00:00+07:00  100962.625  0.909145  2.150216e-05 -0.372383   \n",
       "1990-01-01 04:00:00+07:00  100962.625  0.909145  2.150216e-05 -0.372383   \n",
       "...                               ...       ...           ...       ...   \n",
       "2025-01-01 09:00:00+07:00  100997.440  1.000000  2.671077e-07  0.135825   \n",
       "2025-01-01 10:00:00+07:00  100997.440  1.000000  2.671077e-07  0.135825   \n",
       "2025-01-01 11:00:00+07:00  100997.440  1.000000  2.671077e-07  0.135825   \n",
       "2025-01-01 12:00:00+07:00  100997.440  1.000000  2.671077e-07  0.135825   \n",
       "2025-01-01 13:00:00+07:00  100997.440  1.000000  2.671077e-07  0.135825   \n",
       "\n",
       "                                v10  wind_speed  \n",
       "time                                             \n",
       "1990-01-01 00:00:00+07:00  0.391136    0.540052  \n",
       "1990-01-01 01:00:00+07:00  0.391136    0.540052  \n",
       "1990-01-01 02:00:00+07:00  0.391136    0.540052  \n",
       "1990-01-01 03:00:00+07:00  0.391136    0.540052  \n",
       "1990-01-01 04:00:00+07:00  0.391136    0.540052  \n",
       "...                             ...         ...  \n",
       "2025-01-01 09:00:00+07:00 -2.628218    2.631725  \n",
       "2025-01-01 10:00:00+07:00 -2.628218    2.631725  \n",
       "2025-01-01 11:00:00+07:00 -2.628218    2.631725  \n",
       "2025-01-01 12:00:00+07:00 -2.628218    2.631725  \n",
       "2025-01-01 13:00:00+07:00 -2.628218    2.631725  \n",
       "\n",
       "[306830 rows x 6 columns]"
      ]
     },
     "execution_count": 31,
     "metadata": {},
     "output_type": "execute_result"
    }
   ],
   "source": [
    "features_encoded[numerical_features]"
   ]
  },
  {
   "cell_type": "code",
   "execution_count": 32,
   "metadata": {},
   "outputs": [],
   "source": [
    "# Classification\n",
    "# sns.histplot(\n",
    "#     data = features_encoded[numerical_features],\n",
    "#     kde  = True,\n",
    "# )\n",
    "\n",
    "# Regression\n",
    "# for col in numerical_features:\n",
    "#     plt.figure(figsize=(8, 4))\n",
    "#     sns.histplot(\n",
    "#         data = features_encoded[col],\n",
    "#         kde  = True,\n",
    "#         # bins = 50\n",
    "#     )\n",
    "#     plt.title(f'Distribution of {col}')\n",
    "#     plt.grid(True)\n",
    "#     plt.show()\n",
    "\n",
    "# plots.plot_Outlier(data      = features_encoded,\n",
    "#                    data_cols = numerical_features)"
   ]
  },
  {
   "cell_type": "markdown",
   "metadata": {},
   "source": [
    "#### <span style=\"color:green\">4.5. Save data</span>"
   ]
  },
  {
   "cell_type": "code",
   "execution_count": 33,
   "metadata": {},
   "outputs": [
    {
     "name": "stdout",
     "output_type": "stream",
     "text": [
      "(306830, 6)\n",
      "(306830,)\n"
     ]
    }
   ],
   "source": [
    "# Check so dong\n",
    "print(features_encoded.shape)\n",
    "print(targets_encoded.shape)"
   ]
  },
  {
   "cell_type": "code",
   "execution_count": 34,
   "metadata": {},
   "outputs": [
    {
     "name": "stdout",
     "output_type": "stream",
     "text": [
      "✅ Đã lưu: ../../data/processed/datasets_encoded/CaMau90.24_encoded.csv\n"
     ]
    }
   ],
   "source": [
    "# Reset index\n",
    "df_reset         = df.reset_index()\n",
    "features_encoded = features_encoded.reset_index(drop=True)\n",
    "targets_df       = pd.DataFrame(targets_encoded, columns=[\"wind_direction_deg\"]).reset_index(drop=True)\n",
    "\n",
    "# Thay thế giá trị ở các cột trùng trong df_reset bằng features_encoded\n",
    "df_reset[features_encoded.columns] = features_encoded[features_encoded.columns]\n",
    "\n",
    "# Tương tự \n",
    "df_reset[targets_df.columns] = targets_df[targets_df.columns]\n",
    "\n",
    "# Lưu file\n",
    "os.makedirs(\"../../data/processed/datasets_encoded/\", exist_ok=True)\n",
    "file_name = f\"../../data/processed/datasets_encoded/{station_name}90.24_encoded.csv\"\n",
    "df_reset.to_csv(file_name, index=False)\n",
    "print(f\"✅ Đã lưu: {file_name}\")"
   ]
  },
  {
   "cell_type": "code",
   "execution_count": null,
   "metadata": {},
   "outputs": [
    {
     "name": "stdout",
     "output_type": "stream",
     "text": [
      "🟡 Các giá trị đã bị thay đổi từ df ➝ df_reset:\n"
     ]
    },
    {
     "data": {
      "application/vnd.microsoft.datawrangler.viewer.v0+json": {
       "columns": [
        {
         "name": "index",
         "rawType": "int64",
         "type": "integer"
        }
       ],
       "ref": "2cda372c-b598-495e-8b07-87b5a0899408",
       "rows": [],
       "shape": {
        "columns": 0,
        "rows": 0
       }
      },
      "text/html": [
       "<div>\n",
       "<style scoped>\n",
       "    .dataframe tbody tr th:only-of-type {\n",
       "        vertical-align: middle;\n",
       "    }\n",
       "\n",
       "    .dataframe tbody tr th {\n",
       "        vertical-align: top;\n",
       "    }\n",
       "\n",
       "    .dataframe thead th {\n",
       "        text-align: right;\n",
       "    }\n",
       "</style>\n",
       "<table border=\"1\" class=\"dataframe\">\n",
       "  <thead>\n",
       "    <tr style=\"text-align: right;\">\n",
       "      <th></th>\n",
       "    </tr>\n",
       "  </thead>\n",
       "  <tbody>\n",
       "  </tbody>\n",
       "</table>\n",
       "</div>"
      ],
      "text/plain": [
       "Empty DataFrame\n",
       "Columns: []\n",
       "Index: []"
      ]
     },
     "execution_count": 36,
     "metadata": {},
     "output_type": "execute_result"
    }
   ],
   "source": [
    "# # Bảo đảm chỉ so sánh trên các cột chung\n",
    "# common_cols = df.columns.intersection(df_reset.columns)\n",
    "\n",
    "# # Reset index để so sánh từng dòng\n",
    "# df1 = df[common_cols].reset_index(drop=True)\n",
    "# df2 = df_reset[common_cols].reset_index(drop=True)\n",
    "\n",
    "# # Lưu vị trí các thay đổi\n",
    "# changes = []\n",
    "\n",
    "# for row in range(len(df1)):\n",
    "#     for col in common_cols:\n",
    "#         val_a = df1.at[row, col]\n",
    "#         val_b = df2.at[row, col]\n",
    "#         if pd.isna(val_a) and pd.isna(val_b):\n",
    "#             continue\n",
    "#         if val_a != val_b:\n",
    "#             changes.append({\n",
    "#                 \"row\": row,\n",
    "#                 \"column\": col,\n",
    "#                 \"old_value\": val_a,\n",
    "#                 \"new_value\": val_b\n",
    "#             })\n",
    "\n",
    "# # Chuyển sang DataFrame dễ đọc\n",
    "# df_changes = pd.DataFrame(changes)\n",
    "\n",
    "# print(\"🟡 Các giá trị đã bị thay đổi từ df ➝ df_reset:\")\n",
    "# df_changes"
   ]
  },
  {
   "cell_type": "markdown",
   "metadata": {},
   "source": [
    "### <span style=\"color:orange\">5.Model</span>"
   ]
  },
  {
   "cell_type": "code",
   "execution_count": 37,
   "metadata": {},
   "outputs": [],
   "source": [
    "src_encoded = dict({\"CaMau\" : \"../../data/processed/datasets_encoded/CaMau90.24_encoded.csv\",\n",
    "                    \"NB\"    : \"../../data/processed/datasets_encoded/NB90.24_encoded.csv\",\n",
    "                    \"QN\"    : \"../../data/processed/datasets_encoded/QN90.24_encoded.csv\",\n",
    "                    \"TSN\"   : \"../../data/processed/datasets_encoded/TSN90.24_encoded.csv\"})"
   ]
  },
  {
   "cell_type": "code",
   "execution_count": 38,
   "metadata": {},
   "outputs": [],
   "source": [
    "df               = pd.read_csv(filepath_or_buffer = src_encoded[station_name],\n",
    "                               parse_dates        = True,\n",
    "                               index_col          = \"time\")\n",
    "targets_encoded  = df[\"wind_direction_deg\"]\n",
    "features_encoded = df.drop(columns = [\"wind_direction_deg\"])"
   ]
  },
  {
   "cell_type": "code",
   "execution_count": 39,
   "metadata": {},
   "outputs": [
    {
     "data": {
      "application/vnd.microsoft.datawrangler.viewer.v0+json": {
       "columns": [
        {
         "name": "time",
         "rawType": "datetime64[ns, UTC+07:00]",
         "type": "unknown"
        },
        {
         "name": "latitude",
         "rawType": "float64",
         "type": "float"
        },
        {
         "name": "longitude",
         "rawType": "float64",
         "type": "float"
        },
        {
         "name": "ymd",
         "rawType": "object",
         "type": "string"
        },
        {
         "name": "year",
         "rawType": "int64",
         "type": "integer"
        },
        {
         "name": "month",
         "rawType": "int64",
         "type": "integer"
        },
        {
         "name": "day",
         "rawType": "int64",
         "type": "integer"
        },
        {
         "name": "number",
         "rawType": "float64",
         "type": "float"
        },
        {
         "name": "step",
         "rawType": "object",
         "type": "string"
        },
        {
         "name": "surface",
         "rawType": "float64",
         "type": "float"
        },
        {
         "name": "sp",
         "rawType": "float64",
         "type": "float"
        },
        {
         "name": "tcc",
         "rawType": "float64",
         "type": "float"
        },
        {
         "name": "tp",
         "rawType": "float64",
         "type": "float"
        },
        {
         "name": "u10",
         "rawType": "float64",
         "type": "float"
        },
        {
         "name": "v10",
         "rawType": "float64",
         "type": "float"
        },
        {
         "name": "wind_speed",
         "rawType": "float64",
         "type": "float"
        }
       ],
       "ref": "dea59711-4896-4aba-aeaa-1f829f233fc2",
       "rows": [
        [
         "1990-01-01 00:00:00+07:00",
         "9.18",
         "105.15",
         "1/1/1990",
         "1990",
         "1",
         "1",
         "0.0",
         "0 days",
         "0.0",
         "100962.625",
         "0.9091449",
         "2.1502157e-05",
         "-0.37238258",
         "0.39113623",
         "0.5400521607271553"
        ],
        [
         "1990-01-01 01:00:00+07:00",
         "9.18",
         "105.15",
         "1/1/1990",
         "1990",
         "1",
         "1",
         "0.0",
         "0 days",
         "0.0",
         "100962.625",
         "0.9091449",
         "2.1502157e-05",
         "-0.37238258",
         "0.39113623",
         "0.5400521607271553"
        ],
        [
         "1990-01-01 02:00:00+07:00",
         "9.18",
         "105.15",
         "1/1/1990",
         "1990",
         "1",
         "1",
         "0.0",
         "0 days",
         "0.0",
         "100962.625",
         "0.9091449",
         "2.1502157e-05",
         "-0.37238258",
         "0.39113623",
         "0.5400521607271553"
        ],
        [
         "1990-01-01 03:00:00+07:00",
         "9.18",
         "105.15",
         "1/1/1990",
         "1990",
         "1",
         "1",
         "0.0",
         "0 days",
         "0.0",
         "100962.625",
         "0.9091449",
         "2.1502157e-05",
         "-0.37238258",
         "0.39113623",
         "0.5400521607271553"
        ],
        [
         "1990-01-01 04:00:00+07:00",
         "9.18",
         "105.15",
         "1/1/1990",
         "1990",
         "1",
         "1",
         "0.0",
         "0 days",
         "0.0",
         "100962.625",
         "0.9091449",
         "2.1502157e-05",
         "-0.37238258",
         "0.39113623",
         "0.5400521607271553"
        ],
        [
         "1990-01-01 05:00:00+07:00",
         "9.18",
         "105.15",
         "1/1/1990",
         "1990",
         "1",
         "1",
         "0.0",
         "0 days",
         "0.0",
         "100962.625",
         "0.9091449",
         "2.1502157e-05",
         "-0.37238258",
         "0.39113623",
         "0.5400521607271553"
        ],
        [
         "1990-01-01 06:00:00+07:00",
         "9.18",
         "105.15",
         "1/1/1990",
         "1990",
         "1",
         "1",
         "0.0",
         "0 days",
         "0.0",
         "100962.625",
         "0.9091449",
         "2.1502157e-05",
         "-0.37238258",
         "0.39113623",
         "0.5400521607271553"
        ],
        [
         "1990-01-01 07:00:00+07:00",
         "9.18",
         "105.15",
         "1/1/1990",
         "1990",
         "1",
         "1",
         "0.0",
         "0 days",
         "0.0",
         "101113.875",
         "0.9539568",
         "0.0",
         "-1.7300673",
         "-1.0627861",
         "2.030430288604487"
        ],
        [
         "1990-01-01 08:00:00+07:00",
         "9.18",
         "105.15",
         "1/1/1990",
         "1990",
         "1",
         "1",
         "0.0",
         "0 days",
         "0.0",
         "101226.625",
         "0.90793204",
         "4.1961857e-07",
         "-3.4188204",
         "-0.5597469",
         "3.464339694590554"
        ],
        [
         "1990-01-01 09:00:00+07:00",
         "9.18",
         "105.15",
         "1/1/1990",
         "1990",
         "1",
         "1",
         "0.0",
         "0 days",
         "0.0",
         "101284.06",
         "0.9903168",
         "1.4343639e-05",
         "-3.6076584",
         "-0.42349255",
         "3.632429637445998"
        ],
        [
         "1990-01-01 10:00:00+07:00",
         "9.18",
         "105.15",
         "1/1/1990",
         "1990",
         "1",
         "1",
         "0.0",
         "0 days",
         "0.0",
         "101299.81",
         "0.99999994",
         "4.8369926e-05",
         "-3.620037",
         "-0.5349377",
         "3.659347786730621"
        ],
        [
         "1990-01-01 11:00:00+07:00",
         "9.18",
         "105.15",
         "1/1/1990",
         "1990",
         "1",
         "1",
         "0.0",
         "0 days",
         "0.0",
         "101257.56",
         "0.9808919",
         "8.368978e-05",
         "-3.5896215",
         "-0.6512148",
         "3.648213703855805"
        ],
        [
         "1990-01-01 12:00:00+07:00",
         "9.18",
         "105.15",
         "1/1/1990",
         "1990",
         "1",
         "1",
         "0.0",
         "0 days",
         "0.0",
         "101166.625",
         "0.9488925",
         "0.00010141262",
         "-3.70784",
         "-0.53048515",
         "3.745596342369333"
        ],
        [
         "1990-01-01 13:00:00+07:00",
         "9.18",
         "105.15",
         "1/1/1990",
         "1990",
         "1",
         "1",
         "0.0",
         "0 days",
         "0.0",
         "101077.56",
         "0.98002535",
         "0.00016492182",
         "-3.8433933",
         "-0.32688445",
         "3.857269176779953"
        ],
        [
         "1990-01-01 14:00:00+07:00",
         "9.18",
         "105.15",
         "1/1/1990",
         "1990",
         "1",
         "1",
         "0.0",
         "0 days",
         "0.0",
         "100961.5",
         "0.87031794",
         "0.0001497003",
         "-3.7801619",
         "-0.01784971",
         "3.780204042423992"
        ],
        [
         "1990-01-01 15:00:00+07:00",
         "9.18",
         "105.15",
         "1/1/1990",
         "1990",
         "1",
         "1",
         "0.0",
         "0 days",
         "0.0",
         "100873.125",
         "0.90322673",
         "8.559934e-05",
         "-3.7342358",
         "0.058550213",
         "3.7346947850452232"
        ],
        [
         "1990-01-01 16:00:00+07:00",
         "9.18",
         "105.15",
         "1/1/1990",
         "1990",
         "1",
         "1",
         "0.0",
         "0 days",
         "0.0",
         "100842.125",
         "0.97195935",
         "1.977761e-05",
         "-3.819172",
         "0.5643703",
         "3.860646137773584"
        ],
        [
         "1990-01-01 17:00:00+07:00",
         "9.18",
         "105.15",
         "1/1/1990",
         "1990",
         "1",
         "1",
         "0.0",
         "0 days",
         "0.0",
         "100866.25",
         "0.9926608",
         "7.6308953e-07",
         "-3.8577938",
         "0.8154721",
         "3.943040419422156"
        ],
        [
         "1990-01-01 18:00:00+07:00",
         "9.18",
         "105.15",
         "1/1/1990",
         "1990",
         "1",
         "1",
         "0.0",
         "0 days",
         "0.0",
         "100902.69",
         "0.996679",
         "1.3355384e-07",
         "-3.4563465",
         "0.81477636",
         "3.5510831650184005"
        ],
        [
         "1990-01-01 19:00:00+07:00",
         "9.18",
         "105.15",
         "1/1/1990",
         "1990",
         "1",
         "1",
         "0.0",
         "0 days",
         "0.0",
         "100973.0",
         "0.9972562",
         "0.0",
         "-3.3375063",
         "0.7948698",
         "3.430855039416811"
        ],
        [
         "1990-01-01 20:00:00+07:00",
         "9.18",
         "105.15",
         "1/1/1990",
         "1990",
         "1",
         "1",
         "0.0",
         "0 days",
         "0.0",
         "101008.875",
         "0.98970187",
         "0.0",
         "-3.3314695",
         "0.73100305",
         "3.410726387228907"
        ],
        [
         "1990-01-01 21:00:00+07:00",
         "9.18",
         "105.15",
         "1/1/1990",
         "1990",
         "1",
         "1",
         "0.0",
         "0 days",
         "0.0",
         "101071.81",
         "0.9762073",
         "0.0",
         "-3.2366066",
         "0.70848745",
         "3.313242633730748"
        ],
        [
         "1990-01-01 22:00:00+07:00",
         "9.18",
         "105.15",
         "1/1/1990",
         "1990",
         "1",
         "1",
         "0.0",
         "0 days",
         "0.0",
         "101118.19",
         "0.993903",
         "0.0",
         "-2.9431067",
         "0.5957565",
         "3.002799169920816"
        ],
        [
         "1990-01-01 23:00:00+07:00",
         "9.18",
         "105.15",
         "1/1/1990",
         "1990",
         "1",
         "1",
         "0.0",
         "0 days",
         "0.0",
         "101103.0",
         "0.9882822",
         "0.0",
         "-2.54603",
         "0.68477255",
         "2.636509473932059"
        ],
        [
         "1990-01-02 00:00:00+07:00",
         "9.18",
         "105.15",
         "2/1/1990",
         "1990",
         "1",
         "2",
         "0.0",
         "0 days",
         "0.0",
         "101108.94",
         "0.9655587",
         "0.0",
         "-2.315526",
         "0.8350782",
         "2.461506907727712"
        ],
        [
         "1990-01-02 01:00:00+07:00",
         "9.18",
         "105.15",
         "2/1/1990",
         "1990",
         "1",
         "2",
         "0.0",
         "0 days",
         "0.0",
         "101085.56",
         "0.9959927",
         "0.0",
         "-2.3683128",
         "0.86288226",
         "2.5206093138895103"
        ],
        [
         "1990-01-02 02:00:00+07:00",
         "9.18",
         "105.15",
         "2/1/1990",
         "1990",
         "1",
         "2",
         "0.0",
         "0 days",
         "0.0",
         "101040.19",
         "0.97991645",
         "0.0",
         "-2.509697",
         "0.70808303",
         "2.607673409225737"
        ],
        [
         "1990-01-02 03:00:00+07:00",
         "9.18",
         "105.15",
         "2/1/1990",
         "1990",
         "1",
         "2",
         "0.0",
         "0 days",
         "0.0",
         "100995.5",
         "0.9992874",
         "0.0",
         "-2.5244255",
         "0.4791432",
         "2.569494563363871"
        ],
        [
         "1990-01-02 04:00:00+07:00",
         "9.18",
         "105.15",
         "2/1/1990",
         "1990",
         "1",
         "2",
         "0.0",
         "0 days",
         "0.0",
         "100999.25",
         "0.99999994",
         "0.0",
         "-2.524479",
         "0.27509224",
         "2.5394231553542266"
        ],
        [
         "1990-01-02 05:00:00+07:00",
         "9.18",
         "105.15",
         "2/1/1990",
         "1990",
         "1",
         "2",
         "0.0",
         "0 days",
         "0.0",
         "101069.44",
         "0.999376",
         "0.0",
         "-2.4908495",
         "0.29136586",
         "2.5078327886890284"
        ],
        [
         "1990-01-02 06:00:00+07:00",
         "9.18",
         "105.15",
         "2/1/1990",
         "1990",
         "1",
         "2",
         "0.0",
         "0 days",
         "0.0",
         "101096.06",
         "0.998578",
         "0.0",
         "-2.5611734",
         "-0.034155965",
         "2.5614011428928194"
        ],
        [
         "1990-01-02 07:00:00+07:00",
         "9.18",
         "105.15",
         "2/1/1990",
         "1990",
         "1",
         "2",
         "0.0",
         "0 days",
         "0.0",
         "101170.44",
         "0.97578895",
         "0.0",
         "-3.1594782",
         "-0.27969116",
         "3.1718337978616384"
        ],
        [
         "1990-01-02 08:00:00+07:00",
         "9.18",
         "105.15",
         "2/1/1990",
         "1990",
         "1",
         "2",
         "0.0",
         "0 days",
         "0.0",
         "101234.69",
         "0.9830777",
         "0.0",
         "-4.3189554",
         "-0.23454553",
         "4.325319335359199"
        ],
        [
         "1990-01-02 09:00:00+07:00",
         "9.18",
         "105.15",
         "2/1/1990",
         "1990",
         "1",
         "2",
         "0.0",
         "0 days",
         "0.0",
         "101320.75",
         "0.9839833",
         "0.0",
         "-5.003149",
         "-0.0036186122",
         "5.00315030861109"
        ],
        [
         "1990-01-02 10:00:00+07:00",
         "9.18",
         "105.15",
         "2/1/1990",
         "1990",
         "1",
         "2",
         "0.0",
         "0 days",
         "0.0",
         "101292.125",
         "0.9761124",
         "0.0",
         "-5.2079487",
         "0.07779747",
         "5.208529745347539"
        ],
        [
         "1990-01-02 11:00:00+07:00",
         "9.18",
         "105.15",
         "2/1/1990",
         "1990",
         "1",
         "2",
         "0.0",
         "0 days",
         "0.0",
         "101257.94",
         "0.9239862",
         "0.0",
         "-5.2885427",
         "-0.1328165",
         "5.290210214386148"
        ],
        [
         "1990-01-02 12:00:00+07:00",
         "9.18",
         "105.15",
         "2/1/1990",
         "1990",
         "1",
         "2",
         "0.0",
         "0 days",
         "0.0",
         "101181.875",
         "0.93815064",
         "2.2123704e-06",
         "-5.181902",
         "0.016438726",
         "5.181928074502434"
        ],
        [
         "1990-01-02 13:00:00+07:00",
         "9.18",
         "105.15",
         "2/1/1990",
         "1990",
         "1",
         "2",
         "0.0",
         "0 days",
         "0.0",
         "101117.81",
         "0.8592339",
         "1.1463264e-05",
         "-5.197196",
         "0.27296728",
         "5.204359460910305"
        ],
        [
         "1990-01-02 14:00:00+07:00",
         "9.18",
         "105.15",
         "2/1/1990",
         "1990",
         "1",
         "2",
         "0.0",
         "0 days",
         "0.0",
         "101056.625",
         "0.8007994",
         "9.150654e-07",
         "-5.0373297",
         "0.7563939",
         "5.093802336021619"
        ],
        [
         "1990-01-02 15:00:00+07:00",
         "9.18",
         "105.15",
         "2/1/1990",
         "1990",
         "1",
         "2",
         "0.0",
         "0 days",
         "0.0",
         "100996.5",
         "0.8609738",
         "2.2127451e-06",
         "-4.929023",
         "0.53532535",
         "4.958007761680252"
        ],
        [
         "1990-01-02 16:00:00+07:00",
         "9.18",
         "105.15",
         "2/1/1990",
         "1990",
         "1",
         "2",
         "0.0",
         "0 days",
         "0.0",
         "100986.375",
         "0.75557107",
         "7.6308953e-07",
         "-4.9103146",
         "0.3801927",
         "4.925011264972544"
        ],
        [
         "1990-01-02 17:00:00+07:00",
         "9.18",
         "105.15",
         "2/1/1990",
         "1990",
         "1",
         "2",
         "0.0",
         "0 days",
         "0.0",
         "101003.625",
         "0.7095342",
         "0.0",
         "-4.124399",
         "0.58821136",
         "4.166132464916839"
        ],
        [
         "1990-01-02 18:00:00+07:00",
         "9.18",
         "105.15",
         "2/1/1990",
         "1990",
         "1",
         "2",
         "0.0",
         "0 days",
         "0.0",
         "101008.81",
         "0.37547332",
         "0.0",
         "-3.32275",
         "0.57482046",
         "3.372104109266885"
        ],
        [
         "1990-01-02 19:00:00+07:00",
         "9.18",
         "105.15",
         "2/1/1990",
         "1990",
         "1",
         "2",
         "0.0",
         "0 days",
         "0.0",
         "101087.0",
         "0.07777965",
         "0.0",
         "-3.2337904",
         "0.4692886",
         "3.267664631081672"
        ],
        [
         "1990-01-02 20:00:00+07:00",
         "9.18",
         "105.15",
         "2/1/1990",
         "1990",
         "1",
         "2",
         "0.0",
         "0 days",
         "0.0",
         "101186.31",
         "0.0075755827",
         "0.0",
         "-3.1983967",
         "0.33329868",
         "3.2157160105737934"
        ],
        [
         "1990-01-02 21:00:00+07:00",
         "9.18",
         "105.15",
         "2/1/1990",
         "1990",
         "1",
         "2",
         "0.0",
         "0 days",
         "0.0",
         "101226.125",
         "0.03208072",
         "0.0",
         "-3.251319",
         "0.25084847",
         "3.2609814772031966"
        ],
        [
         "1990-01-02 22:00:00+07:00",
         "9.18",
         "105.15",
         "2/1/1990",
         "1990",
         "1",
         "2",
         "0.0",
         "0 days",
         "0.0",
         "101263.06",
         "0.0061233006",
         "0.0",
         "-3.2393293",
         "0.29413217",
         "3.252655537751792"
        ],
        [
         "1990-01-02 23:00:00+07:00",
         "9.18",
         "105.15",
         "2/1/1990",
         "1990",
         "1",
         "2",
         "0.0",
         "0 days",
         "0.0",
         "101255.69",
         "0.018837653",
         "0.0",
         "-3.3357773",
         "0.44060946",
         "3.364750643277564"
        ],
        [
         "1990-01-03 00:00:00+07:00",
         "9.18",
         "105.15",
         "3/1/1990",
         "1990",
         "1",
         "3",
         "0.0",
         "0 days",
         "0.0",
         "101257.625",
         "0.03920823",
         "0.0",
         "-3.430869",
         "0.557027",
         "3.4757936034652577"
        ],
        [
         "1990-01-03 01:00:00+07:00",
         "9.18",
         "105.15",
         "3/1/1990",
         "1990",
         "1",
         "3",
         "0.0",
         "0 days",
         "0.0",
         "101255.19",
         "0.026823584",
         "0.0",
         "-3.3921947",
         "0.5050335",
         "3.4295836072080736"
        ]
       ],
       "shape": {
        "columns": 15,
        "rows": 306830
       }
      },
      "text/html": [
       "<div>\n",
       "<style scoped>\n",
       "    .dataframe tbody tr th:only-of-type {\n",
       "        vertical-align: middle;\n",
       "    }\n",
       "\n",
       "    .dataframe tbody tr th {\n",
       "        vertical-align: top;\n",
       "    }\n",
       "\n",
       "    .dataframe thead th {\n",
       "        text-align: right;\n",
       "    }\n",
       "</style>\n",
       "<table border=\"1\" class=\"dataframe\">\n",
       "  <thead>\n",
       "    <tr style=\"text-align: right;\">\n",
       "      <th></th>\n",
       "      <th>latitude</th>\n",
       "      <th>longitude</th>\n",
       "      <th>ymd</th>\n",
       "      <th>year</th>\n",
       "      <th>month</th>\n",
       "      <th>day</th>\n",
       "      <th>number</th>\n",
       "      <th>step</th>\n",
       "      <th>surface</th>\n",
       "      <th>sp</th>\n",
       "      <th>tcc</th>\n",
       "      <th>tp</th>\n",
       "      <th>u10</th>\n",
       "      <th>v10</th>\n",
       "      <th>wind_speed</th>\n",
       "    </tr>\n",
       "    <tr>\n",
       "      <th>time</th>\n",
       "      <th></th>\n",
       "      <th></th>\n",
       "      <th></th>\n",
       "      <th></th>\n",
       "      <th></th>\n",
       "      <th></th>\n",
       "      <th></th>\n",
       "      <th></th>\n",
       "      <th></th>\n",
       "      <th></th>\n",
       "      <th></th>\n",
       "      <th></th>\n",
       "      <th></th>\n",
       "      <th></th>\n",
       "      <th></th>\n",
       "    </tr>\n",
       "  </thead>\n",
       "  <tbody>\n",
       "    <tr>\n",
       "      <th>1990-01-01 00:00:00+07:00</th>\n",
       "      <td>9.18</td>\n",
       "      <td>105.15</td>\n",
       "      <td>1/1/1990</td>\n",
       "      <td>1990</td>\n",
       "      <td>1</td>\n",
       "      <td>1</td>\n",
       "      <td>0.0</td>\n",
       "      <td>0 days</td>\n",
       "      <td>0.0</td>\n",
       "      <td>100962.625</td>\n",
       "      <td>0.909145</td>\n",
       "      <td>2.150216e-05</td>\n",
       "      <td>-0.372383</td>\n",
       "      <td>0.391136</td>\n",
       "      <td>0.540052</td>\n",
       "    </tr>\n",
       "    <tr>\n",
       "      <th>1990-01-01 01:00:00+07:00</th>\n",
       "      <td>9.18</td>\n",
       "      <td>105.15</td>\n",
       "      <td>1/1/1990</td>\n",
       "      <td>1990</td>\n",
       "      <td>1</td>\n",
       "      <td>1</td>\n",
       "      <td>0.0</td>\n",
       "      <td>0 days</td>\n",
       "      <td>0.0</td>\n",
       "      <td>100962.625</td>\n",
       "      <td>0.909145</td>\n",
       "      <td>2.150216e-05</td>\n",
       "      <td>-0.372383</td>\n",
       "      <td>0.391136</td>\n",
       "      <td>0.540052</td>\n",
       "    </tr>\n",
       "    <tr>\n",
       "      <th>1990-01-01 02:00:00+07:00</th>\n",
       "      <td>9.18</td>\n",
       "      <td>105.15</td>\n",
       "      <td>1/1/1990</td>\n",
       "      <td>1990</td>\n",
       "      <td>1</td>\n",
       "      <td>1</td>\n",
       "      <td>0.0</td>\n",
       "      <td>0 days</td>\n",
       "      <td>0.0</td>\n",
       "      <td>100962.625</td>\n",
       "      <td>0.909145</td>\n",
       "      <td>2.150216e-05</td>\n",
       "      <td>-0.372383</td>\n",
       "      <td>0.391136</td>\n",
       "      <td>0.540052</td>\n",
       "    </tr>\n",
       "    <tr>\n",
       "      <th>1990-01-01 03:00:00+07:00</th>\n",
       "      <td>9.18</td>\n",
       "      <td>105.15</td>\n",
       "      <td>1/1/1990</td>\n",
       "      <td>1990</td>\n",
       "      <td>1</td>\n",
       "      <td>1</td>\n",
       "      <td>0.0</td>\n",
       "      <td>0 days</td>\n",
       "      <td>0.0</td>\n",
       "      <td>100962.625</td>\n",
       "      <td>0.909145</td>\n",
       "      <td>2.150216e-05</td>\n",
       "      <td>-0.372383</td>\n",
       "      <td>0.391136</td>\n",
       "      <td>0.540052</td>\n",
       "    </tr>\n",
       "    <tr>\n",
       "      <th>1990-01-01 04:00:00+07:00</th>\n",
       "      <td>9.18</td>\n",
       "      <td>105.15</td>\n",
       "      <td>1/1/1990</td>\n",
       "      <td>1990</td>\n",
       "      <td>1</td>\n",
       "      <td>1</td>\n",
       "      <td>0.0</td>\n",
       "      <td>0 days</td>\n",
       "      <td>0.0</td>\n",
       "      <td>100962.625</td>\n",
       "      <td>0.909145</td>\n",
       "      <td>2.150216e-05</td>\n",
       "      <td>-0.372383</td>\n",
       "      <td>0.391136</td>\n",
       "      <td>0.540052</td>\n",
       "    </tr>\n",
       "    <tr>\n",
       "      <th>...</th>\n",
       "      <td>...</td>\n",
       "      <td>...</td>\n",
       "      <td>...</td>\n",
       "      <td>...</td>\n",
       "      <td>...</td>\n",
       "      <td>...</td>\n",
       "      <td>...</td>\n",
       "      <td>...</td>\n",
       "      <td>...</td>\n",
       "      <td>...</td>\n",
       "      <td>...</td>\n",
       "      <td>...</td>\n",
       "      <td>...</td>\n",
       "      <td>...</td>\n",
       "      <td>...</td>\n",
       "    </tr>\n",
       "    <tr>\n",
       "      <th>2025-01-01 09:00:00+07:00</th>\n",
       "      <td>9.18</td>\n",
       "      <td>105.15</td>\n",
       "      <td>1/1/2025</td>\n",
       "      <td>2025</td>\n",
       "      <td>1</td>\n",
       "      <td>1</td>\n",
       "      <td>0.0</td>\n",
       "      <td>0 days</td>\n",
       "      <td>0.0</td>\n",
       "      <td>100997.440</td>\n",
       "      <td>1.000000</td>\n",
       "      <td>2.671077e-07</td>\n",
       "      <td>0.135825</td>\n",
       "      <td>-2.628218</td>\n",
       "      <td>2.631725</td>\n",
       "    </tr>\n",
       "    <tr>\n",
       "      <th>2025-01-01 10:00:00+07:00</th>\n",
       "      <td>9.18</td>\n",
       "      <td>105.15</td>\n",
       "      <td>1/1/2025</td>\n",
       "      <td>2025</td>\n",
       "      <td>1</td>\n",
       "      <td>1</td>\n",
       "      <td>0.0</td>\n",
       "      <td>0 days</td>\n",
       "      <td>0.0</td>\n",
       "      <td>100997.440</td>\n",
       "      <td>1.000000</td>\n",
       "      <td>2.671077e-07</td>\n",
       "      <td>0.135825</td>\n",
       "      <td>-2.628218</td>\n",
       "      <td>2.631725</td>\n",
       "    </tr>\n",
       "    <tr>\n",
       "      <th>2025-01-01 11:00:00+07:00</th>\n",
       "      <td>9.18</td>\n",
       "      <td>105.15</td>\n",
       "      <td>1/1/2025</td>\n",
       "      <td>2025</td>\n",
       "      <td>1</td>\n",
       "      <td>1</td>\n",
       "      <td>0.0</td>\n",
       "      <td>0 days</td>\n",
       "      <td>0.0</td>\n",
       "      <td>100997.440</td>\n",
       "      <td>1.000000</td>\n",
       "      <td>2.671077e-07</td>\n",
       "      <td>0.135825</td>\n",
       "      <td>-2.628218</td>\n",
       "      <td>2.631725</td>\n",
       "    </tr>\n",
       "    <tr>\n",
       "      <th>2025-01-01 12:00:00+07:00</th>\n",
       "      <td>9.18</td>\n",
       "      <td>105.15</td>\n",
       "      <td>1/1/2025</td>\n",
       "      <td>2025</td>\n",
       "      <td>1</td>\n",
       "      <td>1</td>\n",
       "      <td>0.0</td>\n",
       "      <td>0 days</td>\n",
       "      <td>0.0</td>\n",
       "      <td>100997.440</td>\n",
       "      <td>1.000000</td>\n",
       "      <td>2.671077e-07</td>\n",
       "      <td>0.135825</td>\n",
       "      <td>-2.628218</td>\n",
       "      <td>2.631725</td>\n",
       "    </tr>\n",
       "    <tr>\n",
       "      <th>2025-01-01 13:00:00+07:00</th>\n",
       "      <td>9.18</td>\n",
       "      <td>105.15</td>\n",
       "      <td>1/1/2025</td>\n",
       "      <td>2025</td>\n",
       "      <td>1</td>\n",
       "      <td>1</td>\n",
       "      <td>0.0</td>\n",
       "      <td>0 days</td>\n",
       "      <td>0.0</td>\n",
       "      <td>100997.440</td>\n",
       "      <td>1.000000</td>\n",
       "      <td>2.671077e-07</td>\n",
       "      <td>0.135825</td>\n",
       "      <td>-2.628218</td>\n",
       "      <td>2.631725</td>\n",
       "    </tr>\n",
       "  </tbody>\n",
       "</table>\n",
       "<p>306830 rows × 15 columns</p>\n",
       "</div>"
      ],
      "text/plain": [
       "                           latitude  longitude       ymd  year  month  day  \\\n",
       "time                                                                         \n",
       "1990-01-01 00:00:00+07:00      9.18     105.15  1/1/1990  1990      1    1   \n",
       "1990-01-01 01:00:00+07:00      9.18     105.15  1/1/1990  1990      1    1   \n",
       "1990-01-01 02:00:00+07:00      9.18     105.15  1/1/1990  1990      1    1   \n",
       "1990-01-01 03:00:00+07:00      9.18     105.15  1/1/1990  1990      1    1   \n",
       "1990-01-01 04:00:00+07:00      9.18     105.15  1/1/1990  1990      1    1   \n",
       "...                             ...        ...       ...   ...    ...  ...   \n",
       "2025-01-01 09:00:00+07:00      9.18     105.15  1/1/2025  2025      1    1   \n",
       "2025-01-01 10:00:00+07:00      9.18     105.15  1/1/2025  2025      1    1   \n",
       "2025-01-01 11:00:00+07:00      9.18     105.15  1/1/2025  2025      1    1   \n",
       "2025-01-01 12:00:00+07:00      9.18     105.15  1/1/2025  2025      1    1   \n",
       "2025-01-01 13:00:00+07:00      9.18     105.15  1/1/2025  2025      1    1   \n",
       "\n",
       "                           number    step  surface          sp       tcc  \\\n",
       "time                                                                       \n",
       "1990-01-01 00:00:00+07:00     0.0  0 days      0.0  100962.625  0.909145   \n",
       "1990-01-01 01:00:00+07:00     0.0  0 days      0.0  100962.625  0.909145   \n",
       "1990-01-01 02:00:00+07:00     0.0  0 days      0.0  100962.625  0.909145   \n",
       "1990-01-01 03:00:00+07:00     0.0  0 days      0.0  100962.625  0.909145   \n",
       "1990-01-01 04:00:00+07:00     0.0  0 days      0.0  100962.625  0.909145   \n",
       "...                           ...     ...      ...         ...       ...   \n",
       "2025-01-01 09:00:00+07:00     0.0  0 days      0.0  100997.440  1.000000   \n",
       "2025-01-01 10:00:00+07:00     0.0  0 days      0.0  100997.440  1.000000   \n",
       "2025-01-01 11:00:00+07:00     0.0  0 days      0.0  100997.440  1.000000   \n",
       "2025-01-01 12:00:00+07:00     0.0  0 days      0.0  100997.440  1.000000   \n",
       "2025-01-01 13:00:00+07:00     0.0  0 days      0.0  100997.440  1.000000   \n",
       "\n",
       "                                     tp       u10       v10  wind_speed  \n",
       "time                                                                     \n",
       "1990-01-01 00:00:00+07:00  2.150216e-05 -0.372383  0.391136    0.540052  \n",
       "1990-01-01 01:00:00+07:00  2.150216e-05 -0.372383  0.391136    0.540052  \n",
       "1990-01-01 02:00:00+07:00  2.150216e-05 -0.372383  0.391136    0.540052  \n",
       "1990-01-01 03:00:00+07:00  2.150216e-05 -0.372383  0.391136    0.540052  \n",
       "1990-01-01 04:00:00+07:00  2.150216e-05 -0.372383  0.391136    0.540052  \n",
       "...                                 ...       ...       ...         ...  \n",
       "2025-01-01 09:00:00+07:00  2.671077e-07  0.135825 -2.628218    2.631725  \n",
       "2025-01-01 10:00:00+07:00  2.671077e-07  0.135825 -2.628218    2.631725  \n",
       "2025-01-01 11:00:00+07:00  2.671077e-07  0.135825 -2.628218    2.631725  \n",
       "2025-01-01 12:00:00+07:00  2.671077e-07  0.135825 -2.628218    2.631725  \n",
       "2025-01-01 13:00:00+07:00  2.671077e-07  0.135825 -2.628218    2.631725  \n",
       "\n",
       "[306830 rows x 15 columns]"
      ]
     },
     "execution_count": 39,
     "metadata": {},
     "output_type": "execute_result"
    }
   ],
   "source": [
    "features_encoded"
   ]
  },
  {
   "cell_type": "code",
   "execution_count": 40,
   "metadata": {},
   "outputs": [
    {
     "data": {
      "application/vnd.microsoft.datawrangler.viewer.v0+json": {
       "columns": [
        {
         "name": "time",
         "rawType": "datetime64[ns, UTC+07:00]",
         "type": "unknown"
        },
        {
         "name": "wind_direction_deg",
         "rawType": "float64",
         "type": "float"
        }
       ],
       "ref": "8b10a269-a65f-41c1-84eb-b0f44900bc74",
       "rows": [
        [
         "1990-01-01 00:00:00+07:00",
         "136.40702360861093"
        ],
        [
         "1990-01-01 01:00:00+07:00",
         "136.40702360861093"
        ],
        [
         "1990-01-01 02:00:00+07:00",
         "136.40702360861093"
        ],
        [
         "1990-01-01 03:00:00+07:00",
         "136.40702360861093"
        ],
        [
         "1990-01-01 04:00:00+07:00",
         "136.40702360861093"
        ],
        [
         "1990-01-01 05:00:00+07:00",
         "136.40702360861093"
        ],
        [
         "1990-01-01 06:00:00+07:00",
         "136.40702360861093"
        ],
        [
         "1990-01-01 07:00:00+07:00",
         "58.43745545858819"
        ],
        [
         "1990-01-01 08:00:00+07:00",
         "80.70173677009932"
        ],
        [
         "1990-01-01 09:00:00+07:00",
         "83.3048549554705"
        ],
        [
         "1990-01-01 10:00:00+07:00",
         "81.59415826478448"
        ],
        [
         "1990-01-01 11:00:00+07:00",
         "79.71746064253946"
        ],
        [
         "1990-01-01 12:00:00+07:00",
         "81.85787824534525"
        ],
        [
         "1990-01-01 13:00:00+07:00",
         "85.13863587398035"
        ],
        [
         "1990-01-01 14:00:00+07:00",
         "89.7294545909328"
        ],
        [
         "1990-01-01 15:00:00+07:00",
         "90.89828425660514"
        ],
        [
         "1990-01-01 16:00:00+07:00",
         "98.40593210336588"
        ],
        [
         "1990-01-01 17:00:00+07:00",
         "101.93565218618777"
        ],
        [
         "1990-01-01 18:00:00+07:00",
         "103.26436701433268"
        ],
        [
         "1990-01-01 19:00:00+07:00",
         "103.39616029968651"
        ],
        [
         "1990-01-01 20:00:00+07:00",
         "102.375914376492"
        ],
        [
         "1990-01-01 21:00:00+07:00",
         "102.34719203818356"
        ],
        [
         "1990-01-01 22:00:00+07:00",
         "101.4434332483926"
        ],
        [
         "1990-01-01 23:00:00+07:00",
         "105.05386062394048"
        ],
        [
         "1990-01-02 00:00:00+07:00",
         "109.83148308723445"
        ],
        [
         "1990-01-02 01:00:00+07:00",
         "110.01894415798944"
        ],
        [
         "1990-01-02 02:00:00+07:00",
         "105.75582120164106"
        ],
        [
         "1990-01-02 03:00:00+07:00",
         "100.74706540060662"
        ],
        [
         "1990-01-02 04:00:00+07:00",
         "96.21897756137808"
        ],
        [
         "1990-01-02 05:00:00+07:00",
         "96.6718248000856"
        ],
        [
         "1990-01-02 06:00:00+07:00",
         "89.23594527622183"
        ],
        [
         "1990-01-02 07:00:00+07:00",
         "84.94110830390427"
        ],
        [
         "1990-01-02 08:00:00+07:00",
         "86.89154428124642"
        ],
        [
         "1990-01-02 09:00:00+07:00",
         "89.95855986487673"
        ],
        [
         "1990-01-02 10:00:00+07:00",
         "90.85583315566188"
        ],
        [
         "1990-01-02 11:00:00+07:00",
         "88.56137577709032"
        ],
        [
         "1990-01-02 12:00:00+07:00",
         "90.18176076290614"
        ],
        [
         "1990-01-02 13:00:00+07:00",
         "93.00652806833128"
        ],
        [
         "1990-01-02 14:00:00+07:00",
         "98.5396027700598"
        ],
        [
         "1990-01-02 15:00:00+07:00",
         "96.19841569537628"
        ],
        [
         "1990-01-02 16:00:00+07:00",
         "94.42742761995144"
        ],
        [
         "1990-01-02 17:00:00+07:00",
         "98.11664443180771"
        ],
        [
         "1990-01-02 18:00:00+07:00",
         "99.8147654098809"
        ],
        [
         "1990-01-02 19:00:00+07:00",
         "98.2571372889763"
        ],
        [
         "1990-01-02 20:00:00+07:00",
         "95.94920862520324"
        ],
        [
         "1990-01-02 21:00:00+07:00",
         "94.41179171058594"
        ],
        [
         "1990-01-02 22:00:00+07:00",
         "95.18824839448745"
        ],
        [
         "1990-01-02 23:00:00+07:00",
         "97.52441297765516"
        ],
        [
         "1990-01-03 00:00:00+07:00",
         "99.22192636308692"
        ],
        [
         "1990-01-03 01:00:00+07:00",
         "98.46805484215172"
        ]
       ],
       "shape": {
        "columns": 1,
        "rows": 306830
       }
      },
      "text/plain": [
       "time\n",
       "1990-01-01 00:00:00+07:00    136.407024\n",
       "1990-01-01 01:00:00+07:00    136.407024\n",
       "1990-01-01 02:00:00+07:00    136.407024\n",
       "1990-01-01 03:00:00+07:00    136.407024\n",
       "1990-01-01 04:00:00+07:00    136.407024\n",
       "                                ...    \n",
       "2025-01-01 09:00:00+07:00    357.041615\n",
       "2025-01-01 10:00:00+07:00    357.041615\n",
       "2025-01-01 11:00:00+07:00    357.041615\n",
       "2025-01-01 12:00:00+07:00    357.041615\n",
       "2025-01-01 13:00:00+07:00    357.041615\n",
       "Name: wind_direction_deg, Length: 306830, dtype: float64"
      ]
     },
     "execution_count": 40,
     "metadata": {},
     "output_type": "execute_result"
    }
   ],
   "source": [
    "targets_encoded"
   ]
  },
  {
   "cell_type": "markdown",
   "metadata": {},
   "source": [
    "#### <span style=\"color:green\">5.1. Building models</span>"
   ]
  },
  {
   "cell_type": "markdown",
   "metadata": {},
   "source": [
    "##### <span style=\"color:tomato\">Building Models ~ aproach1</span>"
   ]
  },
  {
   "cell_type": "code",
   "execution_count": 41,
   "metadata": {},
   "outputs": [],
   "source": [
    "reg_model = RandomForestRegressor(bootstrap                = True, \n",
    "                                  ccp_alpha                = 0.0, \n",
    "                                  criterion                = 'squared_error', \n",
    "                                  max_depth                = None, \n",
    "                                  max_features             = 1.0,\n",
    "                                  max_leaf_nodes           = None,\n",
    "                                  max_samples              = None, \n",
    "                                  min_impurity_decrease    = 0.0, \n",
    "                                  min_samples_leaf         = 1, \n",
    "                                  min_samples_split        = 2, \n",
    "                                  min_weight_fraction_leaf = 0.0, \n",
    "                                  monotonic_cst            = None, \n",
    "                                  n_estimators             = 100, \n",
    "                                  n_jobs                   = None, \n",
    "                                  oob_score                = False, \n",
    "                                  random_state             = None, \n",
    "                                  verbose                  = 1,               # Parameter nay dung de hien thi tien trinh train model, 1 = On; 0 = Off\n",
    "                                  warm_start               = False)"
   ]
  },
  {
   "cell_type": "markdown",
   "metadata": {},
   "source": [
    "##### <span style=\"color:tomato\">Building Models ~ aproach2</span>"
   ]
  },
  {
   "cell_type": "markdown",
   "metadata": {},
   "source": [
    "Validation Curve"
   ]
  },
  {
   "cell_type": "code",
   "execution_count": null,
   "metadata": {},
   "outputs": [],
   "source": [
    "# param_grid = {\n",
    "#     \"n_estimators\"      : [100, 300, 500],        # nhiều cây giúp giảm phương sai\n",
    "#     \"max_depth\"         : [10, 20, 30, 50, None], # để kiểm tra độ sâu và tránh overfitting\n",
    "#     \"min_samples_split\" : [2, 5, 10],             # số mẫu tối thiểu để split node\n",
    "#     \"min_samples_leaf\"  : [1, 2, 4, 8],           # mẫu tối thiểu tại mỗi lá\n",
    "#     # \"max_features\"      : [\"sqrt\", \"log2\"],       # vẫn giữ để dùng GridSearchCV, nhưng Validation Curve thì bỏ qua\n",
    "#     \"bootstrap\"         : [True, False],          # kiểm tra dùng bagging hay không\n",
    "#     \"max_samples\"       : [0.5, 0.75, 1.0]        # (mới từ sklearn 0.22) — kiểm tra nếu bootstrap=True thì lấy bao nhiêu % dữ liệu\n",
    "# }\n",
    "\n",
    "\n",
    "# train_model.plot_VC(\n",
    "#     X_data     = features_encoded,\n",
    "#     Y_data     = targets_encoded,\n",
    "#     model      = RandomForestRegressor(),\n",
    "#     param_grid = param_grid,\n",
    "#     ylim       = [0.01,1.20],\n",
    "#     n_jobs     = 4 # Quan trong: value o day quyet dinh se su dung bao nhieu processor de chay ~> cang cao cang tot\n",
    "# ) # 0.9689 ~ 0.002335721469090121 ~ np.logspace(-10, 10, 20)"
   ]
  },
  {
   "cell_type": "code",
   "execution_count": null,
   "metadata": {},
   "outputs": [],
   "source": [
    "# reg_model = RandomForestRegressor(\n",
    "#     n_estimators       = ,\n",
    "#     max_depth          = ,\n",
    "#     min_samples_split  = ,\n",
    "#     min_samples_leaf   = ,\n",
    "#     max_features       = ,\n",
    "#     bootstrap          = \n",
    "# ) "
   ]
  },
  {
   "cell_type": "code",
   "execution_count": 42,
   "metadata": {},
   "outputs": [
    {
     "data": {
      "text/plain": [
       "['../../models/trained_models/RF_model.pkl']"
      ]
     },
     "execution_count": 42,
     "metadata": {},
     "output_type": "execute_result"
    }
   ],
   "source": [
    "# Lưu model\n",
    "joblib.dump(reg_model, '../../models/trained_models/RF_model.pkl')"
   ]
  },
  {
   "cell_type": "markdown",
   "metadata": {},
   "source": [
    "##### <span style=\"color:tomato\">Building Models ~ aproach3</span>"
   ]
  },
  {
   "cell_type": "code",
   "execution_count": null,
   "metadata": {},
   "outputs": [],
   "source": [
    "# param_grid = {\n",
    "#     # \"alpha\": np.logspace(-3, 1, 20),         # Multinomial, Bernoulli\n",
    "#     \"var_smoothing\": np.logspace(-9, -5, 10) # Gaussian\n",
    "# }\n",
    "\n",
    "# reg_model = script.FindBestTuningModel(\n",
    "#     model      = GaussianNB(),\n",
    "#     param_grid = param_grid,\n",
    "#     train_X    = features_encoded,\n",
    "#     train_y    = targets_encoded\n",
    "# )"
   ]
  },
  {
   "cell_type": "markdown",
   "metadata": {},
   "source": [
    "##### <span style=\"color:tomato\">Building Models ~ aproach4</span>"
   ]
  },
  {
   "cell_type": "markdown",
   "metadata": {},
   "source": [
    "#### <span style=\"color:green\">5.2. Training models</span>"
   ]
  },
  {
   "cell_type": "code",
   "execution_count": 43,
   "metadata": {},
   "outputs": [],
   "source": [
    "X_train_encoded = features_encoded[(features_encoded[\"year\"] >= 1990) & (features_encoded[\"year\"] < 2022)]\n",
    "X_test_encoded  = features_encoded[(features_encoded[\"year\"] >= 2022) & (features_encoded[\"year\"] <= 2024)]\n",
    "\n",
    "y_train_encoded = targets_encoded[(features_encoded[\"year\"] >= 1990) & (features_encoded[\"year\"] < 2022)].reset_index(drop=True)\n",
    "y_test_encoded  = targets_encoded[(features_encoded[\"year\"] >= 2022) & (features_encoded[\"year\"] <= 2024)].reset_index(drop=True)"
   ]
  },
  {
   "cell_type": "code",
   "execution_count": 44,
   "metadata": {},
   "outputs": [
    {
     "data": {
      "text/plain": [
       "Index(['latitude', 'longitude', 'ymd', 'year', 'month', 'day', 'number',\n",
       "       'step', 'surface', 'sp', 'tcc', 'tp', 'u10', 'v10', 'wind_speed'],\n",
       "      dtype='object')"
      ]
     },
     "execution_count": 44,
     "metadata": {},
     "output_type": "execute_result"
    }
   ],
   "source": [
    "X_train_encoded.columns"
   ]
  },
  {
   "cell_type": "code",
   "execution_count": 45,
   "metadata": {},
   "outputs": [
    {
     "data": {
      "application/vnd.microsoft.datawrangler.viewer.v0+json": {
       "columns": [
        {
         "name": "index",
         "rawType": "int64",
         "type": "integer"
        },
        {
         "name": "wind_direction_deg",
         "rawType": "float64",
         "type": "float"
        }
       ],
       "ref": "7e45f536-2c31-4fb6-8cef-7df6ece44086",
       "rows": [
        [
         "0",
         "136.40702360861093"
        ],
        [
         "1",
         "136.40702360861093"
        ],
        [
         "2",
         "136.40702360861093"
        ],
        [
         "3",
         "136.40702360861093"
        ],
        [
         "4",
         "136.40702360861093"
        ],
        [
         "5",
         "136.40702360861093"
        ],
        [
         "6",
         "136.40702360861093"
        ],
        [
         "7",
         "58.43745545858819"
        ],
        [
         "8",
         "80.70173677009932"
        ],
        [
         "9",
         "83.3048549554705"
        ],
        [
         "10",
         "81.59415826478448"
        ],
        [
         "11",
         "79.71746064253946"
        ],
        [
         "12",
         "81.85787824534525"
        ],
        [
         "13",
         "85.13863587398035"
        ],
        [
         "14",
         "89.7294545909328"
        ],
        [
         "15",
         "90.89828425660514"
        ],
        [
         "16",
         "98.40593210336588"
        ],
        [
         "17",
         "101.93565218618777"
        ],
        [
         "18",
         "103.26436701433268"
        ],
        [
         "19",
         "103.39616029968651"
        ],
        [
         "20",
         "102.375914376492"
        ],
        [
         "21",
         "102.34719203818356"
        ],
        [
         "22",
         "101.4434332483926"
        ],
        [
         "23",
         "105.05386062394048"
        ],
        [
         "24",
         "109.83148308723445"
        ],
        [
         "25",
         "110.01894415798944"
        ],
        [
         "26",
         "105.75582120164106"
        ],
        [
         "27",
         "100.74706540060662"
        ],
        [
         "28",
         "96.21897756137808"
        ],
        [
         "29",
         "96.6718248000856"
        ],
        [
         "30",
         "89.23594527622183"
        ],
        [
         "31",
         "84.94110830390427"
        ],
        [
         "32",
         "86.89154428124642"
        ],
        [
         "33",
         "89.95855986487673"
        ],
        [
         "34",
         "90.85583315566188"
        ],
        [
         "35",
         "88.56137577709032"
        ],
        [
         "36",
         "90.18176076290614"
        ],
        [
         "37",
         "93.00652806833128"
        ],
        [
         "38",
         "98.5396027700598"
        ],
        [
         "39",
         "96.19841569537628"
        ],
        [
         "40",
         "94.42742761995144"
        ],
        [
         "41",
         "98.11664443180771"
        ],
        [
         "42",
         "99.8147654098809"
        ],
        [
         "43",
         "98.2571372889763"
        ],
        [
         "44",
         "95.94920862520324"
        ],
        [
         "45",
         "94.41179171058594"
        ],
        [
         "46",
         "95.18824839448745"
        ],
        [
         "47",
         "97.52441297765516"
        ],
        [
         "48",
         "99.22192636308692"
        ],
        [
         "49",
         "98.46805484215172"
        ]
       ],
       "shape": {
        "columns": 1,
        "rows": 280512
       }
      },
      "text/plain": [
       "0         136.407024\n",
       "1         136.407024\n",
       "2         136.407024\n",
       "3         136.407024\n",
       "4         136.407024\n",
       "             ...    \n",
       "280507     75.615781\n",
       "280508     72.817550\n",
       "280509     72.791138\n",
       "280510     74.409287\n",
       "280511     70.672041\n",
       "Name: wind_direction_deg, Length: 280512, dtype: float64"
      ]
     },
     "execution_count": 45,
     "metadata": {},
     "output_type": "execute_result"
    }
   ],
   "source": [
    "y_train_encoded"
   ]
  },
  {
   "cell_type": "code",
   "execution_count": 46,
   "metadata": {},
   "outputs": [
    {
     "data": {
      "text/plain": [
       "Index(['sp', 'tcc', 'tp', 'u10', 'v10', 'wind_speed'], dtype='object')"
      ]
     },
     "execution_count": 46,
     "metadata": {},
     "output_type": "execute_result"
    }
   ],
   "source": [
    "features.columns"
   ]
  },
  {
   "cell_type": "markdown",
   "metadata": {},
   "source": [
    "##### <span style=\"color:tomato\">Training Models ~ aproach1</span>"
   ]
  },
  {
   "cell_type": "code",
   "execution_count": 47,
   "metadata": {},
   "outputs": [
    {
     "name": "stderr",
     "output_type": "stream",
     "text": [
      "[Parallel(n_jobs=1)]: Done  49 tasks      | elapsed:  2.3min\n",
      "[Parallel(n_jobs=1)]: Done 100 out of 100 | elapsed:  5.1min finished\n",
      "[Parallel(n_jobs=1)]: Done  49 tasks      | elapsed:    7.3s\n",
      "[Parallel(n_jobs=1)]: Done 100 out of 100 | elapsed:   14.2s finished\n",
      "[Parallel(n_jobs=1)]: Done  49 tasks      | elapsed:    0.6s\n",
      "[Parallel(n_jobs=1)]: Done 100 out of 100 | elapsed:    1.3s finished\n"
     ]
    }
   ],
   "source": [
    "# X_train_encoded, X_test_encoded, y_train_encoded, y_test_encoded = train_test_split(features_encoded, targets_encoded, test_size = 0.2, random_state=40024090)\n",
    "# best_nb_model.fit(X_train_encoded, y_train_encoded)\n",
    "# y_pred = best_nb_model.predict(X_test_encoded)\n",
    "\n",
    "reg_model.fit(X_train_encoded[features.columns], y_train_encoded)\n",
    "\n",
    "y_fit  = pd.DataFrame(data    = reg_model.predict(X_train_encoded[features.columns]), \n",
    "                      index   = y_train_encoded.index, \n",
    "                      columns = ['wind_direction_deg'])\n",
    "y_pred = pd.DataFrame(data    = reg_model.predict(X_test_encoded[features.columns]), \n",
    "                      index   = y_test_encoded.index, \n",
    "                      columns = ['wind_direction_deg'])"
   ]
  },
  {
   "cell_type": "markdown",
   "metadata": {},
   "source": [
    "##### <span style=\"color:tomato\">Training Models ~ aproach2</span>"
   ]
  },
  {
   "cell_type": "markdown",
   "metadata": {},
   "source": [
    "Learning Curve"
   ]
  },
  {
   "cell_type": "code",
   "execution_count": null,
   "metadata": {},
   "outputs": [],
   "source": [
    "# script.plot_LC(\n",
    "#     X_data       = features_encoded,\n",
    "#     Y_data       = targets_encoded,\n",
    "#     model        = reg_model,\n",
    "#     train_sizes  = np.linspace(0.2, 1, 20),\n",
    "#     random_state = 40020409,\n",
    "#     n_jobs       = 4 # Quan trong: value o day quyet dinh se su dung bao nhieu processor de chay ~> cang cao cang tot\n",
    "# ) # 0.9693 ~ 0.4968 ~ np.linspace(0.2, 1, 20)"
   ]
  },
  {
   "cell_type": "code",
   "execution_count": null,
   "metadata": {},
   "outputs": [],
   "source": [
    "# X_train_encoded, X_test_encoded, y_train_encoded, y_test_encoded = train_test_split(\n",
    "#     features_encoded, targets_encoded, \n",
    "#     train_size   = 0.4968,\n",
    "#     random_state = 40020409\n",
    "# )\n",
    "# reg_model.fit(X_train_encoded, y_train_encoded)\n",
    "# y_pred = reg_model.predict(X_test_encoded)"
   ]
  },
  {
   "cell_type": "markdown",
   "metadata": {},
   "source": [
    "#### <span style=\"color:green\">5.3. Save models</span>"
   ]
  },
  {
   "cell_type": "code",
   "execution_count": 48,
   "metadata": {},
   "outputs": [
    {
     "data": {
      "text/plain": [
       "['../../models/trained_models/RF_trained.pkl']"
      ]
     },
     "execution_count": 48,
     "metadata": {},
     "output_type": "execute_result"
    }
   ],
   "source": [
    "# Lưu model\n",
    "joblib.dump(reg_model, '../../models/trained_models/RF_trained.pkl')"
   ]
  },
  {
   "cell_type": "markdown",
   "metadata": {},
   "source": [
    "### <span style=\"color:orange\">6.Model Evaluation</span>"
   ]
  },
  {
   "cell_type": "markdown",
   "metadata": {},
   "source": [
    "#### <span style=\"color:green\">6.1. Load model</span>"
   ]
  },
  {
   "cell_type": "code",
   "execution_count": 49,
   "metadata": {},
   "outputs": [],
   "source": [
    "# Load lại model\n",
    "reg_model = joblib.load('../../models/trained_models/RF_trained.pkl')"
   ]
  },
  {
   "cell_type": "markdown",
   "metadata": {},
   "source": [
    "#### <span style=\"color:green\">6.2. Evaluation Metrics</span>"
   ]
  },
  {
   "cell_type": "markdown",
   "metadata": {},
   "source": [
    "##### <span style=\"color:tomato\">r2_score</span>"
   ]
  },
  {
   "cell_type": "code",
   "execution_count": 50,
   "metadata": {},
   "outputs": [
    {
     "data": {
      "text/plain": [
       "0.9999929392934229"
      ]
     },
     "execution_count": 50,
     "metadata": {},
     "output_type": "execute_result"
    }
   ],
   "source": [
    "r2_score(y_true      = y_train_encoded,\n",
    "         y_pred      = y_fit,\n",
    "         multioutput = \"uniform_average\")"
   ]
  },
  {
   "cell_type": "markdown",
   "metadata": {},
   "source": [
    "##### <span style=\"color:tomato\">mean_absolute_error</span>"
   ]
  },
  {
   "cell_type": "code",
   "execution_count": 51,
   "metadata": {},
   "outputs": [
    {
     "data": {
      "text/plain": [
       "0.028921458362112504"
      ]
     },
     "execution_count": 51,
     "metadata": {},
     "output_type": "execute_result"
    }
   ],
   "source": [
    "mean_absolute_error(y_true      = y_train_encoded,\n",
    "                    y_pred      = y_fit)"
   ]
  },
  {
   "cell_type": "markdown",
   "metadata": {},
   "source": [
    "##### <span style=\"color:tomato\">mean_squared_error</span>"
   ]
  },
  {
   "cell_type": "code",
   "execution_count": 52,
   "metadata": {},
   "outputs": [
    {
     "data": {
      "text/plain": [
       "0.05372744949518033"
      ]
     },
     "execution_count": 52,
     "metadata": {},
     "output_type": "execute_result"
    }
   ],
   "source": [
    "mean_squared_error(y_true      = y_train_encoded,\n",
    "                   y_pred      = y_fit,\n",
    "                   multioutput = \"uniform_average\")"
   ]
  },
  {
   "cell_type": "markdown",
   "metadata": {},
   "source": [
    "##### <span style=\"color:tomato\">mean_squared_log_error</span>"
   ]
  },
  {
   "cell_type": "code",
   "execution_count": 53,
   "metadata": {},
   "outputs": [
    {
     "data": {
      "text/plain": [
       "0.00014787698056161305"
      ]
     },
     "execution_count": 53,
     "metadata": {},
     "output_type": "execute_result"
    }
   ],
   "source": [
    "mean_squared_log_error(y_true      = y_train_encoded,\n",
    "                       y_pred      = y_fit,\n",
    "                       multioutput = \"uniform_average\")"
   ]
  },
  {
   "cell_type": "markdown",
   "metadata": {},
   "source": [
    "##### <span style=\"color:tomato\">mean_absolute_percentage_error</span>"
   ]
  },
  {
   "cell_type": "code",
   "execution_count": 54,
   "metadata": {},
   "outputs": [
    {
     "data": {
      "text/plain": [
       "0.037168481933353856"
      ]
     },
     "execution_count": 54,
     "metadata": {},
     "output_type": "execute_result"
    }
   ],
   "source": [
    "mean_absolute_percentage_error(y_true      = y_train_encoded,\n",
    "                               y_pred      = y_fit,\n",
    "                               multioutput = \"uniform_average\")"
   ]
  },
  {
   "cell_type": "markdown",
   "metadata": {},
   "source": [
    "#### <span style=\"color:green\">6.3. Visualizing Evaluation results</span>"
   ]
  },
  {
   "cell_type": "markdown",
   "metadata": {},
   "source": [
    "##### <span style=\"color:tomato\">Training Deviance</span>"
   ]
  },
  {
   "cell_type": "code",
   "execution_count": null,
   "metadata": {},
   "outputs": [],
   "source": []
  },
  {
   "cell_type": "markdown",
   "metadata": {},
   "source": [
    "##### <span style=\"color:tomato\">Feature Importance</span>"
   ]
  },
  {
   "cell_type": "markdown",
   "metadata": {},
   "source": [
    "<a href=\"http://127.0.0.1:55658/scikit-learn-1_5/auto_examples/ensemble/plot_gradient_boosting_regression.html\">Gradient Boosting regression</a>"
   ]
  },
  {
   "cell_type": "code",
   "execution_count": null,
   "metadata": {},
   "outputs": [],
   "source": [
    "# def plot_feature_importance(model, X_train, X_test, y_test, n_repeats=10, scoring=None):\n",
    "#     import matplotlib.pyplot as plt\n",
    "#     import numpy as np\n",
    "#     from sklearn.inspection import permutation_importance\n",
    "#     from packaging.version import parse as parse_version\n",
    "#     import matplotlib\n",
    "\n",
    "#     if hasattr(model, \"estimators_\"):  # MultiOutput\n",
    "#         estimators = model.estimators_\n",
    "#     else:\n",
    "#         estimators = [model]\n",
    "\n",
    "#     for i, estimator in enumerate(estimators):\n",
    "#         fig, axes = plt.subplots(1, 2, figsize=(14, 6))\n",
    "\n",
    "#         # MDI Importance (tree attribute)\n",
    "#         if hasattr(estimator, \"feature_importances_\"):\n",
    "#             mdi_importances = estimator.feature_importances_\n",
    "#             feature_names = X_train.columns\n",
    "#             assert len(mdi_importances) == len(feature_names), f\"Số feature không khớp ở estimator {i}\"\n",
    "#             sorted_idx = np.argsort(mdi_importances)\n",
    "#             pos = np.arange(len(feature_names)) + 0.5\n",
    "\n",
    "#             axes[0].barh(pos, mdi_importances[sorted_idx], align=\"center\")\n",
    "#             axes[0].set_yticks(pos)\n",
    "#             axes[0].set_yticklabels(np.array(feature_names)[sorted_idx])\n",
    "#             axes[0].set_title(f\"Feature Importance (MDI) - Target {i}\")\n",
    "#         else:\n",
    "#             axes[0].text(0.5, 0.5, 'Model không hỗ trợ MDI importance', ha='center')\n",
    "#             axes[0].axis('off')\n",
    "\n",
    "#         # Permutation Importance (test set)\n",
    "#         result = permutation_importance(\n",
    "#             estimator, X_test, y_test.iloc[:, i] if y_test.ndim == 2 else y_test,\n",
    "#             n_repeats=n_repeats, random_state=42, n_jobs=-1, scoring=scoring\n",
    "#         )\n",
    "\n",
    "#         sorted_idx_perm = result.importances_mean.argsort()\n",
    "#         tick_labels_parameter_name = (\n",
    "#             \"tick_labels\"\n",
    "#             if parse_version(matplotlib.__version__) >= parse_version(\"3.9\")\n",
    "#             else \"labels\"\n",
    "#         )\n",
    "#         tick_labels_dict = {\n",
    "#             tick_labels_parameter_name: np.array(X_train.columns)[sorted_idx_perm]\n",
    "#         }\n",
    "\n",
    "#         axes[1].boxplot(result.importances[sorted_idx_perm].T, vert=False, **tick_labels_dict)\n",
    "#         axes[1].set_title(f\"Permutation Importance (test set) - Target {i}\")\n",
    "\n",
    "#         fig.tight_layout()\n",
    "#         plt.grid(True)\n",
    "#         plt.show()\n",
    "        \n",
    "# plot_feature_importance(\n",
    "#     model         = reg_model,\n",
    "#     X_train       = X_train_encoded[features.columns],\n",
    "#     X_test        = X_test_encoded[features.columns],\n",
    "#     y_test        = y_test_encoded,\n",
    "#     n_repeats     = 10,\n",
    "#     scoring       = None\n",
    "# )"
   ]
  },
  {
   "cell_type": "markdown",
   "metadata": {},
   "source": [
    "##### <span style=\"color:tomato\">Confusion matrix</span>"
   ]
  },
  {
   "cell_type": "markdown",
   "metadata": {},
   "source": [
    "A confusion matrix is a tool for summarizing the performance of a classification algorithm. A confusion matrix will give us a clear picture of classification model performance and the types of errors produced by the model. It gives us a summary of correct and incorrect predictions broken down by each category. The summary is represented in a tabular form.\n",
    "\n",
    "Four types of outcomes are possible while evaluating a classification model performance. These four outcomes are described below:-\n",
    "\n",
    "True Positives (TP) – True Positives occur when we predict an observation belongs to a certain class and the observation actually belongs to that class.\n",
    "\n",
    "True Negatives (TN) – True Negatives occur when we predict an observation does not belong to a certain class and the observation actually does not belong to that class.\n",
    "\n",
    "False Positives (FP) – False Positives occur when we predict an observation belongs to a certain class but the observation actually does not belong to that class. This type of error is called Type I error.\n",
    "\n",
    "False Negatives (FN) – False Negatives occur when we predict an observation does not belong to a certain class but the observation actually belongs to that class. This is a very serious error and it is called Type II error."
   ]
  },
  {
   "cell_type": "code",
   "execution_count": null,
   "metadata": {},
   "outputs": [],
   "source": [
    "# plots.plot_CF_aproach1(y_test_encoded, y_pred)"
   ]
  },
  {
   "cell_type": "code",
   "execution_count": null,
   "metadata": {},
   "outputs": [],
   "source": [
    "# script.plot_CF_aproach2(y_test_encoded, y_pred)"
   ]
  },
  {
   "cell_type": "markdown",
   "metadata": {},
   "source": [
    "##### <span style=\"color:tomato\">Classification metrices</span>"
   ]
  },
  {
   "cell_type": "markdown",
   "metadata": {},
   "source": [
    "Classification Report\n",
    "\n",
    "Classification report is another way to evaluate the classification model performance. It displays the precision, recall, f1 and support scores for the model. I have described these terms in later."
   ]
  },
  {
   "cell_type": "code",
   "execution_count": null,
   "metadata": {},
   "outputs": [],
   "source": [
    "# print(classification_report(y_test_encoded, y_pred))"
   ]
  },
  {
   "cell_type": "markdown",
   "metadata": {},
   "source": [
    "##### <span style=\"color:tomato\">Class probabilities</span>"
   ]
  },
  {
   "cell_type": "code",
   "execution_count": null,
   "metadata": {},
   "outputs": [],
   "source": [
    "# y_pred1 = best_nb_model.predict_proba(X_test_encoded)[:, 1]\n",
    "\n",
    "# # Vẽ histogram + kde\n",
    "# sns_hist = sns.histplot(\n",
    "#     y_pred1, \n",
    "#     bins=10, \n",
    "#     kde=True, \n",
    "#     edgecolor='black', \n",
    "#     alpha=0.7\n",
    "# )\n",
    "\n",
    "# # Lấy các thông tin cần từ histogram\n",
    "# counts, edges = np.histogram(y_pred1, bins=10)\n",
    "# total = len(y_pred1)\n",
    "\n",
    "# # Thêm số phần trăm lên từng cột\n",
    "# for i in range(len(counts)):\n",
    "#     bin_center = (edges[i] + edges[i+1]) / 2\n",
    "#     height = counts[i]\n",
    "#     plt.text(bin_center, height + height*0.01, \n",
    "#              f'{(counts[i]/total*100):.1f}%', \n",
    "#              ha='center', fontsize=9)\n",
    "\n",
    "# plt.title('Histogram of predicted probabilities with KDE')\n",
    "# plt.xlim(0, 1)\n",
    "# plt.xlabel('Predicted probability (class=1)')\n",
    "# plt.ylabel('Frequency')\n",
    "# plt.grid(True, axis='y')\n",
    "# plt.show()"
   ]
  },
  {
   "cell_type": "markdown",
   "metadata": {},
   "source": [
    "#### <span style=\"color:green\">6.4. Interpretation of performance</span>"
   ]
  },
  {
   "cell_type": "code",
   "execution_count": null,
   "metadata": {},
   "outputs": [],
   "source": [
    "# # # Logistic Regression\n",
    "# # lr_param_grid = {\n",
    "# #     'C': np.logspace(-4, 4, 10),    # regularization strength\n",
    "# #     'solver': ['lbfgs', 'liblinear']\n",
    "# # }\n",
    "# # best_lr_model = script.FindBestModel(\n",
    "# #     LogisticRegression(max_iter=1000),\n",
    "# #     lr_param_grid,\n",
    "# #     X_train_encoded, y_train_encoded\n",
    "# # )\n",
    "\n",
    "# # # Decision Tree\n",
    "# # dt_param_grid = {\n",
    "# #     'max_depth': [3, 5, 7, 10, None],\n",
    "# #     'min_samples_split': [2, 5, 10],\n",
    "# #     'criterion': ['gini', 'entropy']\n",
    "# # }\n",
    "# # best_dt_model = script.FindBestModel(\n",
    "# #     DecisionTreeClassifier(random_state=42),\n",
    "# #     dt_param_grid,\n",
    "# #     X_train_encoded, y_train_encoded\n",
    "# # )\n",
    "\n",
    "# # # Random Forest\n",
    "# # rf_param_grid = {\n",
    "# #     'n_estimators': [100, 300, 500],\n",
    "# #     'max_features': ['sqrt', 'log2', 5],\n",
    "# #     'max_depth': [None, 5, 10],\n",
    "# #     'min_samples_split': [2, 5, 10]\n",
    "# # }\n",
    "# # best_rf_model = script.FindBestModel(\n",
    "# #     RandomForestClassifier(random_state=42),\n",
    "# #     rf_param_grid,\n",
    "# #     X_train_encoded, y_train_encoded\n",
    "# # )\n",
    "\n",
    "# # KNN\n",
    "# # knn_param_grid = {\n",
    "# #     'n_neighbors': [3, 5, 7, 9, 11],\n",
    "# #     'weights': ['uniform', 'distance'],\n",
    "# #     'metric': ['euclidean', 'manhattan', 'minkowski']\n",
    "# # }\n",
    "# # best_knn_model = script.FindBestTuningModel(\n",
    "# #     KNeighborsClassifier(),\n",
    "# #     knn_param_grid,\n",
    "# #     X_train_encoded, y_train_encoded\n",
    "# # )\n",
    "\n",
    "# # # SVM\n",
    "# # svm_param_grid = {\n",
    "# #     'C': np.logspace(-3, 3, 7),\n",
    "# #     'kernel': ['linear', 'rbf'],\n",
    "# #     'gamma': ['scale', 'auto']\n",
    "# # }\n",
    "# # best_svm_model = script.FindBestModel(\n",
    "# #     SVC(probability=True, random_state=42),\n",
    "# #     svm_param_grid,\n",
    "# #     X_train_encoded, y_train_encoded\n",
    "# # )\n",
    "\n",
    "# # # XGBoost\n",
    "# # xgb_param_grid = {\n",
    "# #     'n_estimators': [100, 300, 500],\n",
    "# #     'max_depth': [3, 5, 7],\n",
    "# #     'learning_rate': [0.01, 0.1, 0.2],\n",
    "# #     'subsample': [0.6, 0.8, 1.0],\n",
    "# #     'colsample_bytree': [0.6, 0.8, 1.0]\n",
    "# # }\n",
    "# # best_xgb_model = script.FindBestModel(\n",
    "# #     XGBClassifier(use_label_encoder=False, eval_metric='logloss', random_state=42),\n",
    "# #     xgb_param_grid,\n",
    "# #     X_train_encoded, y_train_encoded\n",
    "# # )\n",
    "\n",
    "\n",
    "\n",
    "\n",
    "# # Logistic Regression\n",
    "# best_lr_model = LogisticRegression(C=1.0, solver='lbfgs', max_iter=1000)\n",
    "# best_lr_model.fit(X_train_encoded, y_train_encoded)\n",
    "\n",
    "# # Decision Tree\n",
    "# best_dt_model = DecisionTreeClassifier(max_depth=5, min_samples_split=2, criterion='gini', random_state=42)\n",
    "# best_dt_model.fit(X_train_encoded, y_train_encoded)\n",
    "\n",
    "# # Random Forest\n",
    "# best_rf_model = RandomForestClassifier(n_estimators=100, max_features='sqrt', max_depth=5, min_samples_split=2, random_state=42)\n",
    "# best_rf_model.fit(X_train_encoded, y_train_encoded)\n",
    "\n",
    "# # KNN\n",
    "# # best_knn_model = KNeighborsClassifier(n_neighbors=5, weights='uniform', metric='euclidean')\n",
    "# # best_knn_model.fit(X_train_encoded, y_train_encoded)\n",
    "\n",
    "# # # SVM\n",
    "# # best_svm_model = SVC(C=1.0, kernel='rbf', gamma='scale', probability=True, random_state=42)\n",
    "# # best_svm_model.fit(X_train_encoded, y_train_encoded)\n",
    "\n",
    "# # # XGBoost\n",
    "# # best_xgb_model = XGBClassifier(n_estimators=100, max_depth=5, learning_rate=0.1, subsample=0.8, colsample_bytree=0.8, use_label_encoder=False, eval_metric='logloss', random_state=42)\n",
    "# # best_xgb_model.fit(X_train_encoded, y_train_encoded)"
   ]
  },
  {
   "cell_type": "code",
   "execution_count": null,
   "metadata": {},
   "outputs": [],
   "source": [
    "# print('Logistic Regression : Training set score = {:.4f}'.format(best_lr_model.score(X_train_encoded, y_train_encoded)))\n",
    "# print('                      Test set score     = {:.4f}'.format(best_lr_model.score(X_test_encoded, y_test_encoded)))\n",
    "\n",
    "# print('Decision Tree        : Training set score = {:.4f}'.format(best_dt_model.score(X_train_encoded, y_train_encoded)))\n",
    "# print('                      Test set score     = {:.4f}'.format(best_dt_model.score(X_test_encoded, y_test_encoded)))\n",
    "\n",
    "# print('Random Forest        : Training set score = {:.4f}'.format(best_rf_model.score(X_train_encoded, y_train_encoded)))\n",
    "# print('                      Test set score     = {:.4f}'.format(best_rf_model.score(X_test_encoded, y_test_encoded)))\n",
    "\n",
    "# # print('K-Nearest Neighbors  : Training set score = {:.4f}'.format(best_knn_model.score(X_train_encoded, y_train_encoded)))\n",
    "# # print('                      Test set score     = {:.4f}'.format(best_knn_model.score(X_test_encoded, y_test_encoded)))\n",
    "\n",
    "# # print('Support Vector Machine : Training set score = {:.4f}'.format(best_svm_model.score(X_train_encoded, y_train_encoded)))\n",
    "# # print('                        Test set score     = {:.4f}'.format(best_svm_model.score(X_test_encoded, y_test_encoded)))\n",
    "\n",
    "# # print('XGBoost               : Training set score = {:.4f}'.format(best_xgb_model.score(X_train_encoded, y_train_encoded)))\n",
    "# # print('                        Test set score     = {:.4f}'.format(best_xgb_model.score(X_test_encoded, y_test_encoded)))"
   ]
  },
  {
   "cell_type": "code",
   "execution_count": null,
   "metadata": {},
   "outputs": [],
   "source": [
    "# lr_probs  = best_lr_model.predict_proba(X_test_encoded)[:, 1]\n",
    "# dt_probs  = best_dt_model.predict_proba(X_test_encoded)[:, 1]\n",
    "# rf_probs  = best_rf_model.predict_proba(X_test_encoded)[:, 1]\n",
    "# # knn_probs = best_knn_model.predict_proba(X_test_encoded)[:, 1]\n",
    "# # svm_probs = best_svm_model.predict_proba(X_test_encoded)[:, 1]\n",
    "# # xgb_probs = best_xgb_model.predict_proba(X_test_encoded)[:, 1]\n",
    "\n",
    "# y_pred1 = best_nb_model.predict_proba(X_test_encoded)[:, 1]\n",
    "\n",
    "# nb_auc = roc_auc_score(y_test_encoded, y_pred1)\n",
    "# lr_auc = roc_auc_score(y_test_encoded, lr_probs)\n",
    "# dt_auc  = roc_auc_score(y_test_encoded, dt_probs)\n",
    "# rf_auc = roc_auc_score(y_test_encoded, rf_probs)\n",
    "# # knn_auc = roc_auc_score(y_test_encoded, knn_probs)\n",
    "# # svm_auc = roc_auc_score(y_test_encoded, svm_probs)\n",
    "# # xgb_auc = roc_auc_score(y_test_encoded, xgb_probs)\n",
    "# print(f'Naive Bayes         : AUROC = {nb_auc:.3f}')\n",
    "# print(f'Logistic Regression : AUROC = {lr_auc:.3f}')\n",
    "# print(f'Decision Tree       : AUROC = {dt_auc:.3f}')\n",
    "# print(f'Random Forest       : AUROC = {rf_auc:.3f}')\n",
    "# # print(f'K-Nearest Neighbors : AUROC = {knn_auc:.3f}')\n",
    "# # print(f'SVM                 : AUROC = {svm_auc:.3f}')\n",
    "# # print(f'XGBoost             : AUROC = {xgb_auc:.3f}')"
   ]
  },
  {
   "cell_type": "code",
   "execution_count": null,
   "metadata": {},
   "outputs": [],
   "source": [
    "# nb_fpr, nb_tpr, _ = roc_curve(y_test_encoded, y_pred1)\n",
    "# lr_fpr, lr_tpr, _ = roc_curve(y_test_encoded, lr_probs)\n",
    "# fpr_dt, tpr_dt, _ = roc_curve(y_test_encoded, dt_probs)\n",
    "# rf_fpr, rf_tpr, _ = roc_curve(y_test_encoded, rf_probs)\n",
    "# # fpr_knn, tpr_knn, _ = roc_curve(y_test_encoded, knn_probs)\n",
    "# # fpr_svm, tpr_svm, _ = roc_curve(y_test_encoded, svm_probs)\n",
    "# # fpr_xgb, tpr_xgb, _ = roc_curve(y_test_encoded, xgb_probs)\n",
    "\n",
    "\n",
    "# plt.figure(figsize=(12, 8))\n",
    "# plt.plot(nb_fpr, nb_tpr,   label='Naive Bayes        (AUC = %0.4f)' % nb_auc)\n",
    "# plt.plot(lr_fpr, lr_tpr,   label='LogisticRegression (AUC = %0.4f)' % lr_auc)\n",
    "# plt.plot(fpr_dt, tpr_dt,   label=f'Decision Tree     (AUC={dt_auc:.4f})')\n",
    "# plt.plot(rf_fpr, rf_tpr,   label=f'Random Forest     (AUC = %0.4f)' % rf_auc)\n",
    "# # plt.plot(fpr_knn, tpr_knn, label=f'KNN               (AUC={knn_auc:.4f})')\n",
    "# # plt.plot(fpr_svm, tpr_svm, label=f'SVM               (AUC={svm_auc:.4f})')\n",
    "# # plt.plot(fpr_xgb, tpr_xgb, label=f'XGBoost           (AUC={xgb_auc:.4f})')\n",
    "# plt.plot([0, 1], [0, 1],   label='Random Guess       (AUC=0.500)')\n",
    "\n",
    "# plt.title('ROC Curve Comparison')\n",
    "# plt.xlabel('False Positive Rate')\n",
    "# plt.ylabel('True Positive Rate')\n",
    "# plt.grid(True)\n",
    "# plt.legend()  \n",
    "# plt.show()"
   ]
  },
  {
   "cell_type": "code",
   "execution_count": null,
   "metadata": {},
   "outputs": [],
   "source": [
    "# y_pred1 = best_rf_model.predict_proba(X_test_encoded)[:, 1]\n",
    "\n",
    "# # Vẽ histogram + kde\n",
    "# sns_hist = sns.histplot(\n",
    "#     y_pred1, \n",
    "#     bins=10, \n",
    "#     kde=True, \n",
    "#     edgecolor='black', \n",
    "#     alpha=0.7\n",
    "# )\n",
    "\n",
    "# # Lấy các thông tin cần từ histogram\n",
    "# counts, edges = np.histogram(y_pred1, bins=10)\n",
    "# total = len(y_pred1)\n",
    "\n",
    "# # Thêm số phần trăm lên từng cột\n",
    "# for i in range(len(counts)):\n",
    "#     bin_center = (edges[i] + edges[i+1]) / 2\n",
    "#     height = counts[i]\n",
    "#     plt.text(bin_center, height + height*0.01, \n",
    "#              f'{(counts[i]/total*100):.1f}%', \n",
    "#              ha='center', fontsize=9)\n",
    "\n",
    "# plt.title('Histogram of predicted probabilities with KDE')\n",
    "# plt.xlim(0, 1)\n",
    "# plt.xlabel('Predicted probability (class=1)')\n",
    "# plt.ylabel('Frequency')\n",
    "# plt.grid(True, axis='y')\n",
    "# plt.show()"
   ]
  },
  {
   "cell_type": "markdown",
   "metadata": {},
   "source": [
    "### <span style=\"color:orange\">7. Conclusion</span>"
   ]
  },
  {
   "cell_type": "code",
   "execution_count": null,
   "metadata": {},
   "outputs": [],
   "source": [
    "# # Deepcopy test_df cho tập validation\n",
    "# X_val_encoded = deepcopy(test_df)\n",
    "\n",
    "# # Sắp xếp đúng thứ tự cột gốc trước khi encode (có thể không cần nếu test_df đã đúng thứ tự)\n",
    "# X_val_encoded = X_val_encoded[columns_to_keep]\n",
    "\n",
    "# # Encode tập validation\n",
    "# X_val_cat_encoded = encoder.transform(X_val_encoded[categorical_feature])\n",
    "\n",
    "# # Tạo DataFrame mới từ cột mã hóa\n",
    "# encoded_columns = encoder.get_feature_names_out(categorical_feature)\n",
    "# X_val_cat_encoded_df = pd.DataFrame(X_val_cat_encoded, columns=encoded_columns, index=X_val_encoded.index)\n",
    "\n",
    "# # Loại bỏ cột categorical khỏi X_val_encoded\n",
    "# X_val_encoded = X_val_encoded.drop(columns=categorical_feature)\n",
    "\n",
    "# # Nối lại cột encode vào\n",
    "# X_val_encoded = pd.concat([X_val_encoded, X_val_cat_encoded_df], axis=1)\n",
    "\n",
    "# # Sắp xếp lại thứ tự cột theo đúng feature_encoded\n",
    "# X_val_encoded = X_val_encoded[features_encoded.columns]"
   ]
  },
  {
   "cell_type": "code",
   "execution_count": null,
   "metadata": {},
   "outputs": [],
   "source": [
    "# X_val_encoded.info()"
   ]
  },
  {
   "cell_type": "code",
   "execution_count": null,
   "metadata": {},
   "outputs": [],
   "source": [
    "# # Ensure X_val_encoded contains only the columns used during training\n",
    "# # X_val_encoded = X_val_encoded[columns_to_keep]\n",
    "\n",
    "# # Predict the target variable\n",
    "# y_val_predict = model.predict(X_val_encoded)"
   ]
  },
  {
   "cell_type": "code",
   "execution_count": null,
   "metadata": {},
   "outputs": [],
   "source": [
    "# y_pred2 = best_nb_model.predict_proba(X_val_encoded)[:, 1]\n",
    "\n",
    "# # Vẽ histogram + kde\n",
    "# sns_hist = sns.histplot(\n",
    "#     y_pred2, \n",
    "#     bins=10, \n",
    "#     kde=True, \n",
    "#     edgecolor='black', \n",
    "#     alpha=0.7\n",
    "# )\n",
    "\n",
    "# # Lấy các thông tin cần từ histogram\n",
    "# counts, edges = np.histogram(y_pred2, bins=10)\n",
    "# total = len(y_pred2)\n",
    "\n",
    "# # Thêm số phần trăm lên từng cột\n",
    "# for i in range(len(counts)):\n",
    "#     bin_center = (edges[i] + edges[i+1]) / 2\n",
    "#     height = counts[i]\n",
    "#     plt.text(bin_center, height + height*0.01, \n",
    "#              f'{(counts[i]/total*100):.1f}%', \n",
    "#              ha='center', fontsize=9)\n",
    "\n",
    "# plt.title('Histogram of predicted probabilities with KDE')\n",
    "# plt.xlim(0, 1)\n",
    "# plt.xlabel('Predicted probability (class=1)')\n",
    "# plt.ylabel('Frequency')\n",
    "# plt.grid(True, axis='y')\n",
    "# plt.show()"
   ]
  }
 ],
 "metadata": {
  "kernelspec": {
   "display_name": ".venv",
   "language": "python",
   "name": "python3"
  },
  "language_info": {
   "codemirror_mode": {
    "name": "ipython",
    "version": 3
   },
   "file_extension": ".py",
   "mimetype": "text/x-python",
   "name": "python",
   "nbconvert_exporter": "python",
   "pygments_lexer": "ipython3",
   "version": "3.11.9"
  }
 },
 "nbformat": 4,
 "nbformat_minor": 2
}
